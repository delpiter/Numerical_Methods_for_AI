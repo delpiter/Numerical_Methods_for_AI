{
 "cells": [
  {
   "cell_type": "markdown",
   "id": "b97be3ab-d6dd-495f-a342-e5e837cfb8bc",
   "metadata": {},
   "source": [
    "# Esercitazione 4 - 11 Marzo 2025\n",
    " "
   ]
  },
  {
   "cell_type": "markdown",
   "id": "3f58ec10-478d-463a-9828-9f4d7fbd2f2c",
   "metadata": {},
   "source": [
    "Esplorate le caratteristiche dell'insieme dei numeri di macchina F($\\beta$,t,L,U) sul vostro calcolatore utilizzando il comando sys.float_info, dopo aver importato im modulo sys:\n",
    "\n",
    "import sys\n",
    "\n",
    "print(sys.float_info)"
   ]
  },
  {
   "cell_type": "code",
   "execution_count": 39,
   "id": "273f9609-7d7d-4969-94be-ebb51ee87bfb",
   "metadata": {},
   "outputs": [
    {
     "name": "stdout",
     "output_type": "stream",
     "text": [
      "sys.float_info(max=1.7976931348623157e+308, max_exp=1024, max_10_exp=308, min=2.2250738585072014e-308, min_exp=-1021, min_10_exp=-307, dig=15, mant_dig=53, epsilon=2.220446049250313e-16, radix=2, rounds=1)\n"
     ]
    }
   ],
   "source": [
    "import sys\n",
    "import numpy as np\n",
    "import matplotlib.pyplot as plt\n",
    "print(sys.float_info)"
   ]
  },
  {
   "cell_type": "markdown",
   "id": "224ac7e6-31df-4f15-8ffc-9c82bd21c82e",
   "metadata": {},
   "source": [
    "- **1.**  Calcolare lo spacing in  $[2^{52}, 2^{53}]$.\n",
    "    - Sia $x=2^{52}$ individuare il numero successivo a $2^{52}$ ed assegnarlo ad una variabile  y.\n",
    "    - Cosa succede se consideriamo il valore z=x+0.5?\n",
    "    - Cosa succede se consideriamo il valore q=y+0.5?\n",
    "  "
   ]
  },
  {
   "cell_type": "code",
   "execution_count": 28,
   "id": "378c7b40-e698-4557-ba96-a12400548a84",
   "metadata": {},
   "outputs": [
    {
     "name": "stdout",
     "output_type": "stream",
     "text": [
      "4503599627370496.0 4503599627370497.0\n",
      "4503599627370496.0 4503599627370498.0\n",
      "1.0 1.0\n"
     ]
    }
   ],
   "source": [
    "p=52\n",
    "t=53\n",
    "beta=2.0\n",
    "spacing=beta**(p+1-t)\n",
    "x=2.0**52\n",
    "y=x+spacing\n",
    "print(x,y)\n",
    "z=x+0.5\n",
    "q=y+0.5\n",
    "print(z,q)\n",
    "print(spacing, np.spacing(2**52))"
   ]
  },
  {
   "cell_type": "markdown",
   "id": "c73d1758-eb82-48af-8618-6dfb522dcdd6",
   "metadata": {},
   "source": [
    "- **2** Calcolare la cardinalità dell'insieme dei numeri finiti di Python"
   ]
  },
  {
   "cell_type": "code",
   "execution_count": 12,
   "id": "0c523887-7de1-4f11-813b-e00abb8b3452",
   "metadata": {},
   "outputs": [
    {
     "data": {
      "text/plain": [
       "1.842872967520007e+19"
      ]
     },
     "execution_count": 12,
     "metadata": {},
     "output_type": "execute_result"
    }
   ],
   "source": [
    "c=2*(beta-1)*(beta**(t-1))*(sys.float_info.max_exp-sys.float_info.min_exp+1)+1\n",
    "c"
   ]
  },
  {
   "cell_type": "markdown",
   "id": "cee853bd-aca6-47f4-980f-7e44473f7523",
   "metadata": {},
   "source": [
    "- **3**  Verificare numericamente che $\\texttt{eps} = 2^{-52}$, spacing nell'intervallo $[2^0, 2^1]$,\n",
    "è il piu' piccolo $x$ tale che $fl(1 + x)$ è  diverso da $1$."
   ]
  },
  {
   "cell_type": "code",
   "execution_count": 20,
   "id": "82b9b565-a31c-46cc-b52b-ec469f450873",
   "metadata": {},
   "outputs": [
    {
     "name": "stdout",
     "output_type": "stream",
     "text": [
      "2.220446049250313e-16 2.220446049250313e-16 1.0 1.0000000000000002\n"
     ]
    }
   ],
   "source": [
    "p=0\n",
    "t=53\n",
    "beta=2\n",
    "spacing=beta**(p+1-t)\n",
    "esp=2**(-52)\n",
    "print(spacing, esp, 1.0, 1.0+spacing)"
   ]
  },
  {
   "cell_type": "markdown",
   "id": "d19cd104-d1ea-4444-996c-0a9672063450",
   "metadata": {},
   "source": [
    "- **4.** Siano $a=0.1234567890123400 e+16$, $b=-0.1234567890123401 e+16$, $c=0.06$. \n",
    "  Calcolare $(a+b)+c$, $(a+c)+b$, $a+(b+c)$. Che cosa si osserva? Ripetere l'esercizio con $a=0.23371258 e-4$, $b=0.33678429 e+2$, $c=-0.33677911 e+2$."
   ]
  },
  {
   "cell_type": "code",
   "execution_count": 29,
   "id": "3db303c6-7fe1-46f3-b5ec-ee162a51736f",
   "metadata": {},
   "outputs": [
    {
     "name": "stdout",
     "output_type": "stream",
     "text": [
      "-0.94 -1.0 -1.0\n",
      "0.25\n",
      "0.0005413712580022434 0.0005413712580022434 0.0005413712579995743\n",
      "3.3881317890172014e-21\n"
     ]
    }
   ],
   "source": [
    "a=0.1234567890123400e+16\n",
    "b=-0.1234567890123401e+16\n",
    "c=0.06\n",
    "d=(a+b)+c\n",
    "e=(a+c)+b\n",
    "f=a+(b+c)\n",
    "print(d,e,f)\n",
    "#spacing of a number in its interval\n",
    "print(np.spacing(a))\n",
    "\n",
    "a=0.23371258e-4\n",
    "b=0.33678429e+2\n",
    "c=-0.33677911e+2\n",
    "d=(a+b)+c\n",
    "e=(a+c)+b\n",
    "f=a+(b+c)\n",
    "print(d,e,f)\n",
    "print(np.spacing(a))"
   ]
  },
  {
   "cell_type": "markdown",
   "id": "269a23ac-daeb-49f4-b1f1-26a3b5cd8300",
   "metadata": {},
   "source": [
    "- **5** Costruire un numpy array costituito da n=10 valori tutti uguali a 0.1\n",
    "-     Effettuate la somma utilizzando un ciclo for.\n",
    "-     Effettuate la somma effettuando la somma con la funzione sum del modulo numpy.\n",
    "  Cosa osservate? Cercate di giustificare i risultati "
   ]
  },
  {
   "cell_type": "code",
   "execution_count": 36,
   "id": "5705af58-c27d-4c10-b9e2-18ae5bd2be7d",
   "metadata": {},
   "outputs": [
    {
     "name": "stdout",
     "output_type": "stream",
     "text": [
      "0.9999999999999999 1.0\n"
     ]
    }
   ],
   "source": [
    "x=[0.1 for i in range(0,10)]\n",
    "sum=0\n",
    "for i in x:\n",
    "    sum+=i\n",
    "print(sum, np.sum(x))"
   ]
  },
  {
   "cell_type": "markdown",
   "id": "960d25c1-9677-4b1e-92c1-c16870d520b6",
   "metadata": {},
   "source": [
    "- **6.** Si considerino le espressioni $y_1=\\sqrt{x^2+1}-x$ e $y_2=\\frac{1}{\\sqrt{x^2+1}+x}$. Calcolare il valore di $y_1$ e $y_2$ per $x=7777$ e $x=77777777$. Che cosa si osserva? Commentare i risultati ottenuti."
   ]
  },
  {
   "cell_type": "code",
   "execution_count": 33,
   "id": "55c6c0f4-28b3-45a8-9487-f56cebe87368",
   "metadata": {},
   "outputs": [
    {
     "name": "stdout",
     "output_type": "stream",
     "text": [
      "6.429214317904552e-05 0.0\n",
      "6.429214323431402e-05 6.428571492857143e-09\n"
     ]
    }
   ],
   "source": [
    "f=lambda x: np.sqrt(x**2+1)-x\n",
    "g=lambda x: 1/(np.sqrt(x**2+1)+x)\n",
    "print(f(7777), f(77777777))\n",
    "print(g(7777), g(77777777))"
   ]
  },
  {
   "cell_type": "markdown",
   "id": "e3d8c3b3-d514-41ec-a6f2-eb22311ab157",
   "metadata": {},
   "source": [
    "- **7.** Valutare in aritmetica floating point l'espressione\n",
    "$$A(x)=\\frac{1}{x}-\\frac{1}{(x+1)}$$  nel vettore   $x=[10^0, 10^1,... ,10^{20}]$ contenente potenze successive  di $10$,  Si calcoli per ogni elemento di x l'errore relativo considerando come valore esatto quello calcolato usando  l'espressione algebricamente equivalente\n",
    "$$\n",
    "B(x)=\\frac{1}{x (x+1)}.\n",
    "$$ Si visualizzi l'errore relativo in un grafico in scala logaritmica su $x$ e $y$"
   ]
  },
  {
   "cell_type": "code",
   "execution_count": 56,
   "id": "e23d4cda-7f36-419a-9ca9-98ca134af2ba",
   "metadata": {},
   "outputs": [
    {
     "data": {
      "text/plain": [
       "[<matplotlib.lines.Line2D at 0x7fb72e3f53a0>]"
      ]
     },
     "execution_count": 56,
     "metadata": {},
     "output_type": "execute_result"
    },
    {
     "data": {
      "image/png": "[encoded data removed]",
      "text/plain": [
       "<Figure size 640x480 with 1 Axes>"
      ]
     },
     "metadata": {},
     "output_type": "display_data"
    }
   ],
   "source": [
    "A=lambda x: 1/x - 1/(x+1)\n",
    "B=lambda x: 1/(x*(x+1))\n",
    "nums=[10**i for i in range(0,21)]\n",
    "#for i in nums:\n",
    "#    print(i)\n",
    "#print(nums)\n",
    "alpha=[B(x) for x in nums]\n",
    "flalpha=[A(x) for x in nums]\n",
    "#print(flalpha, alpha)\n",
    "#for i in range (0,len(nums)):\n",
    "#    print(alpha[i]==flalpha[i])\n",
    "relErrors=[np.abs(alpha[i]-flalpha[i])/np.abs(alpha[i]) for i in range(0,len(nums))]\n",
    "plt.loglog(nums, relErrors, 'r-')"
   ]
  },
  {
   "cell_type": "markdown",
   "id": "9f6294cc-b0df-40b8-a1f5-450f4e756ffa",
   "metadata": {},
   "source": [
    "- **8.** Scrivere uno script Matlab che fornisca le approssimazioni di $e=\\exp(1)$ ottenute con la formula\n",
    "$f(n)=(1/n+1)^n$ per $n=10^k$ e  $k=0, ..., 16$. Visualizzare: un grafico con i valori di $f(n)$ al variare di n ed un grafico con i valori dell'errore relativo (considerando come valore esatto il valore math.exp(1)).  Cosa si osserva? Commentare i risultati ottenuti."
   ]
  },
  {
   "cell_type": "code",
   "execution_count": null,
   "id": "b52937d8-439c-46f0-8464-8a8cf3990a1d",
   "metadata": {},
   "outputs": [],
   "source": []
  }
 ],
 "metadata": {
  "kernelspec": {
   "display_name": "Python 3 (ipykernel)",
   "language": "python",
   "name": "python3"
  },
  "language_info": {
   "codemirror_mode": {
    "name": "ipython",
    "version": 3
   },
   "file_extension": ".py",
   "mimetype": "text/x-python",
   "name": "python",
   "nbconvert_exporter": "python",
   "pygments_lexer": "ipython3",
   "version": "3.12.3"
  }
 },
 "nbformat": 4,
 "nbformat_minor": 5
}
