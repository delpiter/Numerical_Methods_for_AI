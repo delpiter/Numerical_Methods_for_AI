{
 "cells": [
  {
   "cell_type": "markdown",
   "id": "wFjJxN88-_Xw",
   "metadata": {
    "id": "wFjJxN88-_Xw"
   },
   "source": [
    "# **Classificazione di immagini tramite Multi-Layer Perceptron (MLP)**\n",
    "\n",
    "In questa esercitazione impariamo a risolvere un problema di classificazione utilizzando una semplice rete neurale MLP.\n",
    "\n",
    "I dati di input sono immagini, quindi sono dati ad **alta dimensionalità**, presi dal dataset Euclid (lo trovate su Virtuale).\n",
    "\n",
    "La rete impara (*learn*) **da sola** a capire come risolvere il problema."
   ]
  },
  {
   "cell_type": "markdown",
   "id": "FQx0egnB_ZTb",
   "metadata": {
    "id": "FQx0egnB_ZTb"
   },
   "source": [
    "### Librerie\n",
    "Importiamo qui le librerie necessarie alla soluzione:\n",
    "\n",
    "*   `Scikit-Learn (sklearn)`: libreria molto potente e vasta principalmente creata per il **Machine Learning** (con alcuni elementi di Deep Learning, come le reti MLP).\n",
    "*   `OpenCV (cv2)`: libreria utilizzata principalmente per gestire le immagini a livello di codice.\n"
   ]
  },
  {
   "cell_type": "code",
   "execution_count": 5,
   "id": "d39427db-e6d8-49d0-a395-6d96344edaba",
   "metadata": {
    "id": "d39427db-e6d8-49d0-a395-6d96344edaba"
   },
   "outputs": [],
   "source": [
    "from sklearn.neural_network import MLPClassifier\n",
    "from sklearn.metrics import accuracy_score\n",
    "import numpy as np\n",
    "from glob import glob\n",
    "from os.path import join\n",
    "from tqdm import tqdm\n",
    "import cv2"
   ]
  },
  {
   "cell_type": "markdown",
   "id": "jKOGvTBK_dPb",
   "metadata": {
    "id": "jKOGvTBK_dPb"
   },
   "source": [
    "### Funzioni di supporto\n",
    "Qui definiamo le funzioni che utilizzeremo nella nostra soluzione.\n",
    "\n",
    "Le funzioni sono utili per avere un codice più modulare e ordinato."
   ]
  },
  {
   "cell_type": "markdown",
   "id": "xI3jL4Kd_ksT",
   "metadata": {
    "id": "xI3jL4Kd_ksT"
   },
   "source": [
    "`get_labels()` è una funzione che riceve il nome del dato (`string`) e restituisce la classe - **etichetta** -  (`int`), seguendo questa convenzione:\n",
    "\n",
    "*   Triangolo: 0\n",
    "*   Rettangolo: 1\n",
    "*   Quadrato: 2\n",
    "*   Rombo: 3\n",
    "\n",
    "Esempio: 0_triangle.png → 0"
   ]
  },
  {
   "cell_type": "code",
   "execution_count": 6,
   "id": "vJitaZqSPjXR",
   "metadata": {
    "id": "vJitaZqSPjXR"
   },
   "outputs": [],
   "source": [
    "def get_labels(name):\n",
    "    if 'triangle' in name:\n",
    "        return 0\n",
    "    elif 'square' in name:\n",
    "        return 1\n",
    "    elif 'rectangle' in name:\n",
    "        return 2\n",
    "    elif 'rhombus' in name:\n",
    "        return 3\n",
    "    else:\n",
    "        raise NotImplementedError('Not existing class!')"
   ]
  },
  {
   "cell_type": "markdown",
   "id": "iCKF6YtKeCXX",
   "metadata": {
    "id": "iCKF6YtKeCXX"
   },
   "source": [
    "`extract_feature()` è una funzione che, data una lista di immagini, calcola le feature associate. Per noi oggi, queste feature corrispondono al contenuto delle immagini \"srotolato\" con valori compresi tra 0 e 1.\n",
    "\n",
    "Per aprire le immagini utilizziamo la libreria `opencv`. Il contenuto delle immagini viene normalizzato tra 0 e 1.\n",
    "\n",
    "**Tools**:\n",
    "*   `cv2.imread()`: apre un'immagine (0: livelli di grigio, 1: colori)\n",
    "*   `cv2.resize()`: ridimensiona un'immagine\n"
   ]
  },
  {
   "cell_type": "code",
   "execution_count": 7,
   "id": "IDDhAWA_etlP",
   "metadata": {
    "id": "IDDhAWA_etlP"
   },
   "outputs": [],
   "source": [
    "def extract_features(images, feat_type, img_size):\n",
    "\n",
    "    labels = []\n",
    "    features = []\n",
    "\n",
    "    for image in tqdm(images):\n",
    "\n",
    "        # open the image\n",
    "        img = cv2.imread(image, 0)\n",
    "\n",
    "        # resize the image\n",
    "        img = cv2.resize(img, (img_size, img_size))\n",
    "\n",
    "        # compute the features\n",
    "        if feat_type == 'img':\n",
    "            img = img / 255.0\n",
    "            feat = np.ravel(img)\n",
    "        else:\n",
    "            raise NotImplementedError('Not implemented feature!')\n",
    "\n",
    "        # append features and labels\n",
    "        features.append(feat)\n",
    "        labels.append(get_labels(image))\n",
    "\n",
    "    return features, labels"
   ]
  },
  {
   "cell_type": "markdown",
   "id": "zM7mgZQxBub7",
   "metadata": {
    "id": "zM7mgZQxBub7"
   },
   "source": [
    "### Soluzione\n",
    "Carica il file .zip che contiene il dataset *Euclid*.\n",
    "Estrai il contenuto con il comando seguente:"
   ]
  },
  {
   "cell_type": "markdown",
   "id": "5796cf31-680b-474b-8227-87b4a607915f",
   "metadata": {
    "id": "-KWjFztWfYlJ"
   },
   "source": [
    "!unzip -q Euclid_dataset.zip -d ./content"
   ]
  },
  {
   "cell_type": "code",
   "execution_count": 9,
   "id": "F9UfwAokQcMJ",
   "metadata": {
    "id": "F9UfwAokQcMJ"
   },
   "outputs": [
    {
     "name": "stdout",
     "output_type": "stream",
     "text": [
      "Images:  800\n"
     ]
    }
   ],
   "source": [
    "dataset_path = './content/Euclid_dataset'\n",
    "images = glob(join(dataset_path, '*', '*.png'))\n",
    "print('Images: ', len(images))"
   ]
  },
  {
   "cell_type": "markdown",
   "id": "nL_HkwmsCCQ0",
   "metadata": {
    "id": "nL_HkwmsCCQ0"
   },
   "source": [
    "Ora è fondamentale dividere il nostro dataset in train, validation e test.\n",
    "Prima di fare questo è necessario mescolare tutti i dati.\n",
    "\n",
    "**Tools**:\n",
    "-    `np.random.shuffle()`: modifica una sequenza mescolando gli elementi."
   ]
  },
  {
   "cell_type": "code",
   "execution_count": 10,
   "id": "SXKiO_paQjI4",
   "metadata": {
    "id": "SXKiO_paQjI4"
   },
   "outputs": [
    {
     "name": "stdout",
     "output_type": "stream",
     "text": [
      "Prima shuffling: ['./content/Euclid_dataset/square/60_square.png', './content/Euclid_dataset/square/43_square.png', './content/Euclid_dataset/square/89_square.png', './content/Euclid_dataset/square/138_square.png', './content/Euclid_dataset/square/70_square.png', './content/Euclid_dataset/square/93_square.png', './content/Euclid_dataset/square/108_square.png', './content/Euclid_dataset/square/190_square.png', './content/Euclid_dataset/square/167_square.png', './content/Euclid_dataset/square/162_square.png']\n",
      "Dopo shuffling: ['./content/Euclid_dataset/square/117_square.png', './content/Euclid_dataset/rhombus/37_rhombus.png', './content/Euclid_dataset/triangle/9_triangle.png', './content/Euclid_dataset/square/100_square.png', './content/Euclid_dataset/rectangle/125_rectangle.png', './content/Euclid_dataset/rectangle/77_rectangle.png', './content/Euclid_dataset/rhombus/19_rhombus.png', './content/Euclid_dataset/square/17_square.png', './content/Euclid_dataset/rectangle/101_rectangle.png', './content/Euclid_dataset/square/31_square.png']\n"
     ]
    }
   ],
   "source": [
    "print('Prima shuffling: {}'.format(images[:10]))\n",
    "np.random.shuffle(images)\n",
    "print('Dopo shuffling: {}'.format(images[:10]))"
   ]
  },
  {
   "cell_type": "markdown",
   "id": "wKpyTz4HCLcC",
   "metadata": {
    "id": "wKpyTz4HCLcC"
   },
   "source": [
    "Mettiamo il **20% dei dati in training, 20% in validation**, e la rimanente parte **(60%) nel test set**."
   ]
  },
  {
   "cell_type": "code",
   "execution_count": 11,
   "id": "fipgi_u-QnlP",
   "metadata": {
    "id": "fipgi_u-QnlP"
   },
   "outputs": [
    {
     "name": "stdout",
     "output_type": "stream",
     "text": [
      "Total: 800 splitted in Train: 160, Val: 160 and Test: 480\n"
     ]
    }
   ],
   "source": [
    "trainset = images[:int(0.2*len(images))]\n",
    "valset = images[int(0.2*len(images)):int(0.4*len(images))]\n",
    "testset = images[int(0.4*len(images)):]\n",
    "print('Total: {} splitted in Train: {}, Val: {} and Test: {}'.format(len(images), len(trainset), len(valset), len(testset)))"
   ]
  },
  {
   "cell_type": "markdown",
   "id": "4x4XwcitCwig",
   "metadata": {
    "id": "4x4XwcitCwig"
   },
   "source": [
    "Da questo momento, avremo **tre insiemi di dati**: train, validation e test.\n",
    "\n",
    "Ogni elemento del dataset può appartenere solo a uno di questi, gli insieme quindi sono completamente **disgiunti**."
   ]
  },
  {
   "cell_type": "code",
   "execution_count": 12,
   "id": "SbKcMlOWQtTn",
   "metadata": {
    "id": "SbKcMlOWQtTn"
   },
   "outputs": [
    {
     "name": "stderr",
     "output_type": "stream",
     "text": [
      "100%|█████████████████████████████████████████████████████████████████████████████████████████████████████████████████████████████████| 160/160 [00:00<00:00, 704.83it/s]\n",
      "100%|████████████████████████████████████████████████████████████████████████████████████████████████████████████████████████████████| 160/160 [00:00<00:00, 1248.48it/s]\n",
      "100%|████████████████████████████████████████████████████████████████████████████████████████████████████████████████████████████████| 480/480 [00:00<00:00, 1276.04it/s]"
     ]
    },
    {
     "name": "stdout",
     "output_type": "stream",
     "text": [
      "Train: 160, Val: 160 and Test: 480\n",
      "Total: 800\n"
     ]
    },
    {
     "name": "stderr",
     "output_type": "stream",
     "text": [
      "\n"
     ]
    }
   ],
   "source": [
    "img_size = 32\n",
    "feature_type = 'img'\n",
    "\n",
    "train_x, train_y = extract_features(trainset, feature_type, img_size)\n",
    "val_x, val_y = extract_features(valset, feature_type, img_size)\n",
    "test_x, test_y = extract_features(testset, feature_type, img_size)\n",
    "\n",
    "print('Train: {}, Val: {} and Test: {}'.format(len(train_x), len(val_x), len(test_x)))\n",
    "print('Total: {}'.format(len(train_x) + len(val_x) + len(test_x)))"
   ]
  },
  {
   "cell_type": "markdown",
   "id": "u1My56AGDIXj",
   "metadata": {
    "id": "u1My56AGDIXj"
   },
   "source": [
    "### Classificatore\n",
    "Ora definiamo il nostro classificatore che, come detto, è un MLP.\n",
    "Per ora utilizziamo la configurazione di base."
   ]
  },
  {
   "cell_type": "code",
   "execution_count": 15,
   "id": "ZF5xpgPfQ36w",
   "metadata": {
    "id": "ZF5xpgPfQ36w"
   },
   "outputs": [],
   "source": [
    "clf = MLPClassifier()"
   ]
  },
  {
   "cell_type": "markdown",
   "id": "RLkeVCUxDcIl",
   "metadata": {
    "id": "RLkeVCUxDcIl"
   },
   "source": [
    "### Training\n",
    "Ora siamo pronti ad addestare il nostro MLP!\n",
    "\n",
    "Fortunatamente la complessità del training di una rete neurale è interamente gestita da `sklearn` (che è molto semplice da utilizzare)\n",
    "\n",
    "**Tools**:\n",
    "-   `model.fit()`: addestra il modello"
   ]
  },
  {
   "cell_type": "code",
   "execution_count": 16,
   "id": "uaoAX6iwQ5hd",
   "metadata": {
    "id": "uaoAX6iwQ5hd"
   },
   "outputs": [
    {
     "name": "stderr",
     "output_type": "stream",
     "text": [
      "/home/pinacoteca/Unibo/Numerical_Methods_for_AI/.venv/lib/python3.12/site-packages/sklearn/neural_network/_multilayer_perceptron.py:691: ConvergenceWarning: Stochastic Optimizer: Maximum iterations (200) reached and the optimization hasn't converged yet.\n",
      "  warnings.warn(\n"
     ]
    },
    {
     "data": {
      "text/html": [
       "<style>#sk-container-id-1 {\n",
       "  /* Definition of color scheme common for light and dark mode */\n",
       "  --sklearn-color-text: #000;\n",
       "  --sklearn-color-text-muted: #666;\n",
       "  --sklearn-color-line: gray;\n",
       "  /* Definition of color scheme for unfitted estimators */\n",
       "  --sklearn-color-unfitted-level-0: #fff5e6;\n",
       "  --sklearn-color-unfitted-level-1: #f6e4d2;\n",
       "  --sklearn-color-unfitted-level-2: #ffe0b3;\n",
       "  --sklearn-color-unfitted-level-3: chocolate;\n",
       "  /* Definition of color scheme for fitted estimators */\n",
       "  --sklearn-color-fitted-level-0: #f0f8ff;\n",
       "  --sklearn-color-fitted-level-1: #d4ebff;\n",
       "  --sklearn-color-fitted-level-2: #b3dbfd;\n",
       "  --sklearn-color-fitted-level-3: cornflowerblue;\n",
       "\n",
       "  /* Specific color for light theme */\n",
       "  --sklearn-color-text-on-default-background: var(--sg-text-color, var(--theme-code-foreground, var(--jp-content-font-color1, black)));\n",
       "  --sklearn-color-background: var(--sg-background-color, var(--theme-background, var(--jp-layout-color0, white)));\n",
       "  --sklearn-color-border-box: var(--sg-text-color, var(--theme-code-foreground, var(--jp-content-font-color1, black)));\n",
       "  --sklearn-color-icon: #696969;\n",
       "\n",
       "  @media (prefers-color-scheme: dark) {\n",
       "    /* Redefinition of color scheme for dark theme */\n",
       "    --sklearn-color-text-on-default-background: var(--sg-text-color, var(--theme-code-foreground, var(--jp-content-font-color1, white)));\n",
       "    --sklearn-color-background: var(--sg-background-color, var(--theme-background, var(--jp-layout-color0, #111)));\n",
       "    --sklearn-color-border-box: var(--sg-text-color, var(--theme-code-foreground, var(--jp-content-font-color1, white)));\n",
       "    --sklearn-color-icon: #878787;\n",
       "  }\n",
       "}\n",
       "\n",
       "#sk-container-id-1 {\n",
       "  color: var(--sklearn-color-text);\n",
       "}\n",
       "\n",
       "#sk-container-id-1 pre {\n",
       "  padding: 0;\n",
       "}\n",
       "\n",
       "#sk-container-id-1 input.sk-hidden--visually {\n",
       "  border: 0;\n",
       "  clip: rect(1px 1px 1px 1px);\n",
       "  clip: rect(1px, 1px, 1px, 1px);\n",
       "  height: 1px;\n",
       "  margin: -1px;\n",
       "  overflow: hidden;\n",
       "  padding: 0;\n",
       "  position: absolute;\n",
       "  width: 1px;\n",
       "}\n",
       "\n",
       "#sk-container-id-1 div.sk-dashed-wrapped {\n",
       "  border: 1px dashed var(--sklearn-color-line);\n",
       "  margin: 0 0.4em 0.5em 0.4em;\n",
       "  box-sizing: border-box;\n",
       "  padding-bottom: 0.4em;\n",
       "  background-color: var(--sklearn-color-background);\n",
       "}\n",
       "\n",
       "#sk-container-id-1 div.sk-container {\n",
       "  /* jupyter's `normalize.less` sets `[hidden] { display: none; }`\n",
       "     but bootstrap.min.css set `[hidden] { display: none !important; }`\n",
       "     so we also need the `!important` here to be able to override the\n",
       "     default hidden behavior on the sphinx rendered scikit-learn.org.\n",
       "     See: https://github.com/scikit-learn/scikit-learn/issues/21755 */\n",
       "  display: inline-block !important;\n",
       "  position: relative;\n",
       "}\n",
       "\n",
       "#sk-container-id-1 div.sk-text-repr-fallback {\n",
       "  display: none;\n",
       "}\n",
       "\n",
       "div.sk-parallel-item,\n",
       "div.sk-serial,\n",
       "div.sk-item {\n",
       "  /* draw centered vertical line to link estimators */\n",
       "  background-image: linear-gradient(var(--sklearn-color-text-on-default-background), var(--sklearn-color-text-on-default-background));\n",
       "  background-size: 2px 100%;\n",
       "  background-repeat: no-repeat;\n",
       "  background-position: center center;\n",
       "}\n",
       "\n",
       "/* Parallel-specific style estimator block */\n",
       "\n",
       "#sk-container-id-1 div.sk-parallel-item::after {\n",
       "  content: \"\";\n",
       "  width: 100%;\n",
       "  border-bottom: 2px solid var(--sklearn-color-text-on-default-background);\n",
       "  flex-grow: 1;\n",
       "}\n",
       "\n",
       "#sk-container-id-1 div.sk-parallel {\n",
       "  display: flex;\n",
       "  align-items: stretch;\n",
       "  justify-content: center;\n",
       "  background-color: var(--sklearn-color-background);\n",
       "  position: relative;\n",
       "}\n",
       "\n",
       "#sk-container-id-1 div.sk-parallel-item {\n",
       "  display: flex;\n",
       "  flex-direction: column;\n",
       "}\n",
       "\n",
       "#sk-container-id-1 div.sk-parallel-item:first-child::after {\n",
       "  align-self: flex-end;\n",
       "  width: 50%;\n",
       "}\n",
       "\n",
       "#sk-container-id-1 div.sk-parallel-item:last-child::after {\n",
       "  align-self: flex-start;\n",
       "  width: 50%;\n",
       "}\n",
       "\n",
       "#sk-container-id-1 div.sk-parallel-item:only-child::after {\n",
       "  width: 0;\n",
       "}\n",
       "\n",
       "/* Serial-specific style estimator block */\n",
       "\n",
       "#sk-container-id-1 div.sk-serial {\n",
       "  display: flex;\n",
       "  flex-direction: column;\n",
       "  align-items: center;\n",
       "  background-color: var(--sklearn-color-background);\n",
       "  padding-right: 1em;\n",
       "  padding-left: 1em;\n",
       "}\n",
       "\n",
       "\n",
       "/* Toggleable style: style used for estimator/Pipeline/ColumnTransformer box that is\n",
       "clickable and can be expanded/collapsed.\n",
       "- Pipeline and ColumnTransformer use this feature and define the default style\n",
       "- Estimators will overwrite some part of the style using the `sk-estimator` class\n",
       "*/\n",
       "\n",
       "/* Pipeline and ColumnTransformer style (default) */\n",
       "\n",
       "#sk-container-id-1 div.sk-toggleable {\n",
       "  /* Default theme specific background. It is overwritten whether we have a\n",
       "  specific estimator or a Pipeline/ColumnTransformer */\n",
       "  background-color: var(--sklearn-color-background);\n",
       "}\n",
       "\n",
       "/* Toggleable label */\n",
       "#sk-container-id-1 label.sk-toggleable__label {\n",
       "  cursor: pointer;\n",
       "  display: flex;\n",
       "  width: 100%;\n",
       "  margin-bottom: 0;\n",
       "  padding: 0.5em;\n",
       "  box-sizing: border-box;\n",
       "  text-align: center;\n",
       "  align-items: start;\n",
       "  justify-content: space-between;\n",
       "  gap: 0.5em;\n",
       "}\n",
       "\n",
       "#sk-container-id-1 label.sk-toggleable__label .caption {\n",
       "  font-size: 0.6rem;\n",
       "  font-weight: lighter;\n",
       "  color: var(--sklearn-color-text-muted);\n",
       "}\n",
       "\n",
       "#sk-container-id-1 label.sk-toggleable__label-arrow:before {\n",
       "  /* Arrow on the left of the label */\n",
       "  content: \"▸\";\n",
       "  float: left;\n",
       "  margin-right: 0.25em;\n",
       "  color: var(--sklearn-color-icon);\n",
       "}\n",
       "\n",
       "#sk-container-id-1 label.sk-toggleable__label-arrow:hover:before {\n",
       "  color: var(--sklearn-color-text);\n",
       "}\n",
       "\n",
       "/* Toggleable content - dropdown */\n",
       "\n",
       "#sk-container-id-1 div.sk-toggleable__content {\n",
       "  max-height: 0;\n",
       "  max-width: 0;\n",
       "  overflow: hidden;\n",
       "  text-align: left;\n",
       "  /* unfitted */\n",
       "  background-color: var(--sklearn-color-unfitted-level-0);\n",
       "}\n",
       "\n",
       "#sk-container-id-1 div.sk-toggleable__content.fitted {\n",
       "  /* fitted */\n",
       "  background-color: var(--sklearn-color-fitted-level-0);\n",
       "}\n",
       "\n",
       "#sk-container-id-1 div.sk-toggleable__content pre {\n",
       "  margin: 0.2em;\n",
       "  border-radius: 0.25em;\n",
       "  color: var(--sklearn-color-text);\n",
       "  /* unfitted */\n",
       "  background-color: var(--sklearn-color-unfitted-level-0);\n",
       "}\n",
       "\n",
       "#sk-container-id-1 div.sk-toggleable__content.fitted pre {\n",
       "  /* unfitted */\n",
       "  background-color: var(--sklearn-color-fitted-level-0);\n",
       "}\n",
       "\n",
       "#sk-container-id-1 input.sk-toggleable__control:checked~div.sk-toggleable__content {\n",
       "  /* Expand drop-down */\n",
       "  max-height: 200px;\n",
       "  max-width: 100%;\n",
       "  overflow: auto;\n",
       "}\n",
       "\n",
       "#sk-container-id-1 input.sk-toggleable__control:checked~label.sk-toggleable__label-arrow:before {\n",
       "  content: \"▾\";\n",
       "}\n",
       "\n",
       "/* Pipeline/ColumnTransformer-specific style */\n",
       "\n",
       "#sk-container-id-1 div.sk-label input.sk-toggleable__control:checked~label.sk-toggleable__label {\n",
       "  color: var(--sklearn-color-text);\n",
       "  background-color: var(--sklearn-color-unfitted-level-2);\n",
       "}\n",
       "\n",
       "#sk-container-id-1 div.sk-label.fitted input.sk-toggleable__control:checked~label.sk-toggleable__label {\n",
       "  background-color: var(--sklearn-color-fitted-level-2);\n",
       "}\n",
       "\n",
       "/* Estimator-specific style */\n",
       "\n",
       "/* Colorize estimator box */\n",
       "#sk-container-id-1 div.sk-estimator input.sk-toggleable__control:checked~label.sk-toggleable__label {\n",
       "  /* unfitted */\n",
       "  background-color: var(--sklearn-color-unfitted-level-2);\n",
       "}\n",
       "\n",
       "#sk-container-id-1 div.sk-estimator.fitted input.sk-toggleable__control:checked~label.sk-toggleable__label {\n",
       "  /* fitted */\n",
       "  background-color: var(--sklearn-color-fitted-level-2);\n",
       "}\n",
       "\n",
       "#sk-container-id-1 div.sk-label label.sk-toggleable__label,\n",
       "#sk-container-id-1 div.sk-label label {\n",
       "  /* The background is the default theme color */\n",
       "  color: var(--sklearn-color-text-on-default-background);\n",
       "}\n",
       "\n",
       "/* On hover, darken the color of the background */\n",
       "#sk-container-id-1 div.sk-label:hover label.sk-toggleable__label {\n",
       "  color: var(--sklearn-color-text);\n",
       "  background-color: var(--sklearn-color-unfitted-level-2);\n",
       "}\n",
       "\n",
       "/* Label box, darken color on hover, fitted */\n",
       "#sk-container-id-1 div.sk-label.fitted:hover label.sk-toggleable__label.fitted {\n",
       "  color: var(--sklearn-color-text);\n",
       "  background-color: var(--sklearn-color-fitted-level-2);\n",
       "}\n",
       "\n",
       "/* Estimator label */\n",
       "\n",
       "#sk-container-id-1 div.sk-label label {\n",
       "  font-family: monospace;\n",
       "  font-weight: bold;\n",
       "  display: inline-block;\n",
       "  line-height: 1.2em;\n",
       "}\n",
       "\n",
       "#sk-container-id-1 div.sk-label-container {\n",
       "  text-align: center;\n",
       "}\n",
       "\n",
       "/* Estimator-specific */\n",
       "#sk-container-id-1 div.sk-estimator {\n",
       "  font-family: monospace;\n",
       "  border: 1px dotted var(--sklearn-color-border-box);\n",
       "  border-radius: 0.25em;\n",
       "  box-sizing: border-box;\n",
       "  margin-bottom: 0.5em;\n",
       "  /* unfitted */\n",
       "  background-color: var(--sklearn-color-unfitted-level-0);\n",
       "}\n",
       "\n",
       "#sk-container-id-1 div.sk-estimator.fitted {\n",
       "  /* fitted */\n",
       "  background-color: var(--sklearn-color-fitted-level-0);\n",
       "}\n",
       "\n",
       "/* on hover */\n",
       "#sk-container-id-1 div.sk-estimator:hover {\n",
       "  /* unfitted */\n",
       "  background-color: var(--sklearn-color-unfitted-level-2);\n",
       "}\n",
       "\n",
       "#sk-container-id-1 div.sk-estimator.fitted:hover {\n",
       "  /* fitted */\n",
       "  background-color: var(--sklearn-color-fitted-level-2);\n",
       "}\n",
       "\n",
       "/* Specification for estimator info (e.g. \"i\" and \"?\") */\n",
       "\n",
       "/* Common style for \"i\" and \"?\" */\n",
       "\n",
       ".sk-estimator-doc-link,\n",
       "a:link.sk-estimator-doc-link,\n",
       "a:visited.sk-estimator-doc-link {\n",
       "  float: right;\n",
       "  font-size: smaller;\n",
       "  line-height: 1em;\n",
       "  font-family: monospace;\n",
       "  background-color: var(--sklearn-color-background);\n",
       "  border-radius: 1em;\n",
       "  height: 1em;\n",
       "  width: 1em;\n",
       "  text-decoration: none !important;\n",
       "  margin-left: 0.5em;\n",
       "  text-align: center;\n",
       "  /* unfitted */\n",
       "  border: var(--sklearn-color-unfitted-level-1) 1pt solid;\n",
       "  color: var(--sklearn-color-unfitted-level-1);\n",
       "}\n",
       "\n",
       ".sk-estimator-doc-link.fitted,\n",
       "a:link.sk-estimator-doc-link.fitted,\n",
       "a:visited.sk-estimator-doc-link.fitted {\n",
       "  /* fitted */\n",
       "  border: var(--sklearn-color-fitted-level-1) 1pt solid;\n",
       "  color: var(--sklearn-color-fitted-level-1);\n",
       "}\n",
       "\n",
       "/* On hover */\n",
       "div.sk-estimator:hover .sk-estimator-doc-link:hover,\n",
       ".sk-estimator-doc-link:hover,\n",
       "div.sk-label-container:hover .sk-estimator-doc-link:hover,\n",
       ".sk-estimator-doc-link:hover {\n",
       "  /* unfitted */\n",
       "  background-color: var(--sklearn-color-unfitted-level-3);\n",
       "  color: var(--sklearn-color-background);\n",
       "  text-decoration: none;\n",
       "}\n",
       "\n",
       "div.sk-estimator.fitted:hover .sk-estimator-doc-link.fitted:hover,\n",
       ".sk-estimator-doc-link.fitted:hover,\n",
       "div.sk-label-container:hover .sk-estimator-doc-link.fitted:hover,\n",
       ".sk-estimator-doc-link.fitted:hover {\n",
       "  /* fitted */\n",
       "  background-color: var(--sklearn-color-fitted-level-3);\n",
       "  color: var(--sklearn-color-background);\n",
       "  text-decoration: none;\n",
       "}\n",
       "\n",
       "/* Span, style for the box shown on hovering the info icon */\n",
       ".sk-estimator-doc-link span {\n",
       "  display: none;\n",
       "  z-index: 9999;\n",
       "  position: relative;\n",
       "  font-weight: normal;\n",
       "  right: .2ex;\n",
       "  padding: .5ex;\n",
       "  margin: .5ex;\n",
       "  width: min-content;\n",
       "  min-width: 20ex;\n",
       "  max-width: 50ex;\n",
       "  color: var(--sklearn-color-text);\n",
       "  box-shadow: 2pt 2pt 4pt #999;\n",
       "  /* unfitted */\n",
       "  background: var(--sklearn-color-unfitted-level-0);\n",
       "  border: .5pt solid var(--sklearn-color-unfitted-level-3);\n",
       "}\n",
       "\n",
       ".sk-estimator-doc-link.fitted span {\n",
       "  /* fitted */\n",
       "  background: var(--sklearn-color-fitted-level-0);\n",
       "  border: var(--sklearn-color-fitted-level-3);\n",
       "}\n",
       "\n",
       ".sk-estimator-doc-link:hover span {\n",
       "  display: block;\n",
       "}\n",
       "\n",
       "/* \"?\"-specific style due to the `<a>` HTML tag */\n",
       "\n",
       "#sk-container-id-1 a.estimator_doc_link {\n",
       "  float: right;\n",
       "  font-size: 1rem;\n",
       "  line-height: 1em;\n",
       "  font-family: monospace;\n",
       "  background-color: var(--sklearn-color-background);\n",
       "  border-radius: 1rem;\n",
       "  height: 1rem;\n",
       "  width: 1rem;\n",
       "  text-decoration: none;\n",
       "  /* unfitted */\n",
       "  color: var(--sklearn-color-unfitted-level-1);\n",
       "  border: var(--sklearn-color-unfitted-level-1) 1pt solid;\n",
       "}\n",
       "\n",
       "#sk-container-id-1 a.estimator_doc_link.fitted {\n",
       "  /* fitted */\n",
       "  border: var(--sklearn-color-fitted-level-1) 1pt solid;\n",
       "  color: var(--sklearn-color-fitted-level-1);\n",
       "}\n",
       "\n",
       "/* On hover */\n",
       "#sk-container-id-1 a.estimator_doc_link:hover {\n",
       "  /* unfitted */\n",
       "  background-color: var(--sklearn-color-unfitted-level-3);\n",
       "  color: var(--sklearn-color-background);\n",
       "  text-decoration: none;\n",
       "}\n",
       "\n",
       "#sk-container-id-1 a.estimator_doc_link.fitted:hover {\n",
       "  /* fitted */\n",
       "  background-color: var(--sklearn-color-fitted-level-3);\n",
       "}\n",
       "</style><div id=\"sk-container-id-1\" class=\"sk-top-container\"><div class=\"sk-text-repr-fallback\"><pre>MLPClassifier()</pre><b>In a Jupyter environment, please rerun this cell to show the HTML representation or trust the notebook. <br />On GitHub, the HTML representation is unable to render, please try loading this page with nbviewer.org.</b></div><div class=\"sk-container\" hidden><div class=\"sk-item\"><div class=\"sk-estimator fitted sk-toggleable\"><input class=\"sk-toggleable__control sk-hidden--visually\" id=\"sk-estimator-id-1\" type=\"checkbox\" checked><label for=\"sk-estimator-id-1\" class=\"sk-toggleable__label fitted sk-toggleable__label-arrow\"><div><div>MLPClassifier</div></div><div><a class=\"sk-estimator-doc-link fitted\" rel=\"noreferrer\" target=\"_blank\" href=\"https://scikit-learn.org/1.6/modules/generated/sklearn.neural_network.MLPClassifier.html\">?<span>Documentation for MLPClassifier</span></a><span class=\"sk-estimator-doc-link fitted\">i<span>Fitted</span></span></div></label><div class=\"sk-toggleable__content fitted\"><pre>MLPClassifier()</pre></div> </div></div></div></div>"
      ],
      "text/plain": [
       "MLPClassifier()"
      ]
     },
     "execution_count": 16,
     "metadata": {},
     "output_type": "execute_result"
    }
   ],
   "source": [
    "clf.fit(train_x, train_y)"
   ]
  },
  {
   "cell_type": "markdown",
   "id": "eNNuHP0_hHYb",
   "metadata": {
    "id": "eNNuHP0_hHYb"
   },
   "source": [
    "### Validazione\n",
    "\n",
    "E' ora di validare il modello per trovare i parametri più corretti.\n",
    "\n",
    "Possiamo cambiare i parametri o i dati del modello, poi eseguire nuovamente un addestramento, e infine capire se le modifiche hanno portato a un incremento o decremento delle prestazioni.\n",
    "\n",
    "**Tools:**\n",
    "*   `score()`: validazione del modello.\n",
    "\n"
   ]
  },
  {
   "cell_type": "code",
   "execution_count": 17,
   "id": "SmdAmrAfhKKi",
   "metadata": {
    "id": "SmdAmrAfhKKi"
   },
   "outputs": [
    {
     "name": "stdout",
     "output_type": "stream",
     "text": [
      "Validation accuracy: 0.381\n"
     ]
    }
   ],
   "source": [
    "print('Validation accuracy: {:.3f}'.format(clf.score(val_x, val_y)))"
   ]
  },
  {
   "cell_type": "markdown",
   "id": "Tuyy2J6hE9V8",
   "metadata": {
    "id": "Tuyy2J6hE9V8"
   },
   "source": [
    "### Test\n",
    "Finalmente possiamo testare il nostro modello, facendogli predire in output le classi!\n",
    "\n",
    "**Tools**:\n",
    "  - `model.predict()`: predice la classe per un dato di input"
   ]
  },
  {
   "cell_type": "code",
   "execution_count": 20,
   "id": "_hDdyRVIQ99P",
   "metadata": {
    "id": "_hDdyRVIQ99P"
   },
   "outputs": [
    {
     "name": "stdout",
     "output_type": "stream",
     "text": [
      "Predicted 480 samples: [1 0 0 3 1 2 3 0 2 1 1 3 3 0 0 2 0 0 2 3 2 3 2 2 1 0 0 1 0 0 3 3 3 0 1 3 3\n",
      " 2 0 0 3 3 2 1 1 0 2 1 3 3 3 3 0 2 0 3 0 3 0 3 0 3 1 3 0 3 0 3 0 0 2 1 3 1\n",
      " 1 2 3 0 3 1 0 2 3 1 0 0 3 3 1 0 1 1 1 1 1 0 1 2 0 0 3 3 0 3 1 3 1 1 3 1 1\n",
      " 3 0 1 3 2 2 3 0 1 3 3 3 3 1 1 0 3 3 2 0 0 0 3 1 0 0 1 0 2 0 1 1 0 1 2 0 0\n",
      " 2 0 2 1 0 2 3 2 1 0 0 2 0 0 0 3 3 0 1 3 3 1 0 0 1 0 0 1 0 0 3 2 2 0 0 1 3\n",
      " 3 3 1 0 1 3 1 1 1 0 1 3 3 1 1 0 0 2 1 0 1 1 0 3 3 0 1 3 3 0 0 0 0 2 1 2 1\n",
      " 3 2 0 1 3 3 2 1 1 3 0 1 3 1 3 1 3 1 1 3 0 1 2 1 0 2 2 3 0 3 2 1 0 3 0 1 0\n",
      " 3 3 0 1 3 0 3 1 0 0 1 2 0 1 3 3 1 0 2 3 2 1 3 1 3 3 1 1 1 0 3 3 0 1 3 1 1\n",
      " 3 3 0 2 1 2 1 0 3 1 1 3 0 1 0 3 0 0 0 0 2 1 1 2 2 0 0 1 1 3 3 0 3 0 3 3 3\n",
      " 0 0 0 2 0 1 0 2 1 2 0 3 3 3 0 3 0 3 0 1 3 1 1 3 1 3 3 0 0 1 3 2 0 0 3 0 3\n",
      " 1 3 2 1 3 0 1 0 3 1 3 1 0 0 1 3 1 0 0 0 0 1 0 0 0 3 1 0 0 3 1 3 0 0 3 2 3\n",
      " 0 3 3 3 0 3 3 0 0 1 1 1 2 3 2 1 3 0 3 1 3 3 1 1 3 2 1 0 0 3 0 3 3 1 3 0 1\n",
      " 0 0 3 1 0 0 2 0 1 2 0 0 0 1 3 3 2 3 1 3 1 0 1 3 3 0 0 0 2 2 0 0 1 3 0 3]\n",
      "GT 480 samples: [2, 3, 0, 3, 2, 3, 2, 3, 1, 2, 1, 0, 0, 0, 1, 1, 0, 3, 2, 0, 1, 0, 3, 1, 0, 1, 3, 1, 3, 1, 2, 3, 3, 1, 1, 3, 3, 1, 3, 2, 2, 3, 3, 3, 2, 3, 1, 1, 1, 1, 0, 3, 0, 2, 0, 3, 2, 0, 3, 3, 0, 2, 1, 0, 0, 0, 1, 0, 1, 1, 1, 0, 1, 2, 1, 2, 2, 3, 0, 1, 2, 2, 3, 1, 3, 2, 3, 1, 2, 1, 2, 2, 1, 1, 1, 2, 0, 2, 0, 1, 3, 3, 0, 0, 3, 0, 0, 1, 3, 1, 1, 0, 0, 1, 0, 1, 2, 0, 3, 1, 3, 3, 1, 0, 1, 2, 3, 0, 3, 0, 0, 2, 0, 0, 2, 2, 2, 1, 0, 2, 2, 1, 1, 0, 1, 3, 3, 3, 2, 1, 2, 2, 0, 1, 0, 2, 3, 3, 1, 0, 0, 2, 2, 2, 3, 0, 1, 3, 3, 2, 3, 1, 1, 3, 2, 0, 0, 0, 3, 1, 2, 1, 1, 0, 3, 1, 2, 1, 0, 1, 0, 1, 3, 1, 0, 1, 3, 3, 2, 1, 3, 0, 2, 2, 2, 1, 1, 3, 3, 2, 0, 2, 0, 0, 0, 0, 3, 3, 2, 0, 1, 2, 3, 2, 2, 1, 0, 2, 2, 2, 1, 3, 3, 2, 3, 1, 1, 1, 2, 1, 1, 3, 2, 1, 3, 2, 0, 1, 2, 0, 2, 1, 3, 1, 0, 3, 0, 1, 0, 1, 0, 0, 1, 0, 2, 1, 3, 2, 2, 1, 1, 3, 1, 0, 2, 2, 0, 2, 3, 2, 1, 1, 2, 2, 3, 2, 2, 1, 2, 2, 0, 0, 2, 0, 1, 2, 3, 3, 1, 0, 2, 1, 3, 0, 1, 3, 2, 3, 2, 1, 2, 2, 2, 0, 0, 1, 1, 1, 1, 0, 1, 0, 0, 2, 2, 0, 2, 3, 2, 3, 3, 3, 3, 3, 3, 0, 2, 0, 0, 3, 1, 1, 3, 3, 0, 3, 3, 2, 0, 1, 1, 0, 1, 0, 0, 1, 0, 2, 1, 3, 0, 1, 2, 3, 2, 0, 3, 3, 0, 2, 2, 0, 1, 2, 3, 0, 0, 0, 3, 2, 0, 2, 1, 0, 1, 2, 0, 3, 0, 2, 3, 1, 3, 0, 3, 3, 2, 0, 2, 2, 1, 1, 1, 3, 3, 0, 2, 0, 3, 3, 3, 0, 3, 3, 0, 0, 2, 1, 1, 2, 2, 2, 2, 0, 2, 3, 3, 2, 3, 0, 3, 1, 1, 2, 1, 2, 3, 0, 0, 3, 2, 3, 3, 1, 0, 1, 2, 1, 2, 0, 1, 0, 1, 2, 0, 2, 2, 2, 3, 0, 2, 3, 2, 3, 1, 3, 2, 3, 0, 0, 0, 2, 1, 2, 0, 3, 2, 3, 2, 3]\n"
     ]
    }
   ],
   "source": [
    "pred_y = clf.predict(test_x)\n",
    "print('Predicted {} samples: {}'.format(len(pred_y), pred_y))\n",
    "print('GT {} samples: {}'.format(len(test_y), test_y))\n",
    "#print(pred_y==test_y)"
   ]
  },
  {
   "cell_type": "markdown",
   "id": "gCXwtZzSK9H0",
   "metadata": {
    "id": "gCXwtZzSK9H0"
   },
   "source": [
    "\n",
    "**Tools**:\n",
    "   * `accuracy_score()`: score di accuratezza della classificazione, date in input le classi predette"
   ]
  },
  {
   "cell_type": "code",
   "execution_count": 21,
   "id": "ln0j7RcbQ_9k",
   "metadata": {
    "id": "ln0j7RcbQ_9k"
   },
   "outputs": [
    {
     "name": "stdout",
     "output_type": "stream",
     "text": [
      "Final Accuracy: 0.438\n"
     ]
    }
   ],
   "source": [
    "print('Final Accuracy: {:.3f}'.format(accuracy_score(test_y, pred_y)))"
   ]
  },
  {
   "cell_type": "markdown",
   "id": "FlL4dJFskTbY",
   "metadata": {
    "id": "FlL4dJFskTbY"
   },
   "source": [
    "### Conclusioni\n",
    "La soluzione implementata purtroppo raggiunge una **accuratezza relativamente bassa** (tieni conto che una soluzione random raggiungerebbe il 25% circa di accuratezza).\n",
    "\n",
    "Questo principalmente non è dovuto solamente al classificatore, ma all'alta dimensionalità dei dati in input.\n",
    "\n",
    "Ci sono quindi tre possibili soluzioni:\n",
    "\n",
    "\n",
    "*   **Modificare i parametri del classificatore**, per guadagnare qualcosa in termini di prestazioni. Documentazione: https://scikit-learn.org/stable/modules/generated/sklearn.neural_network.MLPClassifier.html\n",
    "*   **Condensare il contenuto informativo dei dati in input**, utilizzando i cosidetti *feature descriptor* (per esempio gli HOG https://en.wikipedia.org/wiki/Histogram_of_oriented_gradients#:~:text=The%20histogram%20of%20oriented%20gradients,localized%20portions%20of%20an%20image). Questo è uno strumento di Visione Artificiale avanzato che non verrà trattato in questo corso.\n",
    "*   **Utilizzare una Convolutional Neural Network (CNN)** che, come visto a lezione, è uno strumento ottimizzato per le immagini. In particolare, è in grado di estrarre in maniera autonoma le feature dalle immagini (nella parte di *Feature Extractor*).\n",
    "\n",
    "E' importante ricordare che, in presenza di dati a bassa dimensionalità (come i valoro numerici provenienti per esempio da un sistema di domotica), una rete MLP dovrebbe avere ottime performance.\n",
    "\n",
    "Nella prossima esercitazione vedremo come implementare una CNN."
   ]
  }
 ],
 "metadata": {
  "colab": {
   "provenance": []
  },
  "kernelspec": {
   "display_name": "Python 3 (ipykernel)",
   "language": "python",
   "name": "python3"
  },
  "language_info": {
   "codemirror_mode": {
    "name": "ipython",
    "version": 3
   },
   "file_extension": ".py",
   "mimetype": "text/x-python",
   "name": "python",
   "nbconvert_exporter": "python",
   "pygments_lexer": "ipython3",
   "version": "3.12.3"
  }
 },
 "nbformat": 4,
 "nbformat_minor": 5
}
