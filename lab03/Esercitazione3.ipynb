{
 "cells": [
  {
   "cell_type": "markdown",
   "id": "2f16cd51-b728-47c0-b39e-f22777b738f3",
   "metadata": {},
   "source": [
    "# Esercitazione 4 Marzo 2025"
   ]
  },
  {
   "cell_type": "markdown",
   "id": "cea7be83-908f-4132-b3df-6eb9633855a9",
   "metadata": {},
   "source": [
    "## Esercizio 1\n",
    "- Costruire due array numpy-array 2d di dimensione 5000x5000 i cui valori sono campionati da una distribuzione gaussiana con media 0 e varianza 1.\n",
    "- Effetuare la somma tra le due matrici con due metodi:\n",
    "\n",
    "        -  utilizzando le operazioni vettoriali \n",
    "        -  considerando due cicli espliciti annidati, su righe e colonne\n",
    "- Confrontare le prestazioni in termini di tempo di esecuzione.\n",
    "        \n"
   ]
  },
  {
   "cell_type": "code",
   "execution_count": 23,
   "id": "4615ac03-d90b-45ac-b379-6b74142e5e4a",
   "metadata": {},
   "outputs": [
    {
     "name": "stdout",
     "output_type": "stream",
     "text": [
      "Np: 0.15599441528320312\n"
     ]
    }
   ],
   "source": [
    "import time\n",
    "import numpy as np\n",
    "\n",
    "arr1 = np.random.randn(5000, 5000)\n",
    "arr2 = np.random.randn(5000, 5000)\n",
    "arr3 = np.zeros((5000, 5000))\n",
    "\n",
    "#start_time = time.time()\n",
    "\n",
    "#for i in range(5000):\n",
    "#    for j in range(5000):\n",
    "#        arr3[i][j] = arr1[i][j] + arr2[i][j]\n",
    "#end_time = time.time()\n",
    "#print(\"For Loop: \" + str(end_time - start_time))\n",
    "start_time = time.time()\n",
    "arr4 = arr1+arr2\n",
    "end_time = time.time()\n",
    "print(\"Np: \" + str(end_time - start_time))"
   ]
  },
  {
   "cell_type": "markdown",
   "id": "2cc104af-5376-4b18-9945-9316885a30ed",
   "metadata": {},
   "source": [
    "## Esercizio 2\n",
    "-      Costruire il numpy array  s  formato da 40 valori equidistanti in  [0,20],\n",
    "-      considerarne il reshape in un array 2d che ha 4 righe con un numero opportuno di colonne e dire se il reshape crea una vista o una copia"
   ]
  },
  {
   "cell_type": "code",
   "execution_count": 2,
   "id": "7043ce42-07fb-489d-9cc8-d81c55823cf6",
   "metadata": {},
   "outputs": [
    {
     "name": "stdout",
     "output_type": "stream",
     "text": [
      "[ 0.          0.51282051  1.02564103  1.53846154  2.05128205  2.56410256\n",
      "  3.07692308  3.58974359  4.1025641   4.61538462  5.12820513  5.64102564\n",
      "  6.15384615  6.66666667  7.17948718  7.69230769  8.20512821  8.71794872\n",
      "  9.23076923  9.74358974 10.25641026 10.76923077 11.28205128 11.79487179\n",
      " 12.30769231 12.82051282 13.33333333 13.84615385 14.35897436 14.87179487\n",
      " 15.38461538 15.8974359  16.41025641 16.92307692 17.43589744 17.94871795\n",
      " 18.46153846 18.97435897 19.48717949 20.        ]\n",
      "[[ 0.          0.51282051  1.02564103  1.53846154  2.05128205  2.56410256\n",
      "   3.07692308  3.58974359  4.1025641   4.61538462]\n",
      " [ 5.12820513  5.64102564  6.15384615  6.66666667  7.17948718  7.69230769\n",
      "   8.20512821  8.71794872  9.23076923  9.74358974]\n",
      " [10.25641026 10.76923077 11.28205128 11.79487179 12.30769231 12.82051282\n",
      "  13.33333333 13.84615385 14.35897436 14.87179487]\n",
      " [15.38461538 15.8974359  16.41025641 16.92307692 17.43589744 17.94871795\n",
      "  18.46153846 18.97435897 19.48717949 20.        ]]\n"
     ]
    }
   ],
   "source": [
    "s = np.linspace(0, 20, 40)\n",
    "print(s)\n",
    "print(s.reshape(4,-1)) #crea vista"
   ]
  },
  {
   "cell_type": "markdown",
   "id": "8984c411-28fa-4590-9942-3d6d5bc5c665",
   "metadata": {},
   "source": [
    "## Esercizio 3\n",
    "-     Costruire il numpy array t formato da 100 valori equidistanti in  [0,4]\n",
    "-     considerarne il reshape in un array 2d che ha 4 colonne con un numero opportuno di righe"
   ]
  },
  {
   "cell_type": "code",
   "execution_count": 3,
   "id": "a42ee939-8745-408b-b210-0e7250929ca1",
   "metadata": {},
   "outputs": [
    {
     "name": "stdout",
     "output_type": "stream",
     "text": [
      "[0.         0.04040404 0.08080808 0.12121212 0.16161616 0.2020202\n",
      " 0.24242424 0.28282828 0.32323232 0.36363636 0.4040404  0.44444444\n",
      " 0.48484848 0.52525253 0.56565657 0.60606061 0.64646465 0.68686869\n",
      " 0.72727273 0.76767677 0.80808081 0.84848485 0.88888889 0.92929293\n",
      " 0.96969697 1.01010101 1.05050505 1.09090909 1.13131313 1.17171717\n",
      " 1.21212121 1.25252525 1.29292929 1.33333333 1.37373737 1.41414141\n",
      " 1.45454545 1.49494949 1.53535354 1.57575758 1.61616162 1.65656566\n",
      " 1.6969697  1.73737374 1.77777778 1.81818182 1.85858586 1.8989899\n",
      " 1.93939394 1.97979798 2.02020202 2.06060606 2.1010101  2.14141414\n",
      " 2.18181818 2.22222222 2.26262626 2.3030303  2.34343434 2.38383838\n",
      " 2.42424242 2.46464646 2.50505051 2.54545455 2.58585859 2.62626263\n",
      " 2.66666667 2.70707071 2.74747475 2.78787879 2.82828283 2.86868687\n",
      " 2.90909091 2.94949495 2.98989899 3.03030303 3.07070707 3.11111111\n",
      " 3.15151515 3.19191919 3.23232323 3.27272727 3.31313131 3.35353535\n",
      " 3.39393939 3.43434343 3.47474747 3.51515152 3.55555556 3.5959596\n",
      " 3.63636364 3.67676768 3.71717172 3.75757576 3.7979798  3.83838384\n",
      " 3.87878788 3.91919192 3.95959596 4.        ]\n",
      "[[0.         0.04040404 0.08080808 0.12121212]\n",
      " [0.16161616 0.2020202  0.24242424 0.28282828]\n",
      " [0.32323232 0.36363636 0.4040404  0.44444444]\n",
      " [0.48484848 0.52525253 0.56565657 0.60606061]\n",
      " [0.64646465 0.68686869 0.72727273 0.76767677]\n",
      " [0.80808081 0.84848485 0.88888889 0.92929293]\n",
      " [0.96969697 1.01010101 1.05050505 1.09090909]\n",
      " [1.13131313 1.17171717 1.21212121 1.25252525]\n",
      " [1.29292929 1.33333333 1.37373737 1.41414141]\n",
      " [1.45454545 1.49494949 1.53535354 1.57575758]\n",
      " [1.61616162 1.65656566 1.6969697  1.73737374]\n",
      " [1.77777778 1.81818182 1.85858586 1.8989899 ]\n",
      " [1.93939394 1.97979798 2.02020202 2.06060606]\n",
      " [2.1010101  2.14141414 2.18181818 2.22222222]\n",
      " [2.26262626 2.3030303  2.34343434 2.38383838]\n",
      " [2.42424242 2.46464646 2.50505051 2.54545455]\n",
      " [2.58585859 2.62626263 2.66666667 2.70707071]\n",
      " [2.74747475 2.78787879 2.82828283 2.86868687]\n",
      " [2.90909091 2.94949495 2.98989899 3.03030303]\n",
      " [3.07070707 3.11111111 3.15151515 3.19191919]\n",
      " [3.23232323 3.27272727 3.31313131 3.35353535]\n",
      " [3.39393939 3.43434343 3.47474747 3.51515152]\n",
      " [3.55555556 3.5959596  3.63636364 3.67676768]\n",
      " [3.71717172 3.75757576 3.7979798  3.83838384]\n",
      " [3.87878788 3.91919192 3.95959596 4.        ]]\n"
     ]
    }
   ],
   "source": [
    "t = np.linspace(0, 4, 100)\n",
    "print(t)\n",
    "print(t.reshape(-1,4)) #crea vista"
   ]
  },
  {
   "cell_type": "markdown",
   "id": "497ccc48-1ab8-4247-8e36-0c61e43c643c",
   "metadata": {},
   "source": [
    "## Esercizio 4\n",
    "Costruire il numpy array 1d C  di valori che variano tra 15 e 41 con step 2\n",
    "\n",
    "-     Trasformarlo in un numpy array 2d con shape(7,2) usando il metodo . resize(7,2)  che lavora in-place,  (cioè  modifica l'array esistente).  "
   ]
  },
  {
   "cell_type": "code",
   "execution_count": 4,
   "id": "d74767d1-30cd-4162-89bd-28cd0c0fa4f1",
   "metadata": {},
   "outputs": [
    {
     "name": "stdout",
     "output_type": "stream",
     "text": [
      "[15 17 19 21 23 25 27 29 31 33 35 37 39 41]\n",
      "[[15 17]\n",
      " [19 21]\n",
      " [23 25]\n",
      " [27 29]\n",
      " [31 33]\n",
      " [35 37]\n",
      " [39 41]]\n"
     ]
    }
   ],
   "source": [
    "C = np.arange(15, 42, 2)\n",
    "print(C)\n",
    "C.resize(7,2)\n",
    "print(C)"
   ]
  },
  {
   "cell_type": "markdown",
   "id": "222a582d-184b-47b9-804b-72673a42102e",
   "metadata": {},
   "source": [
    " ## Esercizio 5\n",
    " Creare un array NumPy di 10 numeri interi casuali tra 1 e 100.\n",
    " "
   ]
  },
  {
   "cell_type": "code",
   "execution_count": 5,
   "id": "5b6c0fb6-3c4b-4965-bd18-3fdb0d764dea",
   "metadata": {},
   "outputs": [
    {
     "name": "stdout",
     "output_type": "stream",
     "text": [
      "[78  3 71 29 94 49 69  2 39 11]\n"
     ]
    }
   ],
   "source": [
    "print(np.random.randint(1, 101, 10))"
   ]
  },
  {
   "cell_type": "markdown",
   "id": "26b0aef0-fa88-4ec5-923f-8fa9d0664044",
   "metadata": {},
   "source": [
    " ## Esercizio 6\n",
    " Eseguire uno shuffle degli elementi di un numpy-array di 30 numeri interi casuali tra 100 e 200.\n"
   ]
  },
  {
   "cell_type": "code",
   "execution_count": 6,
   "id": "d0812a7f-f51d-4857-89f9-b14988705686",
   "metadata": {},
   "outputs": [
    {
     "name": "stdout",
     "output_type": "stream",
     "text": [
      "[102 167 117 177 107 167 195 168 177 108 139 162 196 101 179 163 163 115\n",
      " 155 107 133 167 160 172 126 177 147 193 165 103]\n",
      "[103 107 107 162 160 179 177 177 102 139 177 147 167 172 165 163 195 133\n",
      " 117 115 167 155 168 101 196 193 163 167 126 108]\n"
     ]
    }
   ],
   "source": [
    "arr = np.random.randint(100, 201, 30)\n",
    "print(arr)\n",
    "np.random.shuffle(arr)\n",
    "print(arr)"
   ]
  },
  {
   "cell_type": "markdown",
   "id": "9e1c800f-6ae8-41cc-94c0-c36445e2ea55",
   "metadata": {},
   "source": [
    "  ## Esercizio 7\n",
    " Creare una permutazione casuale degli elementi di un numpy-array di 20 valori campionati da una distribuzione  gaussiana con media zero e varianza 1, senza modificarlo."
   ]
  },
  {
   "cell_type": "code",
   "execution_count": 7,
   "id": "b0797d9a-4717-4ad5-a36f-2b3d1fe98db7",
   "metadata": {},
   "outputs": [
    {
     "name": "stdout",
     "output_type": "stream",
     "text": [
      "[ 0.2478012  -0.01988531  1.18461906  0.32768258  1.15765535 -0.32713688\n",
      " -0.39188278 -0.61600927 -1.55122354 -1.3734168  -1.22541421 -0.31929212\n",
      " -1.14040407  1.13360103 -0.22264605 -0.52354247 -1.20291274 -0.46973217\n",
      "  1.32144924 -2.24048936]\n",
      "[-0.22264605  1.13360103 -0.39188278 -0.31929212  0.2478012  -0.32713688\n",
      "  1.32144924 -0.61600927 -0.46973217 -1.20291274 -1.3734168  -0.52354247\n",
      " -2.24048936  0.32768258 -1.55122354 -1.22541421  1.15765535 -1.14040407\n",
      "  1.18461906 -0.01988531]\n",
      "[[-0.84570917  0.1819266  -0.34423673 ...  0.77041782 -0.02066883\n",
      "  -0.58560395]\n",
      " [ 0.64082839 -0.71209093 -0.00902339 ... -0.17196517  0.43634629\n",
      "  -1.28488913]\n",
      " [ 1.66283893 -1.74330649 -1.83417622 ...  0.05848308  0.59690915\n",
      "  -0.33052287]\n",
      " ...\n",
      " [ 0.70298348  0.77290657  3.2607439  ... -0.81070533  0.62971199\n",
      "   0.43953848]\n",
      " [-0.92537236 -1.96603579  0.72690202 ... -0.22805763 -0.31988075\n",
      "  -1.54304225]\n",
      " [-0.47672773  2.31224278 -0.22581678 ...  0.99895064  0.62257733\n",
      "  -0.27814983]]\n"
     ]
    }
   ],
   "source": [
    "arr = np.random.randn(20)\n",
    "print(arr)\n",
    "arr2 = np.random.permutation(arr)\n",
    "print(arr2)\n",
    "print(arr1)"
   ]
  },
  {
   "cell_type": "markdown",
   "id": "14fa94ab-ffd5-425a-8a18-f1b6d53bc87b",
   "metadata": {},
   "source": [
    " ## Esercizio 8\n",
    "-     Scrivere il numpy  array 2d, A, [[10,11,12],[13,14,15],[16,17,18]] \n",
    "-     trasformarlo in un numpy array 1d usando il metodo .ravel()  \n",
    "-     Si tratta di una copia o di una vista?"
   ]
  },
  {
   "cell_type": "code",
   "execution_count": 8,
   "id": "b6ff2bc9-35f8-4ca3-bdb6-35513f3dbd32",
   "metadata": {},
   "outputs": [
    {
     "name": "stdout",
     "output_type": "stream",
     "text": [
      "[10 11 12 13 14 15 16 17 18]\n"
     ]
    }
   ],
   "source": [
    "arr = np.array([[10,11,12],[13,14,15],[16,17,18]])\n",
    "arr1 = arr.ravel()\n",
    "print(arr1)#vista"
   ]
  },
  {
   "cell_type": "markdown",
   "id": "8cef420c-3ee7-487a-b872-83c1460e11fe",
   "metadata": {},
   "source": [
    "## Esercizio 9\n",
    "-     Scrivere il numpy  array 2d, A, [[10,11,12],[13,14,15],[16,17,18]] \n",
    "-     trasformarlo in un numpy array 1d usando il metodo  .flatten().\n",
    "-     Si tratta di una copia o di una vista?"
   ]
  },
  {
   "cell_type": "code",
   "execution_count": 9,
   "id": "1e4c7cc6-9f54-43e6-8de8-87b37620b988",
   "metadata": {},
   "outputs": [
    {
     "name": "stdout",
     "output_type": "stream",
     "text": [
      "[10 11 12 13 14 15 16 17 18]\n"
     ]
    }
   ],
   "source": [
    "arr = np.array([[10,11,12],[13,14,15],[16,17,18]])\n",
    "cc= arr.flatten()    \n",
    "print(cc)#copia"
   ]
  },
  {
   "cell_type": "markdown",
   "id": "a0b881a4-1836-4e2a-83aa-e03f4398feb5",
   "metadata": {},
   "source": [
    " ## Esercizio 10\n",
    "-     creare i due  numpy array 1d\n",
    "        f1= [ 0  1  2  3  4  5  6  7  8  9 10 11 12 13 14 15]  \n",
    "        f2= [16 17 18 19 20 21 22 23 24 25 26 27 28 29 30 31]\n",
    "-     \"vederli\" come matrici  4x4 ed effettuarne il prodotto scalare, memorizzando in f3 la matrice che nasce dal loro prodotto."
   ]
  },
  {
   "cell_type": "code",
   "execution_count": 10,
   "id": "9e8fc1df-7b6b-4ad3-8eb0-a31ea814fc9b",
   "metadata": {},
   "outputs": [
    {
     "name": "stdout",
     "output_type": "stream",
     "text": [
      "[[ 152  158  164  170]\n",
      " [ 504  526  548  570]\n",
      " [ 856  894  932  970]\n",
      " [1208 1262 1316 1370]]\n"
     ]
    }
   ],
   "source": [
    "f1 = np.array([ 0,  1 , 2 , 3 , 4,  5,  6,  7 , 8  ,9 ,10 ,11, 12, 13 ,14 ,15])\n",
    "f2 = np.array([16, 17, 18, 19 ,20 ,21 ,22 ,23, 24, 25, 26, 27 ,28 ,29 ,30 ,31])\n",
    "f3 = np.dot(f1.reshape(4,4), f2.reshape(4,4))\n",
    "print(f3)"
   ]
  },
  {
   "cell_type": "markdown",
   "id": "681aca16-584c-451f-b9da-cba4b11faa5e",
   "metadata": {},
   "source": [
    "## Esercizio 11\n",
    "Costruire:\n",
    " -     Numpy Array A di shape (2,10) : array di valori random campionati da una distribuzione gaussiana con media 0 e varianza 1.\n",
    " -     Numpy array 1D B di shape (20,) formato dagli interi da 0 a 19.\n",
    " \n",
    " \"Vedere\" A come un array 1D di 20 elementi ed effettuare la somma di A+B\n"
   ]
  },
  {
   "cell_type": "code",
   "execution_count": 11,
   "id": "ee769980-d615-4be7-8bbe-ada73ecb6506",
   "metadata": {},
   "outputs": [
    {
     "name": "stdout",
     "output_type": "stream",
     "text": [
      "[[-1.79891799  0.90220184  0.53140637  0.79263134  1.53309602 -0.25569939\n",
      "  -0.60521593 -1.28759548  0.29642852  1.08442329]\n",
      " [ 0.95845875  2.1335644  -2.50060841 -0.18950974 -0.95776398 -0.84939558\n",
      "  -0.4675923  -1.72278441  0.66549142  0.05792887]]\n",
      "[ 0  1  2  3  4  5  6  7  8  9 10 11 12 13 14 15 16 17 18 19]\n",
      "[-1.79891799  1.90220184  2.53140637  3.79263134  5.53309602  4.74430061\n",
      "  5.39478407  5.71240452  8.29642852 10.08442329 10.95845875 13.1335644\n",
      "  9.49939159 12.81049026 13.04223602 14.15060442 15.5324077  15.27721559\n",
      " 18.66549142 19.05792887]\n"
     ]
    }
   ],
   "source": [
    "A = np.random.randn(2, 10)\n",
    "B = np.arange(0,20,1)\n",
    "\n",
    "C = A.ravel() + B\n",
    "\n",
    "print(A)\n",
    "print(B)\n",
    "print(C)"
   ]
  },
  {
   "cell_type": "markdown",
   "id": "020920a7-7554-4815-b6a6-c9579d0b566c",
   "metadata": {},
   "source": [
    "\n",
    "## Esercizio 12\n",
    "-     Costruire f, un numpy array 1D , di shape (10,) costituito da 10 valori equidistanti nell'intervallo [0,1]\n",
    "-     aumentarne la dimensionalità, in maniera tale che abbia shape (10,1)"
   ]
  },
  {
   "cell_type": "code",
   "execution_count": 12,
   "id": "9fa15026-3c24-42cb-94b7-7c4eefad961a",
   "metadata": {},
   "outputs": [
    {
     "name": "stdout",
     "output_type": "stream",
     "text": [
      "[[0.        ]\n",
      " [0.11111111]\n",
      " [0.22222222]\n",
      " [0.33333333]\n",
      " [0.44444444]\n",
      " [0.55555556]\n",
      " [0.66666667]\n",
      " [0.77777778]\n",
      " [0.88888889]\n",
      " [1.        ]]\n"
     ]
    }
   ],
   "source": [
    "f = np.linspace(0, 1, 10)\n",
    "f = f.reshape(10,1)\n",
    "print(f)"
   ]
  },
  {
   "cell_type": "markdown",
   "id": "610f98b2-3f2b-46e0-8a51-ac682a7b46a3",
   "metadata": {},
   "source": [
    "## Esercizio 13\n",
    "-     Costruire i seguenti numpy array\n",
    "      a= np.array([14,13,12,11])\n",
    "      b=np.array([[4,3,2,1],[9,10,11,12]])\n",
    "\n",
    "  Costruire il numpy array che si ottiene concatenando a e b per righe"
   ]
  },
  {
   "cell_type": "code",
   "execution_count": 13,
   "id": "bd991bd1-3cb4-4954-bf72-457ee4ca9e34",
   "metadata": {},
   "outputs": [
    {
     "name": "stdout",
     "output_type": "stream",
     "text": [
      "[14 13 12 11  4  3  2  1  9 10 11 12]\n"
     ]
    }
   ],
   "source": [
    "a = np.array([14,13,12,11])\n",
    "b = np.array([[4,3,2,1],[9,10,11,12]])\n",
    "print(np.concatenate((a,b.flatten()), axis=0))"
   ]
  },
  {
   "cell_type": "markdown",
   "id": "51740675-7696-4803-9506-e593431e8a27",
   "metadata": {},
   "source": [
    "## Esercizio 14\n",
    "-     Costruire i seguenti numpy array\n",
    "      a= np.array([14,13,12,11])\n",
    "      b=np.array([[4,3,2,1],[9,10,11,12],[4,3,2,1],[9,10,11,12]])\n",
    "\n",
    "-\n",
    "- Costruire il numpy array che si ottiene concatenando a e b per colonne"
   ]
  },
  {
   "cell_type": "code",
   "execution_count": 14,
   "id": "838ab0f4-c1cd-4bc4-8c30-4f9ca7457067",
   "metadata": {},
   "outputs": [
    {
     "name": "stdout",
     "output_type": "stream",
     "text": [
      "[[14  4  3  2  1]\n",
      " [13  9 10 11 12]\n",
      " [12  4  3  2  1]\n",
      " [11  9 10 11 12]]\n"
     ]
    }
   ],
   "source": [
    "a= np.array([14,13,12,11])\n",
    "b=np.array([[4,3,2,1],[9,10,11,12],[4,3,2,1],[9,10,11,12]])\n",
    "a.resize(4,1)\n",
    "print(np.concatenate((a,b), axis=1))"
   ]
  },
  {
   "cell_type": "markdown",
   "id": "0cd10bd7-8d9e-4e99-827e-83cf83393782",
   "metadata": {},
   "source": [
    "## Esercizio 15\n",
    "Costruire, facendo uso di una sola riga di codice, la matrice A di ordine 10, che ha gli unici elementi diversi da zero, sulla diagonale principale, sulla codiagonale inferiore e sulla codiagonale superiore:\n",
    "\n",
    "elementi diagonali $A_{i,i}=10 \\quad$, i=1,20\n",
    "\n",
    "elementi nella codiagonale inferiore $A_{i-1,i}=-12, \\quad$ i=2,..,20, \n",
    "\n",
    "elementi nella codiagonale superiore $A_{i,i+1}=-2 \\quad$ i=1,..,19"
   ]
  },
  {
   "cell_type": "code",
   "execution_count": 15,
   "id": "161054cb-5685-4efe-95fe-44070a31c24c",
   "metadata": {},
   "outputs": [
    {
     "name": "stdout",
     "output_type": "stream",
     "text": [
      "[[ 10.  -2.   0.   0.   0.   0.   0.   0.   0.   0.   0.   0.   0.   0.\n",
      "    0.   0.   0.   0.   0.   0.]\n",
      " [-12.  10.  -2.   0.   0.   0.   0.   0.   0.   0.   0.   0.   0.   0.\n",
      "    0.   0.   0.   0.   0.   0.]\n",
      " [  0. -12.  10.  -2.   0.   0.   0.   0.   0.   0.   0.   0.   0.   0.\n",
      "    0.   0.   0.   0.   0.   0.]\n",
      " [  0.   0. -12.  10.  -2.   0.   0.   0.   0.   0.   0.   0.   0.   0.\n",
      "    0.   0.   0.   0.   0.   0.]\n",
      " [  0.   0.   0. -12.  10.  -2.   0.   0.   0.   0.   0.   0.   0.   0.\n",
      "    0.   0.   0.   0.   0.   0.]\n",
      " [  0.   0.   0.   0. -12.  10.  -2.   0.   0.   0.   0.   0.   0.   0.\n",
      "    0.   0.   0.   0.   0.   0.]\n",
      " [  0.   0.   0.   0.   0. -12.  10.  -2.   0.   0.   0.   0.   0.   0.\n",
      "    0.   0.   0.   0.   0.   0.]\n",
      " [  0.   0.   0.   0.   0.   0. -12.  10.  -2.   0.   0.   0.   0.   0.\n",
      "    0.   0.   0.   0.   0.   0.]\n",
      " [  0.   0.   0.   0.   0.   0.   0. -12.  10.  -2.   0.   0.   0.   0.\n",
      "    0.   0.   0.   0.   0.   0.]\n",
      " [  0.   0.   0.   0.   0.   0.   0.   0. -12.  10.  -2.   0.   0.   0.\n",
      "    0.   0.   0.   0.   0.   0.]\n",
      " [  0.   0.   0.   0.   0.   0.   0.   0.   0. -12.  10.  -2.   0.   0.\n",
      "    0.   0.   0.   0.   0.   0.]\n",
      " [  0.   0.   0.   0.   0.   0.   0.   0.   0.   0. -12.  10.  -2.   0.\n",
      "    0.   0.   0.   0.   0.   0.]\n",
      " [  0.   0.   0.   0.   0.   0.   0.   0.   0.   0.   0. -12.  10.  -2.\n",
      "    0.   0.   0.   0.   0.   0.]\n",
      " [  0.   0.   0.   0.   0.   0.   0.   0.   0.   0.   0.   0. -12.  10.\n",
      "   -2.   0.   0.   0.   0.   0.]\n",
      " [  0.   0.   0.   0.   0.   0.   0.   0.   0.   0.   0.   0.   0. -12.\n",
      "   10.  -2.   0.   0.   0.   0.]\n",
      " [  0.   0.   0.   0.   0.   0.   0.   0.   0.   0.   0.   0.   0.   0.\n",
      "  -12.  10.  -2.   0.   0.   0.]\n",
      " [  0.   0.   0.   0.   0.   0.   0.   0.   0.   0.   0.   0.   0.   0.\n",
      "    0. -12.  10.  -2.   0.   0.]\n",
      " [  0.   0.   0.   0.   0.   0.   0.   0.   0.   0.   0.   0.   0.   0.\n",
      "    0.   0. -12.  10.  -2.   0.]\n",
      " [  0.   0.   0.   0.   0.   0.   0.   0.   0.   0.   0.   0.   0.   0.\n",
      "    0.   0.   0. -12.  10.  -2.]\n",
      " [  0.   0.   0.   0.   0.   0.   0.   0.   0.   0.   0.   0.   0.   0.\n",
      "    0.   0.   0.   0. -12.  10.]]\n"
     ]
    }
   ],
   "source": [
    "A = np.eye(20)*10 + np.eye(20, k=-1)*(-12) + np.eye(20, k=1)*(-2)\n",
    "print(A)"
   ]
  },
  {
   "cell_type": "markdown",
   "id": "53d3ad23-63ab-4719-b2d2-f2b1cb942063",
   "metadata": {},
   "source": [
    "## Esercizio 16\n",
    "Costruire la matrice identità, denominata *I*,  della stessa dimensione di *A*"
   ]
  },
  {
   "cell_type": "code",
   "execution_count": 16,
   "id": "0abc9c9c-d849-49c1-8212-e65642ebfe68",
   "metadata": {},
   "outputs": [
    {
     "name": "stdout",
     "output_type": "stream",
     "text": [
      "[[1. 0. 0. 0. 0. 0. 0. 0. 0. 0. 0. 0. 0. 0. 0. 0. 0. 0. 0. 0.]\n",
      " [0. 1. 0. 0. 0. 0. 0. 0. 0. 0. 0. 0. 0. 0. 0. 0. 0. 0. 0. 0.]\n",
      " [0. 0. 1. 0. 0. 0. 0. 0. 0. 0. 0. 0. 0. 0. 0. 0. 0. 0. 0. 0.]\n",
      " [0. 0. 0. 1. 0. 0. 0. 0. 0. 0. 0. 0. 0. 0. 0. 0. 0. 0. 0. 0.]\n",
      " [0. 0. 0. 0. 1. 0. 0. 0. 0. 0. 0. 0. 0. 0. 0. 0. 0. 0. 0. 0.]\n",
      " [0. 0. 0. 0. 0. 1. 0. 0. 0. 0. 0. 0. 0. 0. 0. 0. 0. 0. 0. 0.]\n",
      " [0. 0. 0. 0. 0. 0. 1. 0. 0. 0. 0. 0. 0. 0. 0. 0. 0. 0. 0. 0.]\n",
      " [0. 0. 0. 0. 0. 0. 0. 1. 0. 0. 0. 0. 0. 0. 0. 0. 0. 0. 0. 0.]\n",
      " [0. 0. 0. 0. 0. 0. 0. 0. 1. 0. 0. 0. 0. 0. 0. 0. 0. 0. 0. 0.]\n",
      " [0. 0. 0. 0. 0. 0. 0. 0. 0. 1. 0. 0. 0. 0. 0. 0. 0. 0. 0. 0.]\n",
      " [0. 0. 0. 0. 0. 0. 0. 0. 0. 0. 1. 0. 0. 0. 0. 0. 0. 0. 0. 0.]\n",
      " [0. 0. 0. 0. 0. 0. 0. 0. 0. 0. 0. 1. 0. 0. 0. 0. 0. 0. 0. 0.]\n",
      " [0. 0. 0. 0. 0. 0. 0. 0. 0. 0. 0. 0. 1. 0. 0. 0. 0. 0. 0. 0.]\n",
      " [0. 0. 0. 0. 0. 0. 0. 0. 0. 0. 0. 0. 0. 1. 0. 0. 0. 0. 0. 0.]\n",
      " [0. 0. 0. 0. 0. 0. 0. 0. 0. 0. 0. 0. 0. 0. 1. 0. 0. 0. 0. 0.]\n",
      " [0. 0. 0. 0. 0. 0. 0. 0. 0. 0. 0. 0. 0. 0. 0. 1. 0. 0. 0. 0.]\n",
      " [0. 0. 0. 0. 0. 0. 0. 0. 0. 0. 0. 0. 0. 0. 0. 0. 1. 0. 0. 0.]\n",
      " [0. 0. 0. 0. 0. 0. 0. 0. 0. 0. 0. 0. 0. 0. 0. 0. 0. 1. 0. 0.]\n",
      " [0. 0. 0. 0. 0. 0. 0. 0. 0. 0. 0. 0. 0. 0. 0. 0. 0. 0. 1. 0.]\n",
      " [0. 0. 0. 0. 0. 0. 0. 0. 0. 0. 0. 0. 0. 0. 0. 0. 0. 0. 0. 1.]]\n"
     ]
    }
   ],
   "source": [
    "B = np.eye(A.shape[0])\n",
    "print(B)"
   ]
  },
  {
   "cell_type": "markdown",
   "id": "b5257ffc-b9c9-4d22-a3b4-427b03f2e8dc",
   "metadata": {},
   "source": [
    "## Esercizio 17\n",
    "Facendo uso dell'operatore slicing *:* ,costruire la matrice AA selezionando dalla matrice A le righe che vanno dalla 2 alla 9 con step 2 e le colonne che vanno dalla 3 alla 6 con step 2.\n",
    "La matrice AA è una vista o una copia?"
   ]
  },
  {
   "cell_type": "code",
   "execution_count": 17,
   "id": "b61bd123-644e-4817-91ca-2c023d150033",
   "metadata": {},
   "outputs": [
    {
     "data": {
      "text/plain": [
       "array([[ -2.,   0.],\n",
       "       [-12.,  -2.],\n",
       "       [  0., -12.],\n",
       "       [  0.,   0.]])"
      ]
     },
     "execution_count": 17,
     "metadata": {},
     "output_type": "execute_result"
    }
   ],
   "source": [
    "AA = A[2:9:2,3:6:2]\n",
    "AA"
   ]
  },
  {
   "cell_type": "markdown",
   "id": "090aeaa9-fb12-44bc-9560-5b11a0e6f503",
   "metadata": {},
   "source": [
    "## Esercizio 18\n",
    "Facendo uso dell'operatore slicing *:*, costruire la matrice A1 selezionando dalla matrice A le colonne che vanno dalla 1 alla 5 con step 2.  Trasforma la matrice A1 in una copia."
   ]
  },
  {
   "cell_type": "code",
   "execution_count": 18,
   "id": "1fce830d-688c-45d4-9f19-04aea905037b",
   "metadata": {},
   "outputs": [
    {
     "name": "stdout",
     "output_type": "stream",
     "text": [
      "[[-12.  10.  -2.   0.   0.   0.   0.   0.   0.   0.   0.   0.   0.   0.\n",
      "    0.   0.   0.   0.   0.   0.]\n",
      " [  0.   0. -12.  10.  -2.   0.   0.   0.   0.   0.   0.   0.   0.   0.\n",
      "    0.   0.   0.   0.   0.   0.]]\n"
     ]
    }
   ],
   "source": [
    "A1 = A[1:5:2].copy()\n",
    "print(A1)"
   ]
  },
  {
   "cell_type": "markdown",
   "id": "a5449d1f-1232-4ba0-a2d6-4d2e2d9c7a36",
   "metadata": {},
   "source": [
    "## Esercizio 19\n",
    "\n",
    "Costruisci due numpy array A e B di shape (5,5) \n",
    "   - A formata da numeri interi casuali  nell'intervallo [1,20]\n",
    "   - B formata da numeri interi casuali  nell'intervallo [1,6]\n",
    " \n",
    "  Costruisci con una sola riga di codice le seguenti matrici\n",
    "  \n",
    "  C=A+B   dove  $\\quad c_{ij}=a_{ij}+b_{ij} \\quad i=0,..,n, \\quad j=0,...,n$\n",
    "  \n",
    "  D=A-B   dove  $\\quad d_{ij}=a_{ij}-b_{ij} \\quad i=0,..,n, \\quad j=0,...,n$\n",
    "  \n",
    "  E=A*B   dove  $\\quad e_{ij}=a_{ij}*b_{ij} \\quad i=0,..,n, \\quad j=0,...,n$\n",
    "  \n",
    "  F=A/B   dove  $\\quad f_{ij}=a_{ij}/b_{ij} \\quad i=0,..,n, \\quad j=0,...,n$"
   ]
  },
  {
   "cell_type": "code",
   "execution_count": 19,
   "id": "93df0f6d-c014-41ab-adc2-db3be828d076",
   "metadata": {},
   "outputs": [
    {
     "name": "stdout",
     "output_type": "stream",
     "text": [
      "[[12 18 18 21  8]\n",
      " [ 7  9 10 11 15]\n",
      " [ 8  5 15 17 24]\n",
      " [ 7 12  3 10  9]\n",
      " [11 16 17  5  8]]\n",
      "[[ 8  8  8 13  2]\n",
      " [-3  3  4  7  7]\n",
      " [ 6  3  7  9 14]\n",
      " [ 1 10  1  4  3]\n",
      " [ 5  6 11  1  4]]\n",
      "[[20 65 65 68 15]\n",
      " [10 18 21 18 44]\n",
      " [ 7  4 44 52 95]\n",
      " [12 11  2 21 18]\n",
      " [24 55 42  6 12]]\n",
      "[[ 5.          2.6         2.6         4.25        1.66666667]\n",
      " [ 0.4         2.          2.33333333  4.5         2.75      ]\n",
      " [ 7.          4.          2.75        3.25        3.8       ]\n",
      " [ 1.33333333 11.          2.          2.33333333  2.        ]\n",
      " [ 2.66666667  2.2         4.66666667  1.5         3.        ]]\n"
     ]
    }
   ],
   "source": [
    "A = np.random.randint(1,20,(5,5))\n",
    "B = np.random.randint(1,6,(5,5))\n",
    "C=A+B\n",
    "D=A-B\n",
    "E=A*B\n",
    "F=A/B\n",
    "print(C)\n",
    "print(D)\n",
    "print(E)\n",
    "print(F)"
   ]
  },
  {
   "cell_type": "markdown",
   "id": "5a4ad10c-ccfa-45ce-b6ba-b7ddab44db3d",
   "metadata": {},
   "source": [
    "## Esercizio 20\n",
    "Dato array NumPy che rappresenta le vendite giornaliere di un negozio per un mese,\n",
    "vendite = np.random.randint(50, 200, 30) \n",
    "\n",
    "        Trova tutti i giorni in cui le vendite sono state superiori a 150.\n",
    "\n",
    "        Calcola la media delle vendite solo per i giorni in cui sono state superiori a 150.\n",
    "\n",
    "        Imposta le vendite a 0 per tutti i giorni in cui sono state inferiori a 100.\n"
   ]
  },
  {
   "cell_type": "code",
   "execution_count": 20,
   "id": "fa9afb34-db08-4b78-b086-18d788fc739f",
   "metadata": {},
   "outputs": [
    {
     "name": "stdout",
     "output_type": "stream",
     "text": [
      "[170 165 185 169 189 176 159 185 189]\n"
     ]
    }
   ],
   "source": [
    "vendite = np.random.randint(50, 200, 30)\n",
    "pogSells = vendite[vendite > 150]\n",
    "print(pogSells)"
   ]
  },
  {
   "cell_type": "markdown",
   "id": "d90da717-8cd5-425f-937e-588d6ccb045a",
   "metadata": {
    "tags": []
   },
   "source": [
    "## Esercizio 21\n",
    "Costruisci A, un numpy array 2d di shape (3,3) e b,  un numpy array 2d di shape (3,1)\n",
    "e somma b ad ogni colonna di A b\n"
   ]
  },
  {
   "cell_type": "code",
   "execution_count": 21,
   "id": "b35f3e3c-7f44-4496-b925-d17e64d235a6",
   "metadata": {},
   "outputs": [
    {
     "name": "stdout",
     "output_type": "stream",
     "text": [
      "[[72]\n",
      " [25]\n",
      " [20]]\n",
      "[[0]\n",
      " [1]\n",
      " [8]]\n",
      "[[72]\n",
      " [26]\n",
      " [28]]\n"
     ]
    }
   ],
   "source": [
    "A = np.random.randint(0,10,(3,3))\n",
    "b = np.random.randint(0,10,(3,1))\n",
    "c = A @ b\n",
    "print(c)\n",
    "c = c + b\n",
    "print(b)\n",
    "print(c)"
   ]
  },
  {
   "cell_type": "markdown",
   "id": "ece2f514-aea7-4883-9b5f-8671d698c761",
   "metadata": {},
   "source": [
    "# Esercizio 22\n",
    "dato il numpy array 2d G=np.linspace(0,10,20).reshape(-1,4), scambia in G la seconda riga con la quarta riga"
   ]
  },
  {
   "cell_type": "code",
   "execution_count": 28,
   "id": "8f3321d8-1481-4e7e-9a62-9f12f8e2a4a9",
   "metadata": {},
   "outputs": [
    {
     "name": "stdout",
     "output_type": "stream",
     "text": [
      "[[ 0.          0.52631579  1.05263158  1.57894737]\n",
      " [ 2.10526316  2.63157895  3.15789474  3.68421053]\n",
      " [ 4.21052632  4.73684211  5.26315789  5.78947368]\n",
      " [ 6.31578947  6.84210526  7.36842105  7.89473684]\n",
      " [ 8.42105263  8.94736842  9.47368421 10.        ]]\n",
      "[[ 0.          0.52631579  1.05263158  1.57894737]\n",
      " [ 6.31578947  6.84210526  7.36842105  7.89473684]\n",
      " [ 4.21052632  4.73684211  5.26315789  5.78947368]\n",
      " [ 2.10526316  2.63157895  3.15789474  3.68421053]\n",
      " [ 8.42105263  8.94736842  9.47368421 10.        ]]\n"
     ]
    }
   ],
   "source": [
    " G=np.linspace(0,10,20).reshape(-1,4)\n",
    "print(G)\n",
    "G[[1,3]] = G[[3,1]]\n",
    "print(G)"
   ]
  },
  {
   "cell_type": "markdown",
   "id": "a2c733be-fc9f-4a0a-80e0-fa1570468da3",
   "metadata": {},
   "source": [
    "## Esercizio 23\n",
    "Visualizzare il grafico della funzione $f(x)=sin^2(x)/x$ in 200 punti equidistanti nell'intervallo $[0.1,2\\pi]$"
   ]
  },
  {
   "cell_type": "code",
   "execution_count": 37,
   "id": "8d36e4bf-ba3e-4da0-ab7f-b51b12206e15",
   "metadata": {},
   "outputs": [
    {
     "data": {
      "text/plain": [
       "[<matplotlib.lines.Line2D at 0x7f07f18fa0c0>]"
      ]
     },
     "execution_count": 37,
     "metadata": {},
     "output_type": "execute_result"
    },
    {
     "data": {
      "image/png": "[encoded data removed]",
      "text/plain": [
       "<Figure size 640x480 with 1 Axes>"
      ]
     },
     "metadata": {},
     "output_type": "display_data"
    }
   ],
   "source": [
    "import matplotlib.pyplot as plt\n",
    "x = np.linspace(0.1,2*np.pi, 200)\n",
    "y = [(np.sin(i)**2)/i for i in x]\n",
    "plt.plot(x,y,'r-')"
   ]
  },
  {
   "cell_type": "markdown",
   "id": "32f6ae8b-ccce-47f1-b196-820a96c325fd",
   "metadata": {},
   "source": [
    "## Esercizio 24\n",
    "\n",
    "Data il numpy arra2d ottenuto facendo un reshape a (4,4) di un numpy array 1d di 16 valori equidistanti nell'intervallo [0,4]\n",
    "ed un numpy array 1d di 4 valori  interi casuali nell'intervallo [10,60], costruire il prodotto scalare A per b,\n",
    "usando A@b, e vettorizzando solo il ciclo interno.\n"
   ]
  },
  {
   "cell_type": "code",
   "execution_count": 48,
   "id": "3323235c-c76b-4e90-9d1c-14223c02b963",
   "metadata": {},
   "outputs": [
    {
     "data": {
      "text/plain": [
       "array([ 63.73333333, 204.53333333, 345.33333333, 486.13333333])"
      ]
     },
     "execution_count": 48,
     "metadata": {},
     "output_type": "execute_result"
    }
   ],
   "source": [
    "A = np.linspace(0,4,16).reshape(4,4)\n",
    "b = np.random.randint(10, 60, 4)\n",
    "g = np.zeros(4)\n",
    "for i in range(len(A)):\n",
    "    g[i] = A[i].dot(b)\n",
    "g"
   ]
  },
  {
   "cell_type": "markdown",
   "id": "fb626777-c3f2-423b-a01b-c9e80032e308",
   "metadata": {},
   "source": [
    "## Esercizio 25\n",
    "Dato g un numpy array 2d, estendilo di una riga in alto ed di una riga in basso, di una colonna a sinistra ed di una colonna a destra, usa la funzione g_est= np.pad(g,(1,1),mode='reflect'). Visualizza 'g_est' e commenta cosa vedi."
   ]
  },
  {
   "cell_type": "code",
   "execution_count": 52,
   "id": "68bfacaa-8bf1-4e1a-afa7-e6fac0bc9254",
   "metadata": {},
   "outputs": [
    {
     "name": "stdout",
     "output_type": "stream",
     "text": [
      "[[ 63.73333333 204.53333333]\n",
      " [345.33333333 486.13333333]]\n"
     ]
    },
    {
     "data": {
      "text/plain": [
       "array([[486.13333333, 345.33333333, 486.13333333, 345.33333333],\n",
       "       [204.53333333,  63.73333333, 204.53333333,  63.73333333],\n",
       "       [486.13333333, 345.33333333, 486.13333333, 345.33333333],\n",
       "       [204.53333333,  63.73333333, 204.53333333,  63.73333333]])"
      ]
     },
     "execution_count": 52,
     "metadata": {},
     "output_type": "execute_result"
    }
   ],
   "source": [
    "g = g.reshape(2,2)\n",
    "print(g)\n",
    "np.pad(g,(1,1),mode='reflect')\n",
    "# wtf"
   ]
  },
  {
   "cell_type": "markdown",
   "id": "958c2100-787e-438b-a162-0aa08465f476",
   "metadata": {},
   "source": [
    "## Esercizio 26\n",
    "Scrivi un programma Python che esegua l'elaborazione di un'immagine utilizzando un filtro di media. \n",
    "\n",
    "Utilizza il padding per gestire i pixel del bordo durante l'applicazione del filtro.\n",
    "\n",
    "Il programma deve seguire questi passaggi:\n",
    "\n",
    "- Carica l'immagine: Carica l'immagine 'cameraman.png' utilizzando la libreria Matplotlib.**image=plt.imread('cameraman.png')**\n",
    "- Visualizza l'immagine originale **plt.imshow(image,cmap='gray')**\n",
    "- definisce la dimensione del filtro, dim_filtro\n",
    "- Applica il padding: Applica un padding costante di dim_filtro//2 pixel a tutti i bordi dell'immagine (utilizzando il metodo di numpy **image_bordered=np.pad(image,(dim_filtro//2,dim_filtro//2),, mode='reflect')**\n",
    "- Crea il filtro di media: Crea un filtro di media di dimensioni *dim_filtroxdim_filtro*, dove tutti gli elementi sono pari a 1/(dim_filtroxdim_filtro)\n",
    "- Applica il filtro: Scorri ogni pixel dell'immagine con padding (escludendo i bordi aggiunti) e applica il filtro di media.\n",
    "\n",
    "   *Per ogni pixel, calcola la somma dei prodotti tra i pixel della sottomatrice dim_filtroxdim_filtro centrata sul pixel corrente e il filtro.*\n",
    "   \n",
    "- Crea l'immagine filtrata: Crea un nuovo array NumPy che rappresenta l'immagine filtrata, dove ogni pixel contiene il risultato dell'applicazione del filtro.\n",
    "- Visualizza l'immagine filtrata: Visualizza l'immagine filtrata utilizzando Matplotlib con la mappa di colori 'gray'.\n",
    "- Aggiungi una colorbar per visualizzare la scala dei valori dell'immagine filtrata.\n",
    "- Mostra l'immagine filtrata con Matplotlib.\n",
    "\n",
    "\n",
    "Requisiti:\n",
    "\n",
    "-  Utilizzare la libreria Matplotlib per caricare e visualizzare l'immagine.\n",
    "-  Utilizzare la libreria NumPy per la manipolazione degli array e per il padding."
   ]
  }
 ],
 "metadata": {
  "kernelspec": {
   "display_name": "Python 3 (ipykernel)",
   "language": "python",
   "name": "python3"
  },
  "language_info": {
   "codemirror_mode": {
    "name": "ipython",
    "version": 3
   },
   "file_extension": ".py",
   "mimetype": "text/x-python",
   "name": "python",
   "nbconvert_exporter": "python",
   "pygments_lexer": "ipython3",
   "version": "3.12.3"
  }
 },
 "nbformat": 4,
 "nbformat_minor": 5
}
