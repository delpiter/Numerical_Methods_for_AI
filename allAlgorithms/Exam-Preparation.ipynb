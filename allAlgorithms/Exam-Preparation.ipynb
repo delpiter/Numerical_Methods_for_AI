{
 "cells": [
  {
   "cell_type": "markdown",
   "id": "dfde07b5-f3c8-401d-9d53-311afa18d46c",
   "metadata": {},
   "source": [
    "## Utilities for Exam"
   ]
  },
  {
   "cell_type": "code",
   "execution_count": 1,
   "id": "75730321-a15a-43e8-8f6b-6f3ff081f265",
   "metadata": {},
   "outputs": [],
   "source": [
    "import numpy as np\n",
    "import sympy as sim\n",
    "import scipy as sp\n",
    "import math\n",
    "import matplotlib.pyplot as plt\n",
    "import SolveTriangular as st"
   ]
  },
  {
   "cell_type": "markdown",
   "id": "e20d7a75-aea5-477c-9ee1-84a85b4cf526",
   "metadata": {},
   "source": [
    "### Matrix Conditions\n",
    "- The following blocks will display some function to check matrixes constraints."
   ]
  },
  {
   "cell_type": "code",
   "execution_count": 2,
   "id": "ef5c8d68-813f-496a-8585-f3207de5ce30",
   "metadata": {},
   "outputs": [],
   "source": [
    "# Check if a matrix is positively defined\n",
    "def is_positively_defined(A):\n",
    "    return np.all(np.linalg.eigvals(A) > 0)\n",
    "\n",
    "# Check if a matri is symmetric\n",
    "def is_symmetric(A, rtol=1e-05, atol=1e-08):\n",
    "    return np.allclose(A, A.T, rtol=rtol, atol=atol)\n",
    "\n",
    "# Check if the matrix has max rank\n",
    "def has_max_rank(A):\n",
    "    return A.shape[0]==np.linalg.matrix_rank(A)\n",
    "\n",
    "# Check if its a square matrix\n",
    "def is_square(A):\n",
    "    return A.shape[0]==A.shape[1]\n",
    "\n",
    "# Check if the matrix is well or ill conditioned\n",
    "\"\"\"\n",
    "Returns:\n",
    "- 1 if the matrix is well conditioned\n",
    "- 0 if is averagely poorly ill\n",
    "- -1 if is ill conditioned\n",
    "\"\"\"\n",
    "def matrix_condition(A):\n",
    "    cond=np.linalg.cond(A)\n",
    "    if cond < 10**2:\n",
    "        return 1\n",
    "    elif cond>=10**2 and cond<=10**3:\n",
    "        return 0\n",
    "    else:\n",
    "        return -1\n",
    "\n",
    "# Check if the singularity of a matrix\n",
    "def is_not_singular(A):\n",
    "    return np.linalg.det(A)!=0\n",
    "    \n",
    "# Check if the matrix is dense\n",
    "def is_dense(A):\n",
    "    return np.count_nonzero(A)>(1/3)*A.shape[0]*A.shape[1]\n",
    "\n",
    "# Check if the matrix is strictly diagonally dominant\n",
    "def is_diagonally_dominant(A):\n",
    "    abs_A = np.abs(A)\n",
    "    return np.all(2*np.diag(abs_A) > np.sum(abs_A, axis=1)) #|Aii| ≥ ∑j≠i |Aij|  =>  2|Aii| ≥ ∑j |Aij|.\n"
   ]
  },
  {
   "cell_type": "markdown",
   "id": "216c3557-63cd-4e27-9d84-ed964e48d64c",
   "metadata": {},
   "source": [
    "## Find Zeroes of a Function\n",
    "---\n",
    "> Methods:\n",
    "\n",
    "1. Bisection.\n",
    "2. Regula Falsi\n",
    "3. Metodo delle Corde\n",
    "4. Metodo delle Secanti\n",
    "5. Newton, Newton Modified"
   ]
  },
  {
   "cell_type": "code",
   "execution_count": 3,
   "id": "cfa57a31-d950-4cc8-9961-5a22e3ce418b",
   "metadata": {},
   "outputs": [],
   "source": [
    "def order_valuation(xk,iterazioni):\n",
    "     #Vedi dispensa allegata per la spiegazione\n",
    "\n",
    "    k=iterazioni-4\n",
    "    p=np.log(abs(xk[k+2]-xk[k+3])/abs(xk[k+1]-xk[k+2]))/np.log(abs(xk[k+1]-xk[k+2])/abs(xk[k]-xk[k+1]));\n",
    "    \n",
    "    ordine=p\n",
    "    return ordine\n"
   ]
  },
  {
   "cell_type": "markdown",
   "id": "a15aceb9-1a44-49df-9e38-22dc1e05c0de",
   "metadata": {},
   "source": [
    "### Bisection"
   ]
  },
  {
   "cell_type": "code",
   "execution_count": 4,
   "id": "e8e5e16b-784d-44bc-92bb-fa54cb03a555",
   "metadata": {},
   "outputs": [],
   "source": [
    "def bisection(f, a, b, tolx):\n",
    "    fa=f(a)\n",
    "    fb=f(b)\n",
    "    \n",
    "    if fa*fb >= 0:\n",
    "        print(\"Failed to apply method\")\n",
    "        return None, None, None\n",
    "\n",
    "    it = 0\n",
    "    v_xk = []\n",
    "\n",
    "    while abs(b-a)> tolx:\n",
    "        xk = a+(b-a)/2 # key operation\n",
    "        v_xk.append(xk)\n",
    "        it+=1\n",
    "        fxk=f(xk)\n",
    "        if fxk==0:\n",
    "            return xk, it, v_xk\n",
    "        \n",
    "        if fa*fxk < 0: # la radice si trova nell'intervallo [a, xk]\n",
    "            b = xk\n",
    "            fb=fxk\n",
    "        elif fxk*fb < 0: # intervallo [xk, b]\n",
    "            a=xk\n",
    "            fa=fxk\n",
    "    return xk, it, v_xk"
   ]
  },
  {
   "cell_type": "markdown",
   "id": "0862a6c6-cbb9-4d30-a8cf-0dabca8e7ceb",
   "metadata": {},
   "source": [
    "### Regula Falsi"
   ]
  },
  {
   "cell_type": "code",
   "execution_count": 5,
   "id": "e1d431db-5726-4b6d-9384-edc2b3fffc6e",
   "metadata": {},
   "outputs": [],
   "source": [
    "def falses(f, a, b, tolx, tolf, maxit):\n",
    "    fa=f(a)\n",
    "    fb=f(b)\n",
    "\n",
    "    if fa*fb >= 0:\n",
    "        print(\"Failed to apply method\")\n",
    "        return None, None, None\n",
    "    \n",
    "    it = 0\n",
    "    v_xk=[]\n",
    "    fxk=100\n",
    "    error=100 # difference between 2 consecutive calculation\n",
    "    xprec=a\n",
    "    \n",
    "    while it<maxit and abs(fxk)> tolf and error > tolx:\n",
    "        xk = a-fa*(b-a)/(fb-fa) # key operation\n",
    "        v_xk.append(xk)\n",
    "        it+=1\n",
    "        fxk=f(xk)\n",
    "        if fxk==0:\n",
    "            return xk, it, v_xk\n",
    "\n",
    "        if fa*fxk < 0: # la radice si trova nell'intervallo [a, xk]\n",
    "            b = xk\n",
    "            fb=fxk\n",
    "        elif fxk*fb < 0: # intervallo [xk, b]\n",
    "            a=xk\n",
    "            fa=fxk\n",
    "        if xk!=0:\n",
    "            error=abs(xk-xprec)/abs(xk)\n",
    "        else:\n",
    "            error=abs(xk-xprec)\n",
    "        xprec=xk\n",
    "    return xk, it, v_xk"
   ]
  },
  {
   "cell_type": "markdown",
   "id": "688fa829-a4ac-4621-9dd3-da8a15dc0dd1",
   "metadata": {},
   "source": [
    "### Metodo delle Corde"
   ]
  },
  {
   "cell_type": "code",
   "execution_count": 6,
   "id": "0bab58aa-9294-4e71-aeb1-54d2e827bacd",
   "metadata": {},
   "outputs": [],
   "source": [
    "def corde(f, x0, coeff_ang, tolx, tolf, nmax):\n",
    "    xk=[] # iterati successivi\n",
    "    it=0\n",
    "    errorex=1+tolx # Inizializziamo gli errori in modo che entri nel while almeno una volta\n",
    "    erroref=1+tolf #\n",
    "\n",
    "    while it<nmax and erroref>=tolf and errorex>=tolx :\n",
    "        fx0=f(x0)       #|\n",
    "        d=fx0/coeff_ang #| Key Operations\n",
    "        x1=x0-d         #|\n",
    "        fx1=f(x1)\n",
    "        erroref=np.abs(fx1)\n",
    "        if x1!=0:\n",
    "            errorex=abs(d)/abs(x1)\n",
    "        else:\n",
    "            errorex=abs(d)\n",
    "        x0=x1\n",
    "        it=it+1\n",
    "        xk.append(x1)\n",
    "    if(it==nmax):\n",
    "        print('Max Iteration Reached')\n",
    "    return x1,it,xk"
   ]
  },
  {
   "cell_type": "markdown",
   "id": "669b7b77-a5d9-4d17-a451-af18840d0ea2",
   "metadata": {},
   "source": [
    "### Metodo delle Secanti"
   ]
  },
  {
   "cell_type": "code",
   "execution_count": 7,
   "id": "1158ad37-e1d1-4b99-9705-dace90bd6e1d",
   "metadata": {},
   "outputs": [],
   "source": [
    "def secanti(f, x0, x1, tolx, tolf, nmax):\n",
    "    xk=[] # iterati successivi\n",
    "    it=0\n",
    "    errorex=1+tolx # Inizializziamo gli errori in modo che entri nel while almeno una volta\n",
    "    erroref=1+tolf #\n",
    "\n",
    "    while it<nmax and erroref>=tolf and errorex>=tolx :\n",
    "        fx0=f(x0)                 #\n",
    "        fx1=f(x1)                 # Key Operations\n",
    "        d=fx1*((x1-x0)/(fx1-fx0)) #\n",
    "        \n",
    "        x1new=x1-d \n",
    "        \n",
    "        fx1=f(x1new)\n",
    "        \n",
    "        xk.append(x1new)\n",
    "        \n",
    "        if x1new!=0:\n",
    "            errorex=abs(d)/abs(x1new)\n",
    "        else:\n",
    "            errorex=abs(d)\n",
    "            \n",
    "        erroref=abs(fx1)\n",
    "        \n",
    "        x0=x1\n",
    "        x1=x1new\n",
    "        it=it+1\n",
    "    if(it==nmax):\n",
    "        print('Max Iteration Reached')\n",
    "    return x1,it,xk"
   ]
  },
  {
   "cell_type": "markdown",
   "id": "91c37929-3964-49ac-a8c8-63fec4dc0540",
   "metadata": {},
   "source": [
    "### Newton"
   ]
  },
  {
   "cell_type": "code",
   "execution_count": 8,
   "id": "5ce9b3f3-69c6-4c80-acd8-f6b30956b3cc",
   "metadata": {},
   "outputs": [],
   "source": [
    "def newton(f,d_f,x0,tolx,tolf,nmax):\n",
    "  \n",
    "    xk=[]\n",
    "    \n",
    "    it=0\n",
    "    errorx=1+tolx\n",
    "    errorf=1+tolf\n",
    "    \n",
    "    while it<nmax and errorf>=tolf and errorx >= tolx:\n",
    "        fx0=f(x0)\n",
    "        if abs(d_f(x0))<=np.spacing(1):\n",
    "            print(\"First Derivate = 0 in x0\")\n",
    "            return None, None, None\n",
    "        \n",
    "        d=f_x0/d_f(x0)\n",
    "        x1=x0-d # Key operations\n",
    "        \n",
    "        fx1=f(x1)\n",
    "        errorf=np.abs(fx1)\n",
    "        if x1!=0:\n",
    "            errorx=abs(d)/abs(x1)\n",
    "        else:\n",
    "            errorx=abs(d)/abs(x1) \n",
    "        \n",
    "        it=it+1\n",
    "        x0=x1\n",
    "        xk.append(x1)\n",
    "      \n",
    "    if it==nmax:\n",
    "        print('Max Iteration Reached')\n",
    "        \n",
    "    \n",
    "    return x1,it,xk\n",
    "\n",
    "def newton_molteplicity(f,d_f,m,x0,tolx,tolf,nmax):    \n",
    "    xk=[]\n",
    "    \n",
    "    it=0\n",
    "    errorx=1+tolx\n",
    "    errorf=1+tolf\n",
    "    \n",
    "    while it<nmax and errorf>=tolf and errorx >= tolx:\n",
    "        fx0=f(x0)\n",
    "        if abs(d_f(x0))<=np.spacing(1):\n",
    "            print(\"First Derivate = 0 in x0\")\n",
    "            return None, None, None\n",
    "        \n",
    "        d=f_x0/d_f(x0)\n",
    "        x1=x0-m*d # Key operations\n",
    "        \n",
    "        fx1=f(x1)\n",
    "        errorf=np.abs(fx1)\n",
    "        if x1!=0:\n",
    "            errorx=abs(d)/abs(x1)\n",
    "        else:\n",
    "            errorx=abs(d)/abs(x1) \n",
    "        \n",
    "        it=it+1\n",
    "        x0=x1\n",
    "        xk.append(x1)\n",
    "      \n",
    "    if it==nmax:\n",
    "        print('Max Iteration Reached')  \n",
    "    return x1,it,xk"
   ]
  },
  {
   "cell_type": "markdown",
   "id": "1eea7609-cab1-4c29-971a-716e68404b3d",
   "metadata": {},
   "source": [
    "## Systems\n",
    "---"
   ]
  },
  {
   "cell_type": "markdown",
   "id": "ac9af05b-2c08-433b-a346-40be9ea410c3",
   "metadata": {},
   "source": [
    "### Non-Linear System Solution"
   ]
  },
  {
   "cell_type": "markdown",
   "id": "71dbf7f8-ad36-4f92-b9d0-9039588ce278",
   "metadata": {},
   "source": [
    "#### Newton Rapshon"
   ]
  },
  {
   "cell_type": "code",
   "execution_count": 9,
   "id": "7cf43600-33bc-4d7d-91c2-403288b1deed",
   "metadata": {},
   "outputs": [],
   "source": [
    "def newton_rapshon(init_guess,f,J,tolx,tolf,nmax):\n",
    "    X=np.array(init_guess, dtype=float)\n",
    "    \n",
    "    it=0\n",
    "    errorf=1+tolf\n",
    "    errorx=1+tolx\n",
    "    error=[]\n",
    "\n",
    "    while it<nmax and errorf>=tolf and errorx>=tolx:\n",
    "        jx=J(X[0],X[1])\n",
    "        \n",
    "        if np.linalg.det(jx)==0:\n",
    "            print(\"J-Matrix does not have max rank\")\n",
    "            return None,None,None\n",
    "        \n",
    "        fx=np.array(f(X[0],X[1]))\n",
    "        fx=fx.squeeze()\n",
    "        \n",
    "        s=np.linalg.solve(jx,-fx)\n",
    "\n",
    "        Xnew=X+s\n",
    "        XnNorm=np.linalg.norm(Xnew,1)\n",
    "\n",
    "        if XnNorm!=0:\n",
    "            errorx=np.linalg.norm(s,1)/XnNorm\n",
    "        else:\n",
    "            errorx=np.linalg.norm(s,1)\n",
    "\n",
    "        error.append(errorx)\n",
    "        fnew=f(Xnew[0],Xnew[1])\n",
    "        errorf=np.linalg.norm(fnew.squeeze(),1)\n",
    "\n",
    "        X=Xnew\n",
    "        it=it+1\n",
    "    return X,it,error"
   ]
  },
  {
   "cell_type": "markdown",
   "id": "68697b9a-5bd3-4f5a-95d3-eb6aa3e2f503",
   "metadata": {},
   "source": [
    "#### Newton Rapshon Corde"
   ]
  },
  {
   "cell_type": "code",
   "execution_count": 10,
   "id": "810ce079-9389-4143-b62e-0e07522be2c6",
   "metadata": {},
   "outputs": [],
   "source": [
    "def newton_rapshon_corde(init_guess,f,J,tolx,tolf,nmax):\n",
    "    X=np.array(init_guess)\n",
    "    \n",
    "    it=0\n",
    "    errorf=1+tolf\n",
    "    errorx=1+tolx\n",
    "    error=[]\n",
    "    \n",
    "    jx=J(X[0],X[1]) # calculate jx only one time\n",
    "    \n",
    "    if np.linalg.det(jx)==0:\n",
    "        print(\"J-Matrix does not have max rank\")\n",
    "        return None,None,None\n",
    "\n",
    "    while it<nmax and errorf>=tolf and errorx>=tolx:\n",
    "        fx=np.array(f(X[0],X[1]))\n",
    "        fx=fx.squeeze()\n",
    "        \n",
    "        s=np.linalg.solve(jx,-fx)\n",
    "\n",
    "        Xnew=X+s\n",
    "        XnNorm=np.linalg.norm(Xnew,1)\n",
    "\n",
    "        if XnNorm!=0:\n",
    "            errorx=np.linalg.norm(s,1)/XnNorm\n",
    "        else:\n",
    "            errorx=np.linalg.norm(s,1)\n",
    "        error.append(errorx)\n",
    "        fnew=f(Xnew[0],Xnew[1])\n",
    "        errorf=np.linalg.norm(fnew.squeeze(),1)\n",
    "\n",
    "        X=Xnew\n",
    "        it=it+1\n",
    "    return X,it,error"
   ]
  },
  {
   "cell_type": "markdown",
   "id": "6fab6e1e-a84c-4fd3-8a97-69fc4a4dc938",
   "metadata": {},
   "source": [
    "#### Newton Rapshon-Shamaskii"
   ]
  },
  {
   "cell_type": "code",
   "execution_count": 11,
   "id": "d2235663-ca6f-4a21-9d88-068b28ab7203",
   "metadata": {},
   "outputs": [],
   "source": [
    "def newton_rapshon_sham(init_guess,f,J,tolx,tolf,nmax):\n",
    "    X=np.array(init_guess)\n",
    "    \n",
    "    it=0\n",
    "    errorf=1+tolf\n",
    "    errorx=1+tolx\n",
    "    error=[]\n",
    "\n",
    "    shamCounter=0\n",
    "    while it<nmax and errorf>=tolf and errorx>=tolx:\n",
    "        \n",
    "        if shamCounter % 4 == 0: # Calculate jx only once every 4 steps\n",
    "            jx=J(X[0],X[1])\n",
    "        shamCounter=shamCounter + 1\n",
    "        \n",
    "        if np.linalg.det(jx)==0:\n",
    "            print(\"J-Matrix does not have max rank\")\n",
    "            return None,None,None\n",
    "        fx=np.array(f(X[0],X[1]))\n",
    "        fx=fx.squeeze()\n",
    "        \n",
    "        s=np.linalg.solve(jx,-fx)\n",
    "\n",
    "        Xnew=X+s\n",
    "        XnNorm=np.linalg.norm(Xnew,1)\n",
    "\n",
    "        if XnNorm!=0:\n",
    "            errorx=np.linalg.norm(s,1)/XnNorm\n",
    "        else:\n",
    "            errorx=np.linalg.norm(s,1)\n",
    "        error.append(errorx)\n",
    "        fnew=f(Xnew[0],Xnew[1])\n",
    "        errorf=np.linalg.norm(fnew.squeeze(),1)\n",
    "\n",
    "        X=Xnew\n",
    "        it=it+1\n",
    "    return X,it,error"
   ]
  },
  {
   "cell_type": "markdown",
   "id": "a9562c73-9110-4912-bb07-4f368d6d23bd",
   "metadata": {},
   "source": [
    "#### Minimum of Non Linear Function"
   ]
  },
  {
   "cell_type": "code",
   "execution_count": 12,
   "id": "cd58e9d1-0485-4870-8e48-7e439333af45",
   "metadata": {},
   "outputs": [],
   "source": [
    "def newton_rapshon_min(init_guess,grad_f_num,H_num,tolx,tolf,nmax):\n",
    "    X=np.array(init_guess)\n",
    "    \n",
    "    it=0\n",
    "    errorf=1+tolf\n",
    "    errorx=1+tolx\n",
    "    error=[]\n",
    "\n",
    "    while it<nmax and errorf>=tolf and errorx>=tolx:\n",
    "        Hx=H_num(X[0],X[1])\n",
    "        if np.linalg.det(Hx)==0:\n",
    "            print(\"H-Matrix does not have max rank\")\n",
    "            return None,None,None\n",
    "        \n",
    "        gfx=grad_f_num(X[0], X[1])\n",
    "        gfx=gfx.squeeze()\n",
    "        \n",
    "        s=np.linalg.solve(Hx,-gfx)\n",
    "\n",
    "        Xnew=X+s\n",
    "        XnNorm=np.linalg.norm(Xnew,1)\n",
    "        \n",
    "        # Criteri di arresto\n",
    "        if XnNorm!=0:\n",
    "            errorx=np.linalg.norm(s,1)/XnNorm\n",
    "        else:\n",
    "            errorx=np.linalg.norm(s,1)\n",
    "\n",
    "        gradf_xnew=grad_f_num(Xnew[0],Xnew[1])\n",
    "        errorf=np.linalg.norm(gradf_xnew.squeeze(),1)\n",
    "        \n",
    "        error.append(errorx)\n",
    "\n",
    "        X=Xnew\n",
    "        it=it+1\n",
    "    return X,it,error"
   ]
  },
  {
   "cell_type": "markdown",
   "id": "91133e05-def7-479b-9898-32594e916d72",
   "metadata": {},
   "source": [
    "### Linear Systems"
   ]
  },
  {
   "cell_type": "markdown",
   "id": "9a6c8c0b-da29-41f0-b645-bbf2e826a701",
   "metadata": {},
   "source": [
    "#### Iterative Methods"
   ]
  },
  {
   "cell_type": "markdown",
   "id": "8bb91374-1121-443e-962e-2eaea777e2f5",
   "metadata": {},
   "source": [
    "##### Jacobi"
   ]
  },
  {
   "cell_type": "code",
   "execution_count": 13,
   "id": "c5ea10c5-f730-4f08-bb21-f26d4be0ea07",
   "metadata": {},
   "outputs": [],
   "source": [
    "def jacobi(A,b,x0,toll,it_max):\n",
    "    errore=1000\n",
    "    d=np.diag(A)\n",
    "    n=A.shape[0]\n",
    "    E=np.tril(A,-1)\n",
    "    F=np.triu(A,1)\n",
    "    N=-(E+F)\n",
    "\n",
    "    # Convergencee Check (||T|| < 1 or sr < 1)\n",
    "    T=np.dot(np.diag(1/d),N)\n",
    "    eigenvalues=np.linalg.eigvals(T)\n",
    "    spectralradius=np.max(np.abs(eigenvalues)) # sprad<1 -> Converge\n",
    "\n",
    "    # print(\"Norm:\",np.linalg.norm(T,2))\n",
    "    \n",
    "    it=0\n",
    "    er_vet=[]\n",
    "    while it<=it_max and errore>=toll:\n",
    "        x=(b+N@x0)/d.reshape(n,1)\n",
    "        errore=np.linalg.norm(x-x0)/np.linalg.norm(x)\n",
    "        er_vet.append(errore)\n",
    "        x0=x.copy()\n",
    "        it=it+1\n",
    "    return x,it,er_vet"
   ]
  },
  {
   "cell_type": "markdown",
   "id": "2ce426e9-9a51-4123-a8b7-1f569741aa0b",
   "metadata": {},
   "source": [
    "##### Gauss Seidel"
   ]
  },
  {
   "cell_type": "code",
   "execution_count": 14,
   "id": "ed313563-de3c-406b-8dff-75f8d13a3d52",
   "metadata": {},
   "outputs": [],
   "source": [
    "def gauss_seidel(A,b,x0,toll,it_max):\n",
    "    errore=1000\n",
    "    d=np.diag(A)\n",
    "    D=np.diag(d)\n",
    "    E=np.tril(A,-1)\n",
    "    F=np.triu(A,1)\n",
    "    M=D+E\n",
    "    N=-F\n",
    "\n",
    "    # Convergence check\n",
    "    invM=np.linalg.inv(M)\n",
    "    T=invM@N\n",
    "    eigenvalues=np.linalg.eigvals(T)\n",
    "    spectralradius=np.max(np.abs(eigenvalues))\n",
    "    # print(\"raggio spettrale Gauss-Seidel \",raggiospettrale)\n",
    "\n",
    "    # print(\"Norm:\", np.linalg.norm(T,2))\n",
    "    \n",
    "    it=0\n",
    "    er_vet=[]\n",
    "    while it<=it_max and errore>=toll:\n",
    "        x,flag=Lsolve(M,b-F@x0) #Calcolare la soluzione al passo k equivale a calcolare la soluzione del sistema triangolare con matrice M=D+E\n",
    "                                # e termine noto b-F@x0\n",
    "        errore=np.linalg.norm(x-x0)/np.linalg.norm(x)\n",
    "        er_vet.append(errore)\n",
    "        x0=x.copy()\n",
    "        it=it+1\n",
    "    return x,it,er_vet"
   ]
  },
  {
   "cell_type": "markdown",
   "id": "813c06ed-24d5-4dcd-b2da-f85203cc94ad",
   "metadata": {},
   "source": [
    "##### Gauss Seidel SOR"
   ]
  },
  {
   "cell_type": "code",
   "execution_count": 15,
   "id": "8f1837dd-e90f-49e4-b9a4-72e5450ec974",
   "metadata": {},
   "outputs": [],
   "source": [
    "def gauss_seidel_sor(A,b,x0,toll,it_max,omega):\n",
    "    errore=1000\n",
    "    d=np.diag(A)\n",
    "    D=np.diag(d)\n",
    "    Dinv=np.diag(1/d)\n",
    "    E=np.tril(A,-1)\n",
    "    F=np.triu(A,1)\n",
    "\n",
    "    # Iteration Matrix\n",
    "    Momega=D+omega*E\n",
    "    Nomega=(1-omega)*D-omega*F\n",
    "    T=np.dot(np.linalg.inv(Momega),Nomega)\n",
    "\n",
    "    # Convergence Check\n",
    "    eigenvalues=np.linalg.eigvals(T)\n",
    "    spectralradius=np.max(np.abs(eigenvalues))\n",
    "    # print(\"raggio spettrale Gauss-Seidel SOR \", raggiospettrale)\n",
    "    \n",
    "    M=D+E\n",
    "    N=-F\n",
    "    it=0\n",
    "    xold=x0.copy()\n",
    "    xnew=x0.copy()\n",
    "    er_vet=[]\n",
    "    while it<=it_max and errore>=toll:\n",
    "        temp=b-np.dot(F,xold)\n",
    "        xtilde,flag=Lsolve(M,temp)\n",
    "        xnew=(1-omega)*xold+omega*xtilde\n",
    "        errore=np.linalg.norm(xnew-xold)/np.linalg.norm(xnew)\n",
    "        er_vet.append(errore)\n",
    "        xold=xnew.copy()\n",
    "        it=it+1\n",
    "    return xnew,it,er_vet"
   ]
  },
  {
   "cell_type": "markdown",
   "id": "a1c85656-45e0-4c99-a843-cbca35d67bd9",
   "metadata": {},
   "source": [
    "#### Direct Methods"
   ]
  },
  {
   "cell_type": "markdown",
   "id": "fcc1f228-a86b-48f5-809f-846a2361601e",
   "metadata": {},
   "source": [
    "##### Gauss with Pivot"
   ]
  },
  {
   "cell_type": "code",
   "execution_count": 16,
   "id": "df910b76-0ca1-41a9-9021-3f747a18595e",
   "metadata": {},
   "outputs": [],
   "source": [
    "def LUsolve(A,b):\n",
    "    PT,L,U=sp.linalg.lu(A)\n",
    "    P=PT.T.copy()\n",
    "    y,flag=st.Lsolve(L,P@b)\n",
    "    if flag==0:\n",
    "        x,flag=st.Usolve(U,y)\n",
    "        if flag!=0:\n",
    "            return [],flag\n",
    "    else:\n",
    "        return [],flag\n",
    "    return x,flag"
   ]
  },
  {
   "cell_type": "markdown",
   "id": "f8900425-c39d-4e16-8c3b-ad8eb8468931",
   "metadata": {},
   "source": [
    "##### Householder Method ($QR$)"
   ]
  },
  {
   "cell_type": "code",
   "execution_count": 18,
   "id": "d0e8679a-6a97-4b83-ba5f-125ca58a5a36",
   "metadata": {},
   "outputs": [],
   "source": [
    "def QRsolve(A,b):\n",
    "    Q,R=sp.linalg.qr(A)\n",
    "    y=Q.T@b\n",
    "    x,flag=st.Usolve(R,y)\n",
    "    if flag != 0:\n",
    "        return [], flag\n",
    "    else:\n",
    "        return x"
   ]
  },
  {
   "cell_type": "markdown",
   "id": "5f9ce692-872b-47c4-9114-2a7e03bc3e7a",
   "metadata": {},
   "source": [
    "#### Overdetermined Systems"
   ]
  },
  {
   "cell_type": "markdown",
   "id": "9534e798-00e1-44ec-84d9-a00c449d9ad3",
   "metadata": {},
   "source": [
    "##### Normal Equations"
   ]
  },
  {
   "cell_type": "code",
   "execution_count": null,
   "id": "7424e7c3-7db7-4827-a669-8182c6d61ee2",
   "metadata": {},
   "outputs": [],
   "source": [
    "def eqnorm(A,b):\n",
    "    G=A.T@A\n",
    "    \n",
    "    print(\"Condition Number of G: \", np.linalg.cond(G))\n",
    "\n",
    "    f=A.T@b\n",
    "    \n",
    "    if not is_symmetric(G) and not is_positively_defined(G):\n",
    "        print('Requirements not Met')\n",
    "        return None\n",
    "\n",
    "    L=spLin.cholesky(G,lower=True)\n",
    "    U=L.T\n",
    "\n",
    "    z,flag=Lsolve(L,f)\n",
    "\n",
    "    if flag==0:\n",
    "        x,flag=Usolve(U,z)\n",
    "\n",
    "    return x"
   ]
  },
  {
   "cell_type": "markdown",
   "id": "77077daf-4bab-44b1-ad01-b20ca962ce28",
   "metadata": {},
   "source": [
    "##### QR Least Squares"
   ]
  },
  {
   "cell_type": "code",
   "execution_count": null,
   "id": "3b9cf75c-903b-458d-af76-03f5a1d5378b",
   "metadata": {},
   "outputs": [],
   "source": [
    "def qrLS(A,b):\n",
    "    n=A.shape[1]\n",
    "    Q,R=spLin.qr(A)\n",
    "    \n",
    "    h=Q.T@b\n",
    "    \n",
    "    x, flag =st.Usolve(R[:n,:n],h[:n])\n",
    "    r=np.linalg.norm(h[n:])\n",
    "    return x,r"
   ]
  },
  {
   "cell_type": "markdown",
   "id": "ada1ac7e-7865-4af3-b88d-e6b661896267",
   "metadata": {},
   "source": [
    "##### Singular Value Decomposition Least Squares"
   ]
  },
  {
   "cell_type": "code",
   "execution_count": null,
   "id": "efeae69a-3c5b-42be-84e5-c0326e9c1d77",
   "metadata": {},
   "outputs": [],
   "source": [
    "def SVDLS(A,b):\n",
    "    m,n=A.shape  #numero di righe e  numero di colonne di A\n",
    "    U,s,VT=spLin.svd(A)  \n",
    "    \n",
    "    V=VT.T\n",
    "    thresh=np.spacing(1)*m*s[0] ##Calcolo del rango della matrice, numero dei valori singolari maggiori di una soglia\n",
    "    k=np.count_nonzero(s>thresh)\n",
    "    \n",
    "    d=U.T@b\n",
    "    d1=d[:k].reshape(k,1)\n",
    "    s1=s[:k].reshape(k,1)\n",
    "    \n",
    "    c=d1/s1\n",
    "    x=V[:,:k]@c \n",
    "    r=np.linalg.norm(d[k:])**2 \n",
    "    return x,r"
   ]
  },
  {
   "cell_type": "markdown",
   "id": "9e1d5c46-db02-4226-95a8-e0c13b7ef70b",
   "metadata": {},
   "source": [
    "## Descent Methods\n",
    "---"
   ]
  },
  {
   "cell_type": "markdown",
   "id": "eef87214-f9c5-4147-8602-5169e45d815f",
   "metadata": {},
   "source": [
    "### Steepest Descent"
   ]
  },
  {
   "cell_type": "code",
   "execution_count": null,
   "id": "c7eeb66a-9dd7-4055-867f-78799b68e2d8",
   "metadata": {},
   "outputs": [],
   "source": [
    "def steepestdescent(A,b,x0,itmax,tol):\n",
    "    if not is_square(A):\n",
    "        print('Matrix is not square')\n",
    "        return [],[]\n",
    "    \n",
    "    x=x0.copy()\n",
    "    r=A@x-b\n",
    "    it=0\n",
    "    normb=np.linalg.norm(b)\n",
    "\n",
    "    error=np.linalg.norm(r)/normb\n",
    "\n",
    "    vec_sol=[]\n",
    "    vec_sol.append(x.copy())\n",
    "    vec_r=[]\n",
    "    vec_r.append(error)\n",
    "\n",
    "    while errore>=tol and it<itmax:\n",
    "        it=it+1\n",
    "        \n",
    "        Ap=A@p\n",
    "        alpha=-(r.T@p)/(p.T@Ap)\n",
    "        \n",
    "        x=x+alpha*p\n",
    "        r=r+alpha*Ap\n",
    "\n",
    "        vec_sol.append(x.copy())\n",
    "        error=np.linalg.norm(r)/normb\n",
    "        vec_r.append(error)\n",
    "        p=-r # Max descent (Opposite of gradient)\n",
    "        \n",
    "    iterates=np.vstack([arr.T for arr in vec_sol]) # Only for graphical purpose\n",
    "\n",
    "    return x,vec_r, iterates, it"
   ]
  },
  {
   "cell_type": "markdown",
   "id": "180f78a8-a628-475a-87ec-a3e23f94fd62",
   "metadata": {},
   "source": [
    "#### Conjugate Gradient"
   ]
  },
  {
   "cell_type": "code",
   "execution_count": null,
   "id": "1d0fc4b6-fb04-4d1c-b5c0-236f70050c3a",
   "metadata": {},
   "outputs": [],
   "source": [
    "def conjugateGradient(A,b,x0,itmax,tol):\n",
    "\n",
    "    if not is_square(A):\n",
    "        print('Matrix is not square')\n",
    "        return [],[]\n",
    "    \n",
    "    x=x0.copy()\n",
    "    r=A@x-b\n",
    "    p=-r\n",
    "    it=0\n",
    "    errore=np.linalg.norm(r)/np.linalg.norm(b)\n",
    "    \n",
    "    vec_sol=[]\n",
    "    vec_sol.append(x.copy())\n",
    "    vec_r=[]\n",
    "    vec_r.append(errore)\n",
    "\n",
    "    while errore>=tol and it<itmax:\n",
    "        it=it+1\n",
    "        \n",
    "        Ap=A@p\n",
    "\n",
    "        save=(r.T@r)\n",
    "        alpha=save/(Ap.T@p)\n",
    "        \n",
    "        x=x+alpha*p\n",
    "        r=r+alpha*Ap\n",
    "\n",
    "        vec_sol.append(x.copy())\n",
    "        errore=np.linalg.norm(r)/normb\n",
    "        vec_r.append(errore)\n",
    "\n",
    "        gamma=(r.T@r)/save\n",
    "        p=-r+gamma*p # Max descent (Opposite of gradient)\n",
    "        \n",
    "    iterates=np.vstack([arr.T for arr in vec_sol]) # Only for graphical purpose\n",
    "\n",
    "    return x,vec_r, iterates, it"
   ]
  },
  {
   "cell_type": "markdown",
   "id": "e8c1b35a-b4f8-4741-b2b9-7da1f2869a84",
   "metadata": {},
   "source": [
    "## Interpolation\n",
    "---"
   ]
  },
  {
   "cell_type": "markdown",
   "id": "6db2f25e-2b0a-47fe-a711-e88a2b1dbe8b",
   "metadata": {},
   "source": [
    "### Lagrange Polynome"
   ]
  },
  {
   "cell_type": "code",
   "execution_count": null,
   "id": "0f710a85-43e7-46ba-9eca-f10946278c2e",
   "metadata": {},
   "outputs": [],
   "source": [
    "def plagr(nodes,j):\n",
    "    n=nodes.size\n",
    "    zeros=np.zeros_like(nodes)\n",
    "    \n",
    "    zeros=np.append(nodes[:j],nodes[j+1:]) # one-line based programming.\n",
    "    \n",
    "    num=np.poly(zeros)\n",
    "    den=np.polyval(num,nodes[j])\n",
    "\n",
    "    p=num/den\n",
    "    \n",
    "    return p"
   ]
  },
  {
   "cell_type": "markdown",
   "id": "0cd438d7-ca99-4f84-9821-792595523b93",
   "metadata": {},
   "source": [
    "### Interpolation With Lagrange Polynome"
   ]
  },
  {
   "cell_type": "code",
   "execution_count": null,
   "id": "04c4b2df-0be6-4db0-8686-423b55ccbce2",
   "metadata": {},
   "outputs": [],
   "source": [
    "def InterpL(x, y, xv):\n",
    "     \n",
    "     n=x.size\n",
    "     m=xv.size\n",
    "     L=np.zeros((m,n))\n",
    "     for j in range(n):\n",
    "        p=plagr(x,j)\n",
    "        L[:,j]=np.polyval(p,xv)\n",
    "         \n",
    "     return L@y"
   ]
  },
  {
   "cell_type": "markdown",
   "id": "cf2b7998-b93a-471f-b48d-fc5e074e3a67",
   "metadata": {},
   "source": [
    "### Cholesky Factorization"
   ]
  },
  {
   "cell_type": "code",
   "execution_count": null,
   "id": "2f440377-2a0d-4428-9595-1591f9dc1428",
   "metadata": {},
   "outputs": [],
   "source": [
    "def solve_cholesky(A,b):\n",
    "    if is_positively_defined(A) and is_symmetric(A):\n",
    "        L=cholesky(A,lower=True)\n",
    "        y=np.linalg.solve(L,b)\n",
    "        x=np.linal.solve(L.T,b)\n",
    "        return x\n",
    "    else:\n",
    "        print('Matrix does not meet requirements')"
   ]
  }
 ],
 "metadata": {
  "kernelspec": {
   "display_name": "Python 3 (ipykernel)",
   "language": "python",
   "name": "python3"
  },
  "language_info": {
   "codemirror_mode": {
    "name": "ipython",
    "version": 3
   },
   "file_extension": ".py",
   "mimetype": "text/x-python",
   "name": "python",
   "nbconvert_exporter": "python",
   "pygments_lexer": "ipython3",
   "version": "3.12.3"
  }
 },
 "nbformat": 4,
 "nbformat_minor": 5
}
