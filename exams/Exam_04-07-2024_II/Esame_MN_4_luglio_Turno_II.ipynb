{
 "cells": [
  {
   "cell_type": "markdown",
   "id": "73aa0225-b2dd-4e47-8ded-3a61037a72c4",
   "metadata": {},
   "source": [
    "## Esame Metodi Numerici  4 Luglio 2024 - Turno II Ore 12,30"
   ]
  },
  {
   "cell_type": "code",
   "execution_count": 1,
   "id": "999902d6-1878-4281-8426-6325b9673195",
   "metadata": {},
   "outputs": [],
   "source": [
    "import numpy as np\n",
    "import matplotlib.pyplot as plt\n",
    "import sympy as sym\n",
    "from sympy import symbols, Matrix, lambdify\n",
    "import scipy as sp\n",
    "import SolveTriangular as st"
   ]
  },
  {
   "cell_type": "markdown",
   "id": "18395123-3e72-4667-9f4c-5c98ddd3412d",
   "metadata": {},
   "source": [
    "# Esercizio 1\n",
    "\n",
    "Si considerino i due sistemi lineari:\n",
    "\n",
    "     A  x = b \n",
    "\n",
    "    A1 x1 = b1\n",
    "\n",
    "dove A, A1 sono le matrici dei coefficienti, b e b1 sono i termini noti, ed x ed x1 sono i vettori incogniti da determinare.\n",
    "I dati di questi due sistemi lineari sono contenuti nel file **testII.mat**.\n",
    "\n",
    "\n",
    "- Si risolva ciascuno dei sistemi lineari assegnati  utilizzando il metodo più adatto in base alle caratteristiche della matrice dei coefficienti, giustificando teoricamente le scelte effettuate.\n",
    "                                      **punti 6**\n",
    "\n",
    "Per il sistema A1 x1= b1, , aggiungere una perturbazione dello 0.1% sulla componente 1-esima del termine noto, e risolvere il sistema con termine noto perturbato. Calcolare quindi  l'errore relativo sulla soluzione e l'errore relativo sui dati e giustificare i risultati alla luce della teoria.\n",
    "                                      **punti 2**\n",
    "\n",
    "\n",
    "Per la lettura dei dati procedere nel seguente modo:\n",
    "\n",
    "``from scipy.io import loadmat``\n",
    "\n",
    "``import numpy as np``\n",
    "\n",
    "``dati = loadmat('testII')``\n",
    "\n",
    "``A=dati[\"A\"] ``\n",
    "\n",
    "``A=A.astype(float)``\n",
    "\n",
    "`` b=dati[\"b\"] ``\n",
    "\n",
    "`` b=b.astype(float)``\n",
    "\n",
    "``A1=dati[\"A1\"] ``\n",
    "\n",
    "``A1=A1.astype(float)``\n",
    "\n",
    "`` b1=dati[\"b1\"] ``\n",
    "\n",
    "`` b1=b1.astype(float)``"
   ]
  },
  {
   "cell_type": "code",
   "execution_count": 2,
   "id": "ef63e9b6-cb19-4268-9376-39ac6cade9fa",
   "metadata": {},
   "outputs": [
    {
     "name": "stdout",
     "output_type": "stream",
     "text": [
      "MATRICE A1\n",
      "Matrice A quadrata?  True\n",
      "Dimensione A:  10\n",
      "Percentuale Sparsità:  0.96\n",
      "Condizionamento:  12.814544599567935\n",
      "Simmetrica?  True\n",
      "Definita Positiva? True\n",
      "MATRICE A1\n",
      "Matrice A1 quadrata?  False\n",
      "Dimensione A1: 20 x 15 \n",
      "Condizionamento:  5.697438059606206e+16\n",
      "Rango A1:  13\n"
     ]
    }
   ],
   "source": [
    "from scipy.io import loadmat\n",
    "import numpy as np\n",
    "dati = loadmat('testII')\n",
    "A=dati[\"A\"] \n",
    "A=A.astype(float)\n",
    "b=dati[\"b\"]\n",
    "b=b.astype(float)\n",
    "A1=dati[\"A1\"] \n",
    "A1=A1.astype(float)\n",
    "b1=dati[\"b1\"] \n",
    "b1=b1.astype(float)\n",
    "\n",
    "m,n=A.shape\n",
    "m1,n1=A1.shape\n",
    "print('MATRICE A1')\n",
    "print('Matrice A quadrata? ', m==n)\n",
    "print('Dimensione A: ', m)\n",
    "print('Percentuale Sparsità: ',np.count_nonzero(A)/(m*n)) # Matrice Densa\n",
    "print('Condizionamento: ', np.linalg.cond(A)) # Ben condizionata\n",
    "print('Simmetrica? ', np.all(A.T==A))\n",
    "print('Definita Positiva?', np.all(np.linalg.eigvals(A)>0))\n",
    "# Uso l'algoritmo di fattorizzazione Cholesky\n",
    "# Per il teorema della fattorizzazione di Cholesky se la matrice A di ordine n è simmetrica e definita positiva allora\n",
    "# esiste una matrice triangolare inferiore L con gli elementi diagonali positivi, tale che A=L*L^T\n",
    "\n",
    "print('MATRICE A1')\n",
    "print('Matrice A1 quadrata? ', m1==n1)\n",
    "print('Dimensione A1: {} x {} '.format(m1,n1))\n",
    "print('Condizionamento: ', np.linalg.cond(A1)) #Altamente Mal Condizionata\n",
    "print('Rango A1: ', np.linalg.matrix_rank(A1)) # Non a rango massimo\n",
    "# Uso il metodo Single Value Decomposition Least Squares"
   ]
  },
  {
   "cell_type": "code",
   "execution_count": 3,
   "id": "a6fea646-c19c-4562-bfc9-59db23cb07d3",
   "metadata": {},
   "outputs": [],
   "source": [
    "def cholesky(A,b):\n",
    "    L=sp.linalg.cholesky(A, lower=True)\n",
    "    y,flag=st.Lsolve(L,b)\n",
    "    if flag==0:\n",
    "        x,flag=st.Usolve(L.T,y)\n",
    "    return x"
   ]
  },
  {
   "cell_type": "code",
   "execution_count": 4,
   "id": "30262dbe-5890-47d1-8f77-61383a9ac608",
   "metadata": {},
   "outputs": [],
   "source": [
    "def SVDLS(A,b):\n",
    "    m,n=A.shape  #numero di righe e  numero di colonne di A\n",
    "    U,s,VT=sp.linalg.svd(A)  #Attenzione : Restituisce U, il numpy-array 1d che contiene la diagonale della matrice Sigma e VT=VTrasposta)\n",
    "    #Quindi \n",
    "    V=VT.T\n",
    "    thresh=np.spacing(1)*m*s[0] ##Calcolo del rango della matrice, numero dei valori singolari maggiori di una soglia\n",
    "    k=np.count_nonzero(s>thresh)\n",
    "    print(\"rango=\",k)\n",
    "    d=U.T@b\n",
    "    d1=d[:k].reshape(k,1)\n",
    "    s1=s[:k].reshape(k,1)\n",
    "        \n",
    "    #Risolve il sistema diagonale di dimensione kxk avene come matrice dei coefficienti la matrice Sigma\n",
    "    c=d1/s1\n",
    "    x=V[:,:k]@c\n",
    "    residuo=np.linalg.norm(d[k:])**2\n",
    "    return x,residuo"
   ]
  },
  {
   "cell_type": "code",
   "execution_count": 19,
   "id": "f5240ee7-a18d-4d2e-ac8e-f0434ae94955",
   "metadata": {},
   "outputs": [
    {
     "name": "stdout",
     "output_type": "stream",
     "text": [
      "rango= 13\n",
      "Soluzione A:\n",
      " [[1.]\n",
      " [1.]\n",
      " [1.]\n",
      " [1.]\n",
      " [1.]\n",
      " [1.]\n",
      " [1.]\n",
      " [1.]\n",
      " [1.]\n",
      " [1.]]\n",
      "Soluzione A1:\n",
      " [[0.5210993 ]\n",
      " [1.25827182]\n",
      " [1.27889527]\n",
      " [0.46087355]\n",
      " [0.89024294]\n",
      " [1.04762977]\n",
      " [0.29616227]\n",
      " [0.59585228]\n",
      " [1.13383321]\n",
      " [0.94430646]\n",
      " [1.32127485]\n",
      " [0.97301581]\n",
      " [0.15568769]\n",
      " [0.79644108]\n",
      " [1.09968922]]\n",
      "rango= 13\n",
      "Soluzione perturbato A1 :\n",
      " [[0.51834354]\n",
      " [1.25346665]\n",
      " [1.27498581]\n",
      " [0.45782142]\n",
      " [0.88952414]\n",
      " [1.04813051]\n",
      " [0.29695309]\n",
      " [0.59707636]\n",
      " [1.13384226]\n",
      " [0.94384966]\n",
      " [1.3296386 ]\n",
      " [0.97362852]\n",
      " [0.15806687]\n",
      " [0.79903983]\n",
      " [1.10124714]]\n",
      "Errore relativo sui dati:  0.0009999999999999335\n",
      "Errore relativo sulla soluzione:  0.006330062620179157\n"
     ]
    }
   ],
   "source": [
    "x=cholesky(A,b)\n",
    "x1,res=SVDLS(A1,b1)\n",
    "print('Soluzione A:\\n',x)\n",
    "print('Soluzione A1:\\n',x1)\n",
    "\n",
    "b1p=b1.copy()\n",
    "b1p[1]=b1p[1]*1.001 # Perturbo il termine noto\n",
    "\n",
    "errore_dati=np.linalg.norm(b1p-b1,np.inf)/np.linalg.norm(b1,np.inf)\n",
    "x1p,resp=SVDLS(A1,b1p)\n",
    "errore_soluzione=np.linalg.norm(x1p-x1,np.inf)/np.linalg.norm(x1,np.inf)\n",
    "print('Soluzione perturbato A1 :\\n',x1p)\n",
    "\n",
    "'''\n",
    "La soluzione risulta altamente perturbata a causa del condizionamento della matrice A1\n",
    "'''\n",
    "print('Errore relativo sui dati: ',errore_dati)\n",
    "print('Errore relativo sulla soluzione: ',errore_soluzione)"
   ]
  },
  {
   "cell_type": "markdown",
   "id": "83625f69-f268-4b7b-a57e-800d00f4057e",
   "metadata": {},
   "source": [
    "- Dato il sistema lineare \n",
    "A3 x3 = b3\n",
    "dove \n",
    "\n",
    "A3=np.array([[8.0,0,1,1],[0,0.8,1,0],[1,1,2,0],[1,0,0.0,2.0]])\n",
    "b3= np.array([10.0, 1.8,  4.0, 3.0])\n",
    "\n",
    "- Verificare senza calcolare il raggio spettrale della matrice di iterazione che il metodo di Gauss-Seidel converge, richiamando il teorema che garantisce la convergenza di Gauss-Seidel per classi particolari di \n",
    "matrici     **punti[1]**.\n",
    "- Implementare il metodo di Gauss-Seidel  e risolvere il sistema lineare A3 x3= b3  **punti[3]**.\n",
    "\n",
    "Totale **Punti 12**"
   ]
  },
  {
   "cell_type": "code",
   "execution_count": 6,
   "id": "c08a607e-e024-4200-a2ca-c6b0b689d792",
   "metadata": {},
   "outputs": [
    {
     "name": "stdout",
     "output_type": "stream",
     "text": [
      "Matrice A3 è diagonale strettamente dominante? False\n",
      "Matrice A3 simmetrica? True\n",
      "Matrice A3 definita positiva? True\n"
     ]
    }
   ],
   "source": [
    "A3=np.array([[8.0,0,1,1],[0,0.8,1,0],[1,1,2,0],[1,0,0.0,2.0]])\n",
    "n3=A3.shape[0]\n",
    "b3= np.array([10.0, 1.8,  4.0, 3.0]).reshape(n3,1)\n",
    "\n",
    "# 2 modi per controllare la convergenza nel metodo di gauss-seidel:\n",
    "# 1. Controllare che la matrice sia a diagonale strettamente dominante\n",
    "# 2. Controllare che la matrice sia simmetrica e definita positiva\n",
    "#    - Si può dimostrare che se vale una delle condizoni allora vale: ||T||<1 che è condizione sufficiente per la convergenza.\n",
    "\n",
    "abs_A=np.abs(A3)\n",
    "print('Matrice A3 è diagonale strettamente dominante?', np.all(2*np.diag(abs_A) > np.sum(abs_A, axis=1)))\n",
    "print('Matrice A3 simmetrica?', np.all(A3.T==A3))\n",
    "eigvals=np.linalg.eigvals(A3)\n",
    "print('Matrice A3 definita positiva?',np.all(eigvals>0))"
   ]
  },
  {
   "cell_type": "code",
   "execution_count": 7,
   "id": "c3789b2e-bbd2-41f3-a12a-05bfed740850",
   "metadata": {},
   "outputs": [],
   "source": [
    "def gauss_seidel(A,b,x0,toll,it_max):\n",
    "    errore=1000\n",
    "    d=np.diag(A)\n",
    "    D=np.diag(d)\n",
    "    E=np.tril(A,-1)\n",
    "    F=np.triu(A,1)\n",
    "    M=D+E\n",
    "    N=-F\n",
    "\n",
    "    # Convergence check\n",
    "    invM=np.linalg.inv(M)\n",
    "    T=invM@N\n",
    "    autovalori=np.linalg.eigvals(T)\n",
    "    raggiospettrale=np.max(np.abs(autovalori))\n",
    "    print(\"raggio spettrale Gauss-Seidel \",raggiospettrale)\n",
    "\n",
    "    print(\"Norm:\", np.linalg.norm(T,2))\n",
    "    \n",
    "    it=0\n",
    "    er_vet=[]\n",
    "    while it<=it_max and errore>=toll:\n",
    "        x,flag=st.Lsolve(M,b-F@x0)  #Calcolare la soluzione al passo k equivale a calcolare la soluzione del sistema triangolare con matrice M=D+E\n",
    "                               # e termine noto b-F@x0\n",
    "        #print('M\\n{}\\nb-Fx0\\n{}\\nx{}'.format(M,b-F@x0,x))\n",
    "        errore=np.linalg.norm(x-x0)/np.linalg.norm(x)\n",
    "        er_vet.append(errore)\n",
    "        x0=x.copy()\n",
    "        it=it+1\n",
    "    return x,it,er_vet"
   ]
  },
  {
   "cell_type": "code",
   "execution_count": 8,
   "id": "86304efd-df27-4954-a1fd-ed27a2fa9152",
   "metadata": {},
   "outputs": [
    {
     "ename": "NameError",
     "evalue": "name 'toll' is not defined",
     "output_type": "error",
     "traceback": [
      "\u001b[31m---------------------------------------------------------------------------\u001b[39m",
      "\u001b[31mNameError\u001b[39m                                 Traceback (most recent call last)",
      "\u001b[36mCell\u001b[39m\u001b[36m \u001b[39m\u001b[32mIn[8]\u001b[39m\u001b[32m, line 4\u001b[39m\n\u001b[32m      2\u001b[39m it_max=\u001b[32m200\u001b[39m\n\u001b[32m      3\u001b[39m tol=\u001b[32m1e-10\u001b[39m\n\u001b[32m----> \u001b[39m\u001b[32m4\u001b[39m x3,it3,er_vet=gauss_seidel(A3,b3,x03,\u001b[43mtoll\u001b[49m,it_max)\n\u001b[32m      5\u001b[39m \u001b[38;5;28mprint\u001b[39m(\u001b[33m'\u001b[39m\u001b[33mSoluzione: \u001b[39m\u001b[38;5;130;01m\\n\u001b[39;00m\u001b[38;5;132;01m{}\u001b[39;00m\u001b[38;5;130;01m\\n\u001b[39;00m\u001b[33m Iterazioni: \u001b[39m\u001b[38;5;132;01m{}\u001b[39;00m\u001b[38;5;130;01m\\n\u001b[39;00m\u001b[33m'\u001b[39m.format(x3,it3))\n",
      "\u001b[31mNameError\u001b[39m: name 'toll' is not defined"
     ]
    }
   ],
   "source": [
    "x03=np.zeros(n3).reshape(n3,1)\n",
    "it_max=200\n",
    "tol=1e-10\n",
    "x3,it3,er_vet=gauss_seidel(A3,b3,x03,toll,it_max)\n",
    "print('Soluzione: \\n{}\\n Iterazioni: {}\\n'.format(x3,it3))"
   ]
  },
  {
   "cell_type": "markdown",
   "id": "26e0b8fe-c204-4a42-9bbf-0b338fbdcf8c",
   "metadata": {},
   "source": [
    "## Esercizio 2\n",
    "\n",
    "Per ogni $k \\in N$ l'equazione di II grado $x^2+(4^{2k}-2^{-2k})x-4^{2k}2^{-2k}=0 $ ha come soluzioni esatte $x_1=-4^{2k}$,$x_2=2^{-2k}$,"
   ]
  },
  {
   "cell_type": "markdown",
   "id": "f2ba7174-2dcc-47fd-9aaf-a890de3a0dcd",
   "metadata": {},
   "source": [
    "Per ogni $k \\in N$ l'equazione di II grado $x^2+(4^{2k}-2^{-2k})x-4^{2k}2^{-2k}=0 $ ha come soluzioni esatte $x_1=-4^{2k}$,$x_2=2^{-2k}$,\n",
    "Scrivere lo script python in cui\n",
    "- si implementa la formula risolutiva delle equazioni di II grado per calcolare le  due soluzioni per $k$ che  assume valori interi tra 4 e 12;  [**Punti 2**]\n",
    "- per entrambe le soluzioni, si calcola l'errore relativo commesso al variare di k che assume valori interi tra 4 e 12;   [**Punti 1**]\n",
    "- si rappresentano in un grafico gli andamenti dei due errori relativi calcolati nel punto precedente; [**Punti 1**]\n",
    "- osservando i grafici ottenuti, si dica se le formule utilizzate per calcolare le due soluzioni hanno dato luogo ad algoritmi stabili, motivando opportunamente la risposta alla luce della teoria.   [**Punti 4**]\n",
    "\n",
    "- proporre ed implementare un algoritmo alternativo stabile per il calcolo della soluzione per cui la formula risolutiva classica si è dimostrata non essere stabile. [**Punti 2**]"
   ]
  },
  {
   "cell_type": "code",
   "execution_count": null,
   "id": "f3f81a3f-89e1-46d3-92c4-17ca8c384f3a",
   "metadata": {},
   "outputs": [],
   "source": [
    "a=lambda k: 1\n",
    "b=lambda k: 4**(2*k)-2**(-2*k)\n",
    "c=lambda k: -4**(2*k)*2**(-2*k)\n",
    "\n",
    "solx1=lambda k: -4**(2*k)\n",
    "solx2=lambda k: 2**(-2*k)\n",
    "\n",
    "errorex1=[]\n",
    "errorex2=[]\n",
    "\n",
    "for k in range(4,13):\n",
    "    delta=np.sqrt(b(k)**2-4*a(k)*c(k))\n",
    "    \n",
    "    x1=(-b(k)-delta)/(2*a(k))\n",
    "    x2=(-b(k)+delta)/(2*a(k))\n",
    "    solx1k=solx1(k)\n",
    "    solx2k=solx2(k)\n",
    "    print('spacing b: ',np.spacing(b(k)),'spacing delta: ',np.spacing(delta),' valore sottratto: ', x2, ' valore reale: ',solx2k)\n",
    "    print('iteration: ',k)   \n",
    "    errorex1.append(abs(solx1k-x1)/abs(solx1k))\n",
    "    errorex2.append(abs(solx2k-x2)/abs(solx2k))\n",
    "\n",
    "plt.semilogy(range(4,len(errorex1)+4),errorex1,'b--',range(4,len(errorex2)+4),errorex2,'g--')\n",
    "plt.legend(['Errore sol x1','Errore sol x2'])\n",
    "\n",
    "# per valori grandi (k>8) il risultato corretto, ha la precisione troppo alta per essere rappresentata con la differenza di due numeri grandi;\n",
    "# Risulta quindi che la differenza vale 0"
   ]
  },
  {
   "cell_type": "code",
   "execution_count": null,
   "id": "6747a14e-a038-40b4-98bf-821c3cbd6867",
   "metadata": {},
   "outputs": [],
   "source": [
    "# Intervallo dei valori di k\n",
    "ks = np.arange(4, 13, dtype=float)\n",
    "\n",
    "# Soluzioni esatte\n",
    "x1_exact = lambda k: -4**(2*k)\n",
    "x2_exact = lambda k: 2**(-2*k)\n",
    "\n",
    "# Inizializziamo liste per errori relativi\n",
    "errors_x1 = []\n",
    "errors_x2 = []\n",
    "\n",
    "# Funzione risolutiva classica\n",
    "def solve_quadratic_classic(a, b, c):\n",
    "    delta = b**2 - 4*a*c\n",
    "    sqrt_delta = np.sqrt(delta)\n",
    "    x1 = (-b + sqrt_delta) / (2*a)\n",
    "    x2 = (-b - sqrt_delta) / (2*a)\n",
    "    return x1, x2\n",
    "\n",
    "# Loop su tutti i k\n",
    "for k in ks:\n",
    "    a = 1\n",
    "    b = 4**(2*k) - 2**(-2*k)\n",
    "    c = -4**(2*k) * 2**(-2*k)\n",
    "    \n",
    "    # Soluzioni classiche\n",
    "    x1, x2 = solve_quadratic_classic(a, b, c)\n",
    "    \n",
    "    # Ordiniamo per confrontare correttamente con le esatte\n",
    "    computed = sorted([x1, x2])\n",
    "    exact = sorted([x1_exact(k), x2_exact(k)])\n",
    "    \n",
    "    # Calcolo errori relativi\n",
    "    err1 = abs((computed[0] - exact[0]) / exact[0])\n",
    "    err2 = abs((computed[1] - exact[1]) / exact[1])\n",
    "    \n",
    "    errors_x1.append(err1)\n",
    "    errors_x2.append(err2)\n",
    "\n",
    "# === GRAFICO ===\n",
    "plt.figure(figsize=(10,6))\n",
    "plt.plot(ks, errors_x1, marker='o', label='Errore relativo $x_1$')\n",
    "plt.plot(ks, errors_x2, marker='s', label='Errore relativo $x_2$')\n",
    "plt.yscale('log')\n",
    "plt.xlabel('k')\n",
    "plt.ylabel('Errore relativo (scala log)')\n",
    "plt.title('Errore relativo nelle soluzioni dell’equazione di II grado')\n",
    "plt.legend()\n",
    "plt.show()"
   ]
  },
  {
   "cell_type": "markdown",
   "id": "828a3a5c-f225-4808-a221-785c0cee8df0",
   "metadata": {},
   "source": [
    "- Ricavavare la formula che quantifica l'indice di condizionamento del problema di valutare una funzione $f:R \\rightarrow R$ in un punto $x \\in R$ [**punti 3**]"
   ]
  },
  {
   "cell_type": "markdown",
   "id": "b1e3945c-db1a-4b49-b80b-cc12c5330e68",
   "metadata": {},
   "source": [
    "## Domande Intelligenza Artificiale\n",
    "**NB: Ogni risposta esatta:  +0.5 punti, ogni risposta errata: -0.5 punti. La mancanza di risposta:  0 punti**"
   ]
  },
  {
   "cell_type": "markdown",
   "id": "aa9e415e-dc1f-42b0-aa27-cb4a046582c5",
   "metadata": {},
   "source": [
    "Domande a risposta multipla"
   ]
  },
  {
   "cell_type": "markdown",
   "id": "b5e2df13-7d65-4214-9195-fc5942a98a21",
   "metadata": {},
   "source": [
    "**1** \n",
    "Quale delle seguenti affermazioni è FALSA riguardo alle reti MLP (Multilayer Perceptron)?\n",
    "\n",
    "- Le reti MLP sono composte da uno o più strati nascosti di neuroni.\n",
    "- Le reti MLP utilizzano una funzione di attivazione non lineare per introdurre una non linearità nel modello.\n",
    "\n",
    "- Le reti MLP sono in grado di apprendere solo relazioni lineari tra i dati di input e output.\n",
    "\n",
    "- Le reti MLP possono essere utilizzate per risolvere una vasta gamma di problemi di apprendimento automatico, tra cui la classificazione e la regressione."
   ]
  },
  {
   "cell_type": "markdown",
   "id": "5474e22e-e367-4289-8a1c-ed104eb111c6",
   "metadata": {},
   "source": [
    "**2.**  Quale delle seguenti affermazioni è la definizione CORRETTA di learning rate nel training di una rete neurale?\n",
    "\n",
    "A) Il numero di volte in cui l'intero set di dati viene utilizzato durante il training.\n",
    "\n",
    "B) Un parametro che controlla la velocità con cui i pesi della rete vengono aggiornati durante il training.\n",
    "\n",
    "C) Il numero di neuroni presenti nello strato di output della rete.\n",
    "\n",
    "D) La funzione di attivazione utilizzata dai neuroni della rete.ressione"
   ]
  },
  {
   "cell_type": "markdown",
   "id": "328706ff-0d3c-4b99-97f3-d2eea5158c0c",
   "metadata": {},
   "source": [
    "**3.**  \n",
    "Quale tra le seguenti affermazioni descrive meglio il compito della funzione di attivazione nel training di una rete neurale?\n",
    "\n",
    "- Trasformare i dati di input in un formato compatibile con la rete neurale\n",
    "\n",
    "- Introdurre una non linearità nel flusso di informazioni della rete\n",
    "\n",
    "- Calcolare l'errore tra l'output previsto e quello effettivo\n",
    "\n",
    "- Aggiornare i pesi delle connessioni tra i neuroni softmax\n"
   ]
  },
  {
   "cell_type": "markdown",
   "id": "248323f7-7a5a-478b-b446-71db7d2ff490",
   "metadata": {},
   "source": [
    "**4.** Quale delle seguenti definizioni descrive meglio un'epoca nel training di una rete neurale?\n",
    "- Il numero di volte in cui viene aggiornato un singolo peso nella rete\n",
    "- Il tempo impiegato per completare un ciclo di forward pass e backward propagation\n",
    "- Il numero di volte in cui l'intero set di dati di training viene esposto alla rete\n",
    "- Una misura della complessità del modello di rete neurale\n"
   ]
  },
  {
   "cell_type": "markdown",
   "id": "0ab76c03-ab08-49b8-a688-688ca2aa7cbe",
   "metadata": {},
   "source": [
    "**5.** Quale tra le seguenti affermazioni è FALSA riguardo alla suddivisione del dataset in un contesto di machine learning?\n",
    "\n",
    "- La suddivisione del dataset in set di training, validation e test è fondamentale per valutare correttamente le prestazioni di un modello di machine learning.\n",
    "- Il set di training viene utilizzato per addestrare il modello sui dati.\n",
    "- Il set di validation viene utilizzato per trovare le etichette dei dati di input\n",
    "- Il set di test viene utilizzato per valutare le prestazioni finali del modello su dati che non sono stati utilizzati per il training o la validation.\n"
   ]
  },
  {
   "cell_type": "markdown",
   "id": "b18ecaab-5021-450a-90d5-720082587ddb",
   "metadata": {},
   "source": [
    "**Domande aperte**"
   ]
  },
  {
   "cell_type": "markdown",
   "id": "9d9bcf40-f194-4892-ad65-a2055d694430",
   "metadata": {},
   "source": [
    "**6. Descrivi in cosa consiste la fase di forward-propagation e back-propagation nell'ambito del training di una rete neurale, soffermandoti sull'importanza dell'algoritmo di backpropagation** per il calcolo delle derivate parziali della funzione costo rispetto ai pesi di tutti i layer **[punti 1.5]**\n",
    "\n",
    "**7** Ricavare la formula di aggiornamento dei pesi mediante algoritmo di backpropagation nel caso di una rete MLP formata da un nodo di input, 2 layer nascosti ciascuno dei quali costituito da un solo neurone ed un nodo di output.   **[punti: 3]**"
   ]
  },
  {
   "cell_type": "markdown",
   "id": "b24fca09-a7e4-4fc2-9dcb-f052a31248e4",
   "metadata": {},
   "source": []
  }
 ],
 "metadata": {
  "kernelspec": {
   "display_name": "Python 3 (ipykernel)",
   "language": "python",
   "name": "python3"
  },
  "language_info": {
   "codemirror_mode": {
    "name": "ipython",
    "version": 3
   },
   "file_extension": ".py",
   "mimetype": "text/x-python",
   "name": "python",
   "nbconvert_exporter": "python",
   "pygments_lexer": "ipython3",
   "version": "3.12.3"
  }
 },
 "nbformat": 4,
 "nbformat_minor": 5
}
