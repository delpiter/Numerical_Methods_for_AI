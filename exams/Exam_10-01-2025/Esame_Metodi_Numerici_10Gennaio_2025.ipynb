{
 "cells": [
  {
   "cell_type": "code",
   "execution_count": 1,
   "id": "00a47225-b931-4c04-998d-8dbd22a04b29",
   "metadata": {},
   "outputs": [],
   "source": [
    "from scipy.io import loadmat\n",
    "import numpy as np\n",
    "import sympy as sim\n",
    "import scipy as sp\n",
    "import math\n",
    "import matplotlib.pyplot as plt\n",
    "import SolveTriangular as st"
   ]
  },
  {
   "cell_type": "markdown",
   "id": "60ff1e86-85a2-45b1-9295-5d8e1897c7bc",
   "metadata": {},
   "source": [
    "## Esame Metodi Numerici  10 gennaio 2025 - Ore 14\n",
    "\n",
    "Si considerino i due sistemi lineari:\n",
    "\n",
    "     A  x = b \n",
    "\n",
    "    A1 x1 = b1\n",
    "\n",
    "dove A, A1 sono le matrici dei coefficienti, b e b1 sono i termini noti, ed x ed x1 sono i vettori incogniti da determinare.\n",
    "I dati di questi due sistemi lineari sono contenuti nel file **test.mat**.\n",
    "\n",
    "\n",
    "- Si risolva ciascuno dei sistemi lineari assegnati  utilizzato il metodo più adatto in base alle caratteristiche della matrice dei coefficienti, giustificando teoricamente le scelte effettuate.\n",
    "                                      **punti 5**\n",
    "\n",
    "Per il primo sistema lineare A x= b,  aggiungere una perturbazione dell' 1% sulla componente b[0]  del termine noto, e risolvere il sistema con termine noto perturbato. Calcolare quindi  l'errore relativo sulla soluzione e l'errore relativo sui dati e giustificare i risultati alla luce della teoria, richiamando il teorema relativo.\n",
    "                                      **punti 3**\n",
    "\n",
    "\n",
    "Per la lettura dei dati procedere nel seguente modo:"
   ]
  },
  {
   "cell_type": "code",
   "execution_count": 19,
   "id": "50946307-832d-4050-afea-be0321e8e5ee",
   "metadata": {},
   "outputs": [],
   "source": [
    "dati = loadmat('test')\n",
    "A=dati[\"A\"]\n",
    "A=A.astype(float)\n",
    "b=dati[\"b\"]\n",
    "b=b.astype(float)\n",
    "A1=dati[\"A1\"]\n",
    "A1=A1.astype(float)\n",
    "b1=dati[\"b1\"]\n",
    "b1=b1.astype(float)"
   ]
  },
  {
   "cell_type": "code",
   "execution_count": 82,
   "id": "e0b471eb-704e-4331-ada1-0cafc90097e3",
   "metadata": {},
   "outputs": [],
   "source": [
    "def is_square(A):\n",
    "    return A.shape[0]==A.shape[1]\n",
    "\n",
    "def condition(A):\n",
    "    return np.linalg.cond(A)\n",
    "\n",
    "def is_symmetric(A):\n",
    "    return np.all(A.T==A)\n",
    "\n",
    "def is_diag_dominant(A):\n",
    "    absA=np.abs(A)\n",
    "    return np.all(2*np.diag(absA)>=np.sum(absA,axis=1))\n",
    "\n",
    "def is_pos_def(A):\n",
    "    eig=np.linalg.eigvals(A)\n",
    "    return np.all(eig>0)\n",
    "\n",
    "def print_size(A):\n",
    "    print('Size: {}x{}'.format(A.shape[0],A.shape[1]))\n",
    "\n",
    "def density_perc(A):\n",
    "    return np.count_nonzero(A)/(A.shape[0]*A.shape[1])*100"
   ]
  },
  {
   "cell_type": "code",
   "execution_count": 85,
   "id": "e0c4c807-68f7-42f9-ae2d-6c18bc4d9123",
   "metadata": {},
   "outputs": [
    {
     "name": "stdout",
     "output_type": "stream",
     "text": [
      "MATRICE A\n",
      "Dimensioni?\n",
      "Size: 20x20\n",
      "Condizionamento: 9999.999999997885\n",
      "Densità : 8.0%\n",
      "Diagonale Dominante?  False\n",
      "Simmetrica? True\n",
      "Definita positiva? True\n",
      "MATRICE A1\n",
      "Dimensioni?\n",
      "Size: 20x15\n",
      "Condizionamento: 5.697438059606206e+16\n",
      "Rango massimo?:  False\n"
     ]
    }
   ],
   "source": [
    "print('MATRICE A')\n",
    "print('Dimensioni?')\n",
    "print_size(A)\n",
    "print('Condizionamento:',condition(A))\n",
    "print('Densità : {}%'.format(density_perc(A)))\n",
    "print('Diagonale Dominante? ', is_diag_dominant(A))\n",
    "print('Simmetrica?', is_symmetric(A))\n",
    "print('Definita positiva?', is_pos_def(A))\n",
    "# Utilizzo il teorema della convergenza del metodo di gauss seidel che dice che se una matrice è simmetrica e definita positiva,\n",
    "# Allora il metodo converge\n",
    "print('MATRICE A1')\n",
    "print('Dimensioni?')\n",
    "print_size(A1)\n",
    "print('Condizionamento:',condition(A1))\n",
    "print('Rango massimo?: ',np.linalg.matrix_rank(A1)==A1.shape[0])\n",
    "\n",
    "# Poichè la matrice A1 non è a rango massimo, è sovradeterminata e altamente malcondizionata, utilizzo il metodo SVDLQ\n",
    "# Che è \"resistente\" a matrici altamente mal condizionate e è l'unico che trova una soluzione con una matrice non a rango massimo."
   ]
  },
  {
   "cell_type": "code",
   "execution_count": 86,
   "id": "5d2df787-f368-44b0-9b95-787153380363",
   "metadata": {},
   "outputs": [],
   "source": [
    "def gauss_seidel(A,b,x0,toll,it_max):\n",
    "    errore=1000\n",
    "    d=np.diag(A)\n",
    "    D=np.diag(d)\n",
    "    E=np.tril(A,-1)\n",
    "    F=np.triu(A,1)\n",
    "    M=D+E\n",
    "    N=-F\n",
    "\n",
    "    # Convergence check\n",
    "    invM=np.linalg.inv(M)\n",
    "    T=invM@N\n",
    "    eigenvalues=np.linalg.eigvals(T)\n",
    "    spectralradius=np.max(np.abs(eigenvalues))\n",
    "    # print(\"raggio spettrale Gauss-Seidel \",raggiospettrale)\n",
    "\n",
    "    # print(\"Norm:\", np.linalg.norm(T,2))\n",
    "    \n",
    "    it=0\n",
    "    er_vet=[]\n",
    "    while it<=it_max and errore>=toll:\n",
    "        x,flag=st.Lsolve(M,b+N@x0) # Key Operation\n",
    "        errore=np.linalg.norm(x-x0)/np.linalg.norm(x)\n",
    "        er_vet.append(errore)\n",
    "        x0=x.copy()\n",
    "        it=it+1\n",
    "    return x,it,er_vet"
   ]
  },
  {
   "cell_type": "code",
   "execution_count": 96,
   "id": "396e402b-7236-4dbd-9ba7-3ef5fc651c28",
   "metadata": {},
   "outputs": [],
   "source": [
    "def SVDLS(A,b):\n",
    "    m,n=A.shape  #numero di righe e  numero di colonne di A\n",
    "    U,s,VT=sp.linalg.svd(A)  #Attenzione : Restituisce U, il numpy-array 1d che contiene la diagonale della matrice Sigma e VT=VTrasposta)\n",
    "    #Quindi \n",
    "    V=VT.T\n",
    "    thresh=np.spacing(1)*m*s[0] ##Calcolo del rango della matrice, numero dei valori singolari maggiori di una soglia\n",
    "    k=np.count_nonzero(s>thresh)\n",
    "    print(\"rango=\",k)\n",
    "    d=U.T@b\n",
    "    d1=d[:k].reshape(k,1)\n",
    "    s1=s[:k].reshape(k,1)\n",
    "        \n",
    "    #Risolve il sistema diagonale di dimensione kxk avene come matrice dei coefficienti la matrice Sigma\n",
    "    c=d1/s1\n",
    "    x=V[:,:k]@c\n",
    "    residuo=np.linalg.norm(d[k:])**2\n",
    "    return x,residuo"
   ]
  },
  {
   "cell_type": "code",
   "execution_count": 78,
   "id": "96377ed5-d60e-48a9-9017-247c2b34ac24",
   "metadata": {},
   "outputs": [],
   "source": [
    "def conjugateGradient(A,b,x0,itmax,tol):\n",
    "    \n",
    "    x=x0.copy()\n",
    "    r=A@x-b\n",
    "    p=-r\n",
    "    it=0\n",
    "    normb=np.linalg.norm(b)\n",
    "    errore=np.linalg.norm(r)/normb\n",
    "    \n",
    "    vec_sol=[]\n",
    "    vec_sol.append(x.copy())\n",
    "    vec_r=[]\n",
    "    vec_r.append(errore)\n",
    "\n",
    "    while errore>=tol and it<itmax:\n",
    "        it=it+1\n",
    "        \n",
    "        Ap=A@p\n",
    "\n",
    "        save=(r.T@r)\n",
    "        alpha=save/(Ap.T@p)\n",
    "        \n",
    "        x=x+alpha*p\n",
    "        r=r+alpha*Ap\n",
    "\n",
    "        vec_sol.append(x.copy())\n",
    "        errore=np.linalg.norm(r)/normb\n",
    "        vec_r.append(errore)\n",
    "\n",
    "        gamma=(r.T@r)/save\n",
    "        p=-r+gamma*p # Max descent (Opposite of gradient)\n",
    "        \n",
    "    iterates=np.vstack([arr.T for arr in vec_sol]) # Only for graphical purpose\n",
    "\n",
    "    return x,vec_r, iterates, it"
   ]
  },
  {
   "cell_type": "code",
   "execution_count": 90,
   "id": "2f90c73d-b773-4c17-b502-b3e56f762628",
   "metadata": {},
   "outputs": [],
   "source": [
    "def QRsolve(A,b):\n",
    "    Q,R=sp.linalg.qr(A)\n",
    "    y=Q.T@b\n",
    "    x,flag=st.Usolve(R,y)\n",
    "    \n",
    "    return x    "
   ]
  },
  {
   "cell_type": "code",
   "execution_count": 80,
   "id": "766e154c-33fc-4890-9786-ab15995c4be8",
   "metadata": {},
   "outputs": [],
   "source": [
    "def solveCholesky(A,b):\n",
    "    L=sp.linalg.cholesky(A,lower=True)\n",
    "    y,flag=st.Lsolve(L,b)\n",
    "    if flag==0:\n",
    "        x,flag=st.Usolve(L.T,y)\n",
    "    return x"
   ]
  },
  {
   "cell_type": "code",
   "execution_count": 95,
   "id": "c809ca17-bca4-4411-a04b-880fc67b058d",
   "metadata": {},
   "outputs": [
    {
     "name": "stdout",
     "output_type": "stream",
     "text": [
      "xgauss [[1.        ]\n",
      " [1.        ]\n",
      " [1.        ]\n",
      " [1.        ]\n",
      " [1.        ]\n",
      " [1.00000012]\n",
      " [1.        ]\n",
      " [1.        ]\n",
      " [1.        ]\n",
      " [1.        ]\n",
      " [1.        ]\n",
      " [1.        ]\n",
      " [1.        ]\n",
      " [1.        ]\n",
      " [1.        ]\n",
      " [1.        ]\n",
      " [1.        ]\n",
      " [1.        ]\n",
      " [1.        ]\n",
      " [0.99999995]] it 4733\n",
      "xchol [[1.]\n",
      " [1.]\n",
      " [1.]\n",
      " [1.]\n",
      " [1.]\n",
      " [1.]\n",
      " [1.]\n",
      " [1.]\n",
      " [1.]\n",
      " [1.]\n",
      " [1.]\n",
      " [1.]\n",
      " [1.]\n",
      " [1.]\n",
      " [1.]\n",
      " [1.]\n",
      " [1.]\n",
      " [1.]\n",
      " [1.]\n",
      " [1.]]\n",
      "xqr [[1.]\n",
      " [1.]\n",
      " [1.]\n",
      " [1.]\n",
      " [1.]\n",
      " [1.]\n",
      " [1.]\n",
      " [1.]\n",
      " [1.]\n",
      " [1.]\n",
      " [1.]\n",
      " [1.]\n",
      " [1.]\n",
      " [1.]\n",
      " [1.]\n",
      " [1.]\n",
      " [1.]\n",
      " [1.]\n",
      " [1.]\n",
      " [1.]]\n",
      "xgradient [[1.]\n",
      " [1.]\n",
      " [1.]\n",
      " [1.]\n",
      " [1.]\n",
      " [1.]\n",
      " [1.]\n",
      " [1.]\n",
      " [1.]\n",
      " [1.]\n",
      " [1.]\n",
      " [1.]\n",
      " [1.]\n",
      " [1.]\n",
      " [1.]\n",
      " [1.]\n",
      " [1.]\n",
      " [1.]\n",
      " [1.]\n",
      " [1.]]\n",
      "[[0.5210993 ]\n",
      " [1.25827182]\n",
      " [1.27889527]\n",
      " [0.46087355]\n",
      " [0.89024294]\n",
      " [1.04762977]\n",
      " [0.29616227]\n",
      " [0.59585228]\n",
      " [1.13383321]\n",
      " [0.94430646]\n",
      " [1.32127485]\n",
      " [0.97301581]\n",
      " [0.15568769]\n",
      " [0.79644108]\n",
      " [1.09968922]]\n",
      "(array([[1.],\n",
      "       [1.],\n",
      "       [1.],\n",
      "       [1.],\n",
      "       [1.],\n",
      "       [1.],\n",
      "       [1.],\n",
      "       [1.],\n",
      "       [1.],\n",
      "       [1.],\n",
      "       [1.],\n",
      "       [1.],\n",
      "       [1.],\n",
      "       [1.],\n",
      "       [1.],\n",
      "       [1.],\n",
      "       [1.],\n",
      "       [1.],\n",
      "       [1.],\n",
      "       [1.]]), array([], dtype=float64), np.int32(20), array([1.00000000e+00, 6.15848211e-01, 3.79269019e-01, 2.33572147e-01,\n",
      "       1.43844989e-01, 8.85866790e-02, 5.45559478e-02, 3.35981829e-02,\n",
      "       2.06913808e-02, 1.27427499e-02, 7.84759970e-03, 4.83293024e-03,\n",
      "       2.97635144e-03, 1.83298071e-03, 1.12883789e-03, 6.95192796e-04,\n",
      "       4.28133240e-04, 2.63665090e-04, 1.62377674e-04, 1.00000000e-04]))\n"
     ]
    }
   ],
   "source": [
    "x0=np.zeros_like(b)\n",
    "\n",
    "toll=1e-10\n",
    "it_max=10000\n",
    "x,it,er_vet=gauss_seidel(A,b,x0,toll, it_max)\n",
    "xchol=solveCholesky(A,b)\n",
    "xqr=QRsolve(A,b)\n",
    "x1np=np.linalg.lstsq(A,b)\n",
    "\n",
    "x1,residuo=SVDLS(A1,b1)\n",
    "print('xgauss',x,'it',it)\n",
    "print('xchol',xchol)\n",
    "print('xqr',xqr)\n",
    "xg,vecr,iters,it=conjugateGradient(A,b,x0,200,1e-10)\n",
    "print('xgradient',xg)\n",
    "print(x1)\n",
    "print(x1np)"
   ]
  },
  {
   "cell_type": "markdown",
   "id": "720cdc8a-f858-45aa-84f5-274e7c96a1eb",
   "metadata": {},
   "source": [
    "- Dato il sistema lineare \n",
    "A3 x3 = b3\n",
    "dove \n",
    "\n",
    "A3=np.array([[8,0,1],[0,12,2],[1,2,-14.0]])\n",
    "b3= np.array([9.0, 14.0,  -11.0])\n",
    "\n",
    "- Verificare senza calcolare il raggio spettrale della matrice di iterazione che il metodo di Gauss-Seidel converge, richiamando il teorema che garantisce la convergenza di Gauss-Seidel per classi particolari di \n",
    "matrici     **punti[1]**.\n",
    "- Implementare il metodo di Gauss-Seidel  e risolvere il sistema lineare A3 x3= b3 con  **punti[3]**.\n",
    "\n",
    "Totale **Punti 12**"
   ]
  },
  {
   "cell_type": "code",
   "execution_count": 58,
   "id": "a464cbfc-8676-4bec-afe1-04db9db3260a",
   "metadata": {},
   "outputs": [
    {
     "name": "stdout",
     "output_type": "stream",
     "text": [
      "True\n",
      "[[1.]\n",
      " [1.]\n",
      " [1.]]\n"
     ]
    }
   ],
   "source": [
    "A3=np.array([[8,0,1],[0,12,2],[1,2,-14.0]])\n",
    "b3= np.array([9.0, 14.0,  -11.0]).reshape(3,1)\n",
    "x03=np.zeros_like(b3)\n",
    "# Il metodo di Gauss-Seidel converge se la matrice è a diagonale strettamente dominante:\n",
    "# |a_ii|>sum_ij  j!=i  |a_ij|\n",
    "A3abs=np.abs(A3)\n",
    "isDiagDominant=np.all(2*np.diag(A3abs)>np.sum(A3abs,axis=1))\n",
    "#print(np.sum(A3abs,axis=1))\n",
    "#print(2*np.diag(A3abs))\n",
    "print(isDiagDominant)\n",
    "x3,it3,ervet3=gauss_seidel(A3,b3,x03,toll,it_max)\n",
    "print(x3)"
   ]
  },
  {
   "cell_type": "markdown",
   "id": "f543c936-6f8e-4115-b920-d5087ffc2a09",
   "metadata": {},
   "source": [
    "# Esercizio 2"
   ]
  },
  {
   "cell_type": "markdown",
   "id": "d9f3e0cd-b8bb-4e1d-9f41-c77e4d6be284",
   "metadata": {},
   "source": [
    "Implementare le function necessarie per costruire il polinomio interpolante di Lagrange. \n",
    "                                       **[4 punti]**\n",
    "                                                         "
   ]
  },
  {
   "cell_type": "code",
   "execution_count": 59,
   "id": "c7e8d5b0-b4f2-4d5d-bd33-e22e02d53733",
   "metadata": {},
   "outputs": [],
   "source": [
    "def plagr(xnodi,j):\n",
    "    \n",
    "    xzeri=np.zeros_like(xnodi)\n",
    "    n=xnodi.size\n",
    "    \n",
    "    xzeri=np.append(xnodi[:j],xnodi[j+1:])\n",
    "    \n",
    "    num=np.poly(xzeri)\n",
    "    den=np.polyval(num,xnodi[j])\n",
    "    \n",
    "    p=num/den\n",
    "    \n",
    "    return p\n",
    "\n",
    "\n",
    "\n",
    "def InterpL(x, y, xx):\n",
    "     \n",
    "     n=x.size\n",
    "     m=xx.size\n",
    "     L=np.zeros((m,n))\n",
    "     for j in range(n) :\n",
    "        p=plagr(x,j)\n",
    "        L[:,j]=np.polyval(p,xx)\n",
    "     \n",
    "     return L@y"
   ]
  },
  {
   "cell_type": "markdown",
   "id": "f17cc9f6-e704-4482-8267-081ed315deb3",
   "metadata": {},
   "source": [
    "Sia assegnata la funzione $f(x)=cos(\\pi x)+sin(\\pi x)$, $ x \\in [0,2]$,\n",
    "facendo uso delle functions implementate precedentemente, si determini il polinomio p che interpola f nei nodi  x0 = 1, x1 = 1.5, x2 = 1.75 e si rappresenti in uno stesso grafico la funzione f, il polinomio p e i punti di interpolazione assegnati;\n",
    "                                          **[2 punti]**"
   ]
  },
  {
   "cell_type": "code",
   "execution_count": 72,
   "id": "2d229f3d-d271-467b-82a0-cb291567c48d",
   "metadata": {},
   "outputs": [
    {
     "data": {
      "text/plain": [
       "<matplotlib.legend.Legend at 0x7f2c298c6d80>"
      ]
     },
     "execution_count": 72,
     "metadata": {},
     "output_type": "execute_result"
    },
    {
     "data": {
      "image/png": "[encoded data removed]",
      "text/plain": [
       "<Figure size 640x480 with 1 Axes>"
      ]
     },
     "metadata": {},
     "output_type": "display_data"
    }
   ],
   "source": [
    "f=lambda x: np.cos(np.pi*x)+np.sin(np.pi*x)\n",
    "nodes=np.array([1,1.5,1.75])\n",
    "y=f(nodes)\n",
    "\n",
    "xv=np.linspace(0,2,100)\n",
    "\n",
    "g=InterpL(nodes,y,xv)\n",
    "plt.plot(nodes,y,'g*',xv,f(xv),'b-',xv,g,'c--', 0.75, f(0.75),'ro')\n",
    "plt.legend(['Nodi','funzione generatrice','Funzione Interpolata','x'])"
   ]
  },
  {
   "cell_type": "markdown",
   "id": "0e8e47f4-5420-4522-a62a-acccc880f6bb",
   "metadata": {},
   "source": [
    " si calcoli il valore assunto dalla funzione errore E(x) := |f(x) − p(x)| nel punto $x^∗$ = 0.75 e si definisca teoricamente da cosa dipende l'errore che si compie quando al posto del polinomio interpolatore si considera la funzione che ha generato i dati, commentando opportunamente la formula \n",
    "                                                             **[3 punti]**"
   ]
  },
  {
   "cell_type": "code",
   "execution_count": 73,
   "id": "a349610d-4751-4034-99ee-04857d3c8a54",
   "metadata": {},
   "outputs": [],
   "source": [
    "xs=InterpL(nodes,y,np.array([0.75]))\n",
    "Ex=np.abs(f(0.75)-xs)"
   ]
  },
  {
   "cell_type": "markdown",
   "id": "006deee2-37a3-4e2b-80ed-e28b1c90fea4",
   "metadata": {},
   "source": [
    "L'errore dipende dai seguenti fattori:\n",
    "$E(x)=|f(x)-p(x)|=\\frac{1}{(n+1)!}\\omega(px)*f^{(n+1)}(\\epsilon)$\n",
    "dove $\\omega$ è il prodotto della differenza fra il valore $x$ e ogni punto di interpolazione $x_k$\n",
    "Si nota che la funzione di errore si annulla anche nel caso quando la derivata $n+1$ esima si annulli."
   ]
  },
  {
   "cell_type": "markdown",
   "id": "d3928581-2fbd-47a2-98bd-4ae41a427372",
   "metadata": {},
   "source": [
    "si stabilisca qual è il polinomio interpolatore per f passante per i nodi $x^*$ \n",
    ", x0, x1 e x2.   **[1 punto]**"
   ]
  },
  {
   "cell_type": "code",
   "execution_count": 75,
   "id": "3d2ecbc3-d9a6-4bb3-ab2e-1a56c26469fb",
   "metadata": {},
   "outputs": [
    {
     "data": {
      "text/plain": [
       "<matplotlib.legend.Legend at 0x7f2c28a56480>"
      ]
     },
     "execution_count": 75,
     "metadata": {},
     "output_type": "execute_result"
    },
    {
     "data": {
      "image/png": "[encoded data removed]",
      "text/plain": [
       "<Figure size 640x480 with 1 Axes>"
      ]
     },
     "metadata": {},
     "output_type": "display_data"
    }
   ],
   "source": [
    "nodes2=np.array([0.75,1,1.5,1.75])\n",
    "y2=f(nodes2)\n",
    "\n",
    "g2=InterpL(nodes2,y2,xv)\n",
    "\n",
    "plt.plot(nodes2,y2,'g*',xv,f(xv),'b-',xv,g,'c--')\n",
    "plt.legend(['Nodi','funzione generatrice','Funzione Interpolata'])"
   ]
  },
  {
   "cell_type": "markdown",
   "id": "3f8c549a-d714-47e4-a3c7-5e4c98a827f7",
   "metadata": {},
   "source": [
    "Si calcoli la costante di Lebesgue per il problema di interpolazione in esame  e si dica che ruolo svolge nell'ambito dell'interpolazione polinomiale\n",
    "                               **[3 punti]**"
   ]
  },
  {
   "cell_type": "code",
   "execution_count": 76,
   "id": "1345073b-cacc-460e-a41c-82504d79dced",
   "metadata": {},
   "outputs": [],
   "source": [
    "# Costante di Lebesgue:\n",
    "# x=np.array([j for j in range(len(nodes2))])\n",
    "# np.max(np.sum(np.abs(np.polyval(plagr(nodes2,x),???)))"
   ]
  },
  {
   "cell_type": "markdown",
   "id": "69b759a3-4929-4aa4-976e-c35f7c101c2b",
   "metadata": {},
   "source": [
    "$\\max_{x\\in [a,b]}\\sum_{j=0}^n |L_i(x)|$"
   ]
  },
  {
   "cell_type": "markdown",
   "id": "a57c0b42-c718-4663-a13c-40b35c01199d",
   "metadata": {},
   "source": [
    "Totale **Punti 13**"
   ]
  },
  {
   "cell_type": "markdown",
   "id": "2e317e55-6983-4f36-9f54-91ab25ee6e3e",
   "metadata": {},
   "source": [
    "## Domande Intelligenza Artificiale\n",
    "**NB: Ogni risposta esatta:  +0.5 punti, ogni risposta errata: -0.5 punti. La mancanza di risposta:  0 punti**"
   ]
  },
  {
   "cell_type": "markdown",
   "id": "11eacd04-c27a-44de-9d44-47c0431c9275",
   "metadata": {},
   "source": [
    "**Risolvere un problema mediante Machine Learning significa**:\n",
    "- Fornire alla macchina i dati affinchè impari da sola a risolvere il problema x\n",
    "- Fornire alla macchina solo dati etichettati affinchè impari da sola a risolvere il problema\n",
    "- Fornire alla macchina solo dati non etichettati affinchè impari da sola a risolvere il problema\n",
    "- Fornire alla macchina le esatte istruzioni per risolvere il problema\n",
    "edizione"
   ]
  },
  {
   "cell_type": "markdown",
   "id": "52b1e385-3ea5-4137-88f0-4661d5e23745",
   "metadata": {},
   "source": [
    "**2  A cosa serve il validation set?**\n",
    "\n",
    "-  A trovare i migliori iperparametri del modello\n",
    "\n",
    "-  Ad addestrare il modello\n",
    "\n",
    "-  A testare il modello\n",
    "\n",
    "-  A trovare le etichette dei dati di input"
   ]
  },
  {
   "cell_type": "markdown",
   "id": "aeccbc74-c0d5-46ca-9e99-646df20e8f84",
   "metadata": {},
   "source": [
    "**3  Una classica rete CNN è solitamente composta da:**\n",
    "\n",
    "· Layer convolutivi seguiti da layer di pooling, flatten layer e neuroni completamente connessi\n",
    "\n",
    "· Layer di pooling seguiti da layer convolutivi, flatten layer e neuroni completamente connessi\n",
    "\n",
    "· Layer convolutivi seguiti da layer di pooling, flatten layer e softmax\n",
    "\n",
    "· Layer di pooling seguiti da layer convolutivi, flatten layer e softmax"
   ]
  },
  {
   "cell_type": "markdown",
   "id": "4ab0b3aa-6477-4cba-b2ce-cdb4d34ecdfb",
   "metadata": {},
   "source": [
    "**4 Il livello softmax**\n",
    "- Trasforma i digits della rete in probabilità\n",
    "- Trasforma le probabilità della rete in digits\n",
    "- Normalizza i valori di input della rete\n",
    "- È indispensabile nel task di regressione\n",
    "lla rete"
   ]
  },
  {
   "cell_type": "markdown",
   "id": "0e870471-00c9-44d6-8668-b173ca092cfb",
   "metadata": {},
   "source": [
    "**5 Per una rete neurale, l’apprendimento è legato a:**\n",
    "- \tMinimizzare la funzione obiettivo\n",
    "- Minimizzare la funzione di attivazione\n",
    "- \tMassimizzare il valore dei pesi tramite l’algoritmo di back-propagation\n",
    "- Massimizzare il valore della funzione di training\n"
   ]
  },
  {
   "cell_type": "markdown",
   "id": "db908255-e5db-445d-a7d3-0ade6c91ff8a",
   "metadata": {},
   "source": [
    "**Domande Aperte**"
   ]
  },
  {
   "cell_type": "markdown",
   "id": "033c25a0-67eb-43bd-9c08-021c7b22dbd4",
   "metadata": {},
   "source": [
    "**6. Spiega in modo dettagliato come il learning rate influenza la convergenza di una rete neurale durante il training. Quali sono le conseguenze di un learning rate troppo alto o troppo basso nel training di una rete neurale. Descrivi le principali strategie di  aggiornamentodel  learning rate durante il training di una rete neurale.** [punti 1.5]\n",
    "\n",
    "Un learning rate molto alto, può causare in iniziale abbassamento della funzione costo, ma poi inizia ad aumentere.\n",
    "Un learning rate alto, raggiunge velocemente un valore migliore di quello iniziale, ma è ancora lontano dai valori ottimali della funzione costo\n",
    "Un learning rate basso, riesce a minimizzare la funzione costo ma richiede molto più tempo per la convergenza.\n",
    "Un learning rate buono diminuisce costantemente la funzione costo fino a raggiungere il valore ottimale.\n",
    "Ci sono 3 principali strategie, tutte seguono lo stesso concetto:\n",
    "- Inizialmente valori di learning rate alti, diminuendolo passo passo.\n",
    "\n",
    "> Step Decay\n",
    "\n",
    "Riduce il learning rate iniziale di un fattore ogni numero predefinito di epoche\n",
    "\n",
    "> Exponential Decay\n",
    "\n",
    "Riduce in maniera esponenziale il learning rate.\n",
    "\n",
    "> Time Decay\n",
    "\n",
    "Decadimento basato sul tempo, modifica il learning rate iniziale in funzione del numero di iterazioni eseguite."
   ]
  },
  {
   "cell_type": "markdown",
   "id": "a36b5eec-ff7b-46f9-a3ad-dedd55fe1c66",
   "metadata": {},
   "source": [
    "**7. Descrivi in dettaglio l'algoritmo di discesa del gradiente con momento. Quali sono le motivazioni che hanno portato alla sua introduzione rispetto alla discesa del gradiente standard? Fornisci la formula matematica dell'aggiornamento dei pesi in questo algoritmo e spiega il ruolo del termine di momento** [punti 3]"
   ]
  },
  {
   "cell_type": "markdown",
   "id": "77db2cf6-ed3b-41ff-a05d-3cdef3e307c2",
   "metadata": {},
   "source": [
    "L'algoritmo di discesa del gradiente con momento consiste nell'aggiungere ad ogni passo il concetto di momentum, lo stesso concetto della fisica.\n",
    "- Si aggiungono fattori dei valori precedenti.\n",
    "- Il momentum è una combinazione di velocità al passo precedente e del gradiente corrente.\n",
    "\n",
    "> Formula Matematica\n",
    "$$v^{k}=\\beta v^{k-1}+\\nabla C(w^k)$$\n",
    "\n",
    "L'aggiornamento dei pesi diventa:\n",
    "$w^{k+1}=w^{k}+\\eta\\cdot v^k$\n",
    "\n",
    "Questo metodo risolve diversi problemi:\n",
    "- Evita che i pesi rimangano bloccati in un minimo locale o un punto piatto della funzione di costo.\n",
    "- Richiede un numero limitato di passi prima che l'allenamento sia completo.\n",
    "\n",
    "Accelera la convergenza e riduce le oscillazioni durante l'allenamento."
   ]
  }
 ],
 "metadata": {
  "kernelspec": {
   "display_name": "Python 3 (ipykernel)",
   "language": "python",
   "name": "python3"
  },
  "language_info": {
   "codemirror_mode": {
    "name": "ipython",
    "version": 3
   },
   "file_extension": ".py",
   "mimetype": "text/x-python",
   "name": "python",
   "nbconvert_exporter": "python",
   "pygments_lexer": "ipython3",
   "version": "3.12.3"
  }
 },
 "nbformat": 4,
 "nbformat_minor": 5
}
