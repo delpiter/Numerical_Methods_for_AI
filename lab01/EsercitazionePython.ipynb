{
 "cells": [
  {
   "cell_type": "markdown",
   "id": "ae8420c8-346b-425b-bf7e-ecabbd4a067e",
   "metadata": {},
   "source": [
    "## Esercitazione Python -- 18/02/2025"
   ]
  },
  {
   "cell_type": "markdown",
   "id": "2dbec7a5-a12e-4693-ab65-a8fd067ff356",
   "metadata": {},
   "source": [
    "**Liste:**\n",
    "\n",
    "Scrivi una funzione che prende una lista di numeri e restituisce una nuova lista contenente solo i numeri pari.\n",
    "\n",
    "Crea una funzione che inverte l'ordine degli elementi in una lista (senza usare reverse() o slicing).\n",
    "\n",
    "Scrivi un programma che trova il valore più grande e il valore più piccolo in una lista.\n",
    "\n",
    "\n"
   ]
  },
  {
   "cell_type": "code",
   "execution_count": 10,
   "id": "fe988881-5cf5-4061-acae-146063694a97",
   "metadata": {},
   "outputs": [
    {
     "data": {
      "text/plain": [
       "[2, 4, 6, 8]"
      ]
     },
     "execution_count": 10,
     "metadata": {},
     "output_type": "execute_result"
    }
   ],
   "source": [
    "def even(a: list):\n",
    "    return list(filter(lambda x: x%2 == 0, a))\n",
    "even(list([1,2,3,4,5,6,7,8,9]))"
   ]
  },
  {
   "cell_type": "markdown",
   "id": "1af6bcd2-4c2a-4c67-ae77-c1559b9e3c76",
   "metadata": {},
   "source": [
    "**Stringhe:**\n",
    "\n",
    "Scrivi una funzione che conta il numero di vocali in una stringa.\n",
    "\n",
    "Crea una funzione che verifica se una stringa è un palindromo (si legge allo stesso modo da sinistra a destra e viceversa).\n",
    "\n",
    "Scrivi un programma che converte una stringa in maiuscolo o minuscolo (a scelta dell'utente).\n"
   ]
  },
  {
   "cell_type": "code",
   "execution_count": 10,
   "id": "4ead05b4-eb71-4b1d-a981-7f29293e563d",
   "metadata": {},
   "outputs": [],
   "source": [
    "def nVowels(word: str):\n",
    "    vowels = ['a','e','i','o','u']\n",
    "    arr = [letter for letter in word if i in vowels]\n",
    "    return len(arr)\n",
    "\n",
    "def palindrome(string: str):\n",
    "    return string == string[::-1]\n",
    "\n",
    "def changeCase(string: str, isUpper: bool = True):\n",
    "    return string.upper() if isUpper else string.lower()"
   ]
  },
  {
   "cell_type": "markdown",
   "id": "c9b84acc-0820-455c-8ca5-3208908ff49a",
   "metadata": {},
   "source": [
    "**Dizionari:**\n",
    "\n",
    "Crea un dizionario che contenga alcune parole italiane e le loro traduzioni in inglese. Scrivi un programma che chieda all'utente una parola italiana e restituisca la sua traduzione inglese, oppure un messaggio se la parola non è presente nel dizionario.\n",
    "\n",
    "\n",
    "Scrivi una funzione che prenda in input un dizionario e una chiave, e restituisca True se la chiave è presente nel dizionario, False altrimenti.\n",
    "\n"
   ]
  },
  {
   "cell_type": "code",
   "execution_count": 15,
   "id": "e79830af-2722-4a78-af2c-c6e5904511f1",
   "metadata": {},
   "outputs": [],
   "source": [
    "def translate(word: str):\n",
    "    dictionary={\"cane\":\"dog\", \"gatto\":\"cat\", \"scombussolato\":\"discombobulated\"}\n",
    "    return \"The word is not in the dictionary\" if dictionary.get(word) == None else dictionary.get(word)"
   ]
  },
  {
   "cell_type": "markdown",
   "id": "c1dd66ca-a61e-41b9-b6a7-b6b49387bac4",
   "metadata": {},
   "source": [
    "**Cicli for:**\n",
    "\n",
    "Scrivi un programma che stampa i numeri da 1 a 10 usando un ciclo for.\n",
    "\n",
    "Crea una funzione che calcola la somma dei numeri in una lista usando un ciclo for.\n",
    "\n",
    "Scrivi un programma che stampa una tabella di moltiplicazione (ad esempio, da 1 a 10) usando cicli for annidati.\n"
   ]
  },
  {
   "cell_type": "code",
   "execution_count": 27,
   "id": "f1030e24-5811-4e1b-b0f6-14c5db72f129",
   "metadata": {},
   "outputs": [
    {
     "name": "stdout",
     "output_type": "stream",
     "text": [
      "[1, 2, 3, 4, 5, 6, 7, 8, 9, 10]\n",
      "6\n",
      "[0, 1, 2, 3, 4, 5, 6, 7, 8, 9, 10]\n",
      "[0, 2, 4, 6, 8, 10, 12, 14, 16, 18, 20]\n",
      "[0, 3, 6, 9, 12, 15, 18, 21, 24, 27, 30]\n",
      "[0, 4, 8, 12, 16, 20, 24, 28, 32, 36, 40]\n",
      "[0, 5, 10, 15, 20, 25, 30, 35, 40, 45, 50]\n",
      "[0, 6, 12, 18, 24, 30, 36, 42, 48, 54, 60]\n",
      "[0, 7, 14, 21, 28, 35, 42, 49, 56, 63, 70]\n",
      "[0, 8, 16, 24, 32, 40, 48, 56, 64, 72, 80]\n",
      "[0, 9, 18, 27, 36, 45, 54, 63, 72, 81, 90]\n",
      "[0, 10, 20, 30, 40, 50, 60, 70, 80, 90, 100]\n"
     ]
    }
   ],
   "source": [
    "print([x for x in range(1,11)])\n",
    "\n",
    "def listSum(numberList: list):\n",
    "    sum = 0\n",
    "    for i in numberList:\n",
    "        sum += i\n",
    "    return sum\n",
    "\n",
    "def multiplicationTable():\n",
    "    for i in range(1,11):\n",
    "        print([i*x for x in range(0,11)])\n",
    "\n",
    "print(listSum([1,2,3]))\n",
    "multiplicationTable()"
   ]
  },
  {
   "cell_type": "markdown",
   "id": "9ac6c2c6-431c-45f9-8962-8e4301422c46",
   "metadata": {},
   "source": [
    "**Cicli while:**\n",
    "\n",
    "\n",
    "Crea una funzione che calcola il fattoriale di un numero usando un ciclo while.\n",
    "\n",
    "Scrivi un programma che stampa i numeri pari da 0 a 100 usando un ciclo while.\n"
   ]
  },
  {
   "cell_type": "code",
   "execution_count": 36,
   "id": "5439911b-a740-4e4f-82e0-649951e848f3",
   "metadata": {},
   "outputs": [
    {
     "name": "stdout",
     "output_type": "stream",
     "text": [
      "0 1 2 3 4 5 6 7 8 9 10 11 12 13 14 15 16 17 18 19 20 21 22 23 24 25 26 27 28 29 30 31 32 33 34 35 36 37 38 39 40 41 42 43 44 45 46 47 48 49 50 51 52 53 54 55 56 57 58 59 60 61 62 63 64 65 66 67 68 69 70 71 72 73 74 75 76 77 78 79 80 81 82 83 84 85 86 87 88 89 90 91 92 93 94 95 96 97 98 99 100 "
     ]
    }
   ],
   "source": [
    "def factorial(n: int):\n",
    "    i = 1\n",
    "    ris = 1\n",
    "    while i <= n:\n",
    "        ris *= i\n",
    "        i+=1\n",
    "    return ris\n",
    "\n",
    "factorial(5)\n",
    "i = 0\n",
    "while i < 101:\n",
    "    print(i, end=' ')\n",
    "    i+=1\n"
   ]
  },
  {
   "cell_type": "markdown",
   "id": "0af7c6c7-68c3-448a-a297-76fa2875130a",
   "metadata": {},
   "source": [
    "**List comprehension:**\n",
    "\n",
    "Usa una list comprehension per creare una nuova lista contenente i quadrati dei numeri da 1 a 10.\n",
    "\n",
    "Usa una list comprehension per filtrare una lista di stringhe e ottenere solo quelle che iniziano con una determinata lettera.\n",
    "\n",
    "Usa una list comprehension per creare un dizionario dove le chiavi sono i numeri da 1 a 5 e i valori sono i loro quadrati.\n"
   ]
  },
  {
   "cell_type": "code",
   "execution_count": 42,
   "id": "ffdeaa9e-b458-4691-898a-1d727d11263b",
   "metadata": {},
   "outputs": [
    {
     "name": "stdout",
     "output_type": "stream",
     "text": [
      "[1, 4, 9, 16, 25, 36, 49, 64, 81]\n",
      "['asdf', 'axsvbhj', 'aftynft']\n",
      "{1: 1, 2: 4, 3: 9, 4: 16, 5: 25}\n"
     ]
    }
   ],
   "source": [
    "print([x**2 for x in range(1,10)])\n",
    "arr = [\"asdf\",\"qwer\",\"axsvbhj\",\"fghkjfu\",\"serbdty\",\"aftynft\"]\n",
    "print([string for string in arr if string[0] == 'a'])\n",
    "print(dict([(x,x**2) for x in range(1,6)]))"
   ]
  },
  {
   "cell_type": "markdown",
   "id": "4866ecae-6286-4d11-97ed-dccc4a6ef325",
   "metadata": {},
   "source": [
    "**If, else, elif:**\n",
    "\n",
    "Scrivi una funzione che determina se un numero è positivo, negativo o zero.\n",
    "\n",
    "Scrivi un programma che calcola il prezzo di un biglietto del cinema in base all'eta"
   ]
  },
  {
   "cell_type": "code",
   "execution_count": 46,
   "id": "f7bcb944-e0f9-40ca-9c4f-d3070d3f6418",
   "metadata": {},
   "outputs": [
    {
     "name": "stdout",
     "output_type": "stream",
     "text": [
      "Positive\n",
      "Negative\n",
      "0\n",
      "Positive\n"
     ]
    }
   ],
   "source": [
    "def xD(num: int):\n",
    "    if num > 0:\n",
    "        print(\"Positive\")\n",
    "    elif num < 0:\n",
    "        print(\"Negative\")\n",
    "    else:\n",
    "        print(num)\n",
    "\n",
    "xD(1)\n",
    "xD(-1)\n",
    "xD(0)\n",
    "xD(10)"
   ]
  },
  {
   "cell_type": "markdown",
   "id": "840b7e68-db5a-4919-bfce-54ad348ce17d",
   "metadata": {},
   "source": [
    "**Matchcase**"
   ]
  },
  {
   "cell_type": "markdown",
   "id": "9f329943-6fc4-429a-91c4-1d1210b0eff2",
   "metadata": {},
   "source": [
    "Scrivi una funzione che prenda in input un numero intero compreso tra 0 e 5 e restituisca la sua rappresentazione in parole (zero, uno, due, tre, quattro, cinque). Utilizza match/case per implementare la logica."
   ]
  },
  {
   "cell_type": "code",
   "execution_count": 49,
   "id": "1cd2be24-835f-47d2-9c22-6c4780d40a30",
   "metadata": {},
   "outputs": [
    {
     "name": "stdout",
     "output_type": "stream",
     "text": [
      "five\n"
     ]
    }
   ],
   "source": [
    "num = 5\n",
    "\n",
    "match num:\n",
    "    case 0:\n",
    "        print(\"zero\")\n",
    "    case 1:\n",
    "        print(\"one\")\n",
    "    case 2:\n",
    "        print(\"two\")\n",
    "    case 3:\n",
    "        print(\"three\")\n",
    "    case 4:\n",
    "        print(\"four\")\n",
    "    case 5:\n",
    "        print(\"five\")\n",
    "    case other:\n",
    "        print(\"fuck you\")"
   ]
  }
 ],
 "metadata": {
  "kernelspec": {
   "display_name": "Python 3 (ipykernel)",
   "language": "python",
   "name": "python3"
  },
  "language_info": {
   "codemirror_mode": {
    "name": "ipython",
    "version": 3
   },
   "file_extension": ".py",
   "mimetype": "text/x-python",
   "name": "python",
   "nbconvert_exporter": "python",
   "pygments_lexer": "ipython3",
   "version": "3.12.3"
  }
 },
 "nbformat": 4,
 "nbformat_minor": 5
}
