{
 "cells": [
  {
   "cell_type": "markdown",
   "id": "60ff1e86-85a2-45b1-9295-5d8e1897c7bc",
   "metadata": {},
   "source": [
    "## Esame Metodi Numerici  12 Giugno 2024 - Turno II Ore 12,30\n",
    "\n",
    "## Esercizio 1\n",
    "Si condiderino i due sistemi lineari:\n",
    "\n",
    "     A  x = b \n",
    "\n",
    "    A1 x1 = b1\n",
    "\n",
    "dove A, A1 sono le matrici dei coefficienti, b e b1 sono i termini noti, ed x ed x1 sono i vettori incongiti da determinare.\n",
    "I dati di questi due sistemi lineari sono contenuti nel file **testII.mat**.\n",
    "\n",
    "\n",
    "- Si implementino e si testino sui dati forniti almeno due metodi che sono adatti a risolvere sistemi lineari con le caratteristiche delle matrici dei coefficienti date in input.\n",
    "                                      **punti 8**\n",
    "- Si confrontino i risultati ottenuti e si giustifichino utilizzando  e richiamando gli aspetti teorici dei metodi implementati.\n",
    "                                      **punti 3**\n",
    "\n",
    "\n",
    "**Totale Punti 11**\n",
    "\n",
    "Per la lettura dei dati procedere nel seguente modo:\n",
    "\n",
    "``from scipy.io import loadmat``\n",
    "\n",
    "``import numpy as np``\n",
    "\n",
    "``dati = loadmat('testII')``\n",
    "\n",
    "``A=dati[\"A\"] ``\n",
    "\n",
    "``A=A.astype(float)``\n",
    "\n",
    "`` b=dati[\"b\"] ``\n",
    "\n",
    "`` b=b.astype(float)``\n",
    "\n",
    "``A1=dati[\"A1\"] ``\n",
    "\n",
    "``A1=A1.astype(float)``\n",
    "\n",
    "`` b1=dati[\"b1\"] ``\n",
    "\n",
    "`` b1=b1.astype(float)``\n"
   ]
  },
  {
   "cell_type": "code",
   "execution_count": 1,
   "id": "421043cd-341e-4b62-a311-0c1021148579",
   "metadata": {},
   "outputs": [],
   "source": [
    "import numpy as np\n",
    "import scipy as sp\n",
    "import SolveTriangular as st\n",
    "import matplotlib.pyplot as plt\n",
    "import sympy as sym\n",
    "from sympy import symbols, Matrix, lambdify"
   ]
  },
  {
   "cell_type": "code",
   "execution_count": 2,
   "id": "e4c09a0a-c7a3-46df-98b0-8b74a49425ad",
   "metadata": {},
   "outputs": [
    {
     "name": "stdout",
     "output_type": "stream",
     "text": [
      "[A] Dimensioni: 500x500\n",
      "[A] Sparsità:  14.2856\n",
      "[A] Diagonale strettamente dominante?  False\n",
      "[A] Simmetrica? True\n",
      "[A] Definita Positiva? True\n",
      "[A] Condizionamento:  100.00000000000276\n",
      "\n",
      "[A1] Dimensioni: 500x500\n",
      "[A1] Sparsità:  14.376\n",
      "[A1] Diagonale strettamente dominante?  False\n",
      "[A1] Simmetrica? True\n",
      "[A1] Definita Positiva? True\n",
      "[A1] Condizionamento:  15000.000000000473\n"
     ]
    }
   ],
   "source": [
    "from scipy.io import loadmat\n",
    "import numpy as np\n",
    "\n",
    "dati = loadmat('testII')\n",
    "\n",
    "A=dati[\"A\"] \n",
    "A=A.astype(float)\n",
    "b=dati[\"b\"] \n",
    "b=b.astype(float)\n",
    "\n",
    "print('[A] Dimensioni: {}x{}'.format(A.shape[0],A.shape[1]))\n",
    "print('[A] Sparsità: ', (np.count_nonzero(A)/A.shape[0]**2)*100)\n",
    "absA=np.abs(A)\n",
    "print('[A] Diagonale strettamente dominante? ',np.all(2*np.diag(absA)>np.sum(absA,axis=1)))\n",
    "print('[A] Simmetrica?', np.allclose(A.T,A))\n",
    "print('[A] Definita Positiva?', np.all(np.linalg.eigvals(A)>0))\n",
    "print('[A] Condizionamento: ', np.linalg.cond(A))\n",
    "# Abbiamo una matrice di grandi dimensioni, sparsa, simmetrica e definita positiva\n",
    "# Possiamo procedere con la soluzione tramite diversi metodi:\n",
    "# Gauss-Seidel, Gauss-Seidel -> Per il teorema della convergenza del metodo\n",
    "# - che dice che se la matrice è simmetrica e definita positiva allora il metodo converge.\n",
    "# - (Converge anche se la matrice è a diagonale strettamente dominante)\n",
    "# Metodi di discesa (steepest descent o conjugate gradient) che richiedono che la matrice sia simmetrica e definita positiva.\n",
    "\n",
    "A1=dati[\"A1\"]\n",
    "A1=A1.astype(float)\n",
    "b1=dati[\"b1\"]\n",
    "b1=b1.astype(float)\n",
    "print('')\n",
    "print('[A1] Dimensioni: {}x{}'.format(A1.shape[0],A1.shape[1]))\n",
    "print('[A1] Sparsità: ', (np.count_nonzero(A1)/A1.shape[0]**2)*100)\n",
    "absA1=np.abs(A1)\n",
    "print('[A1] Diagonale strettamente dominante? ',np.all(2*np.diag(absA1)>np.sum(absA1,axis=1)))\n",
    "print('[A1] Simmetrica?', np.allclose(A1.T,A1))\n",
    "print('[A1] Definita Positiva?', np.all(np.linalg.eigvals(A1)>0))\n",
    "print('[A1] Condizionamento: ', np.linalg.cond(A1))\n",
    "\n",
    "# La matrice A1 ha praticamente le stesse proprietà della matrice 1 e quindi possiamo utilizzare gli stessi metodi\n",
    "# - L'unica differenza è il condizionamento, bisognerà tenere particolare attenzione alle perturbazioni."
   ]
  },
  {
   "cell_type": "code",
   "execution_count": 3,
   "id": "eba03f5c-632e-4d31-8f13-0ebeeb8a0c95",
   "metadata": {},
   "outputs": [],
   "source": [
    "def gauss_seidel(A,b,x0,toll,it_max):\n",
    "    errore=1000\n",
    "    d=np.diag(A)\n",
    "    D=np.diag(d)\n",
    "    E=np.tril(A,-1)\n",
    "    F=np.triu(A,1)\n",
    "    M=D+E\n",
    "    N=-F\n",
    "\n",
    "    # Convergence check\n",
    "    invM=np.linalg.inv(M)\n",
    "    T=invM@N\n",
    "    eigenvalues=np.linalg.eigvals(T)\n",
    "    spectralradius=np.max(np.abs(eigenvalues))\n",
    "    #print(\"raggio spettrale Gauss-Seidel \",spectralradius)\n",
    "\n",
    "    # print(\"Norm:\", np.linalg.norm(T,2))\n",
    "    \n",
    "    it=0\n",
    "    er_vet=[]\n",
    "    while it<=it_max and errore>=toll:\n",
    "        x,flag=st.Lsolve(M,b+N@x0) # Key Operation\n",
    "        errore=np.linalg.norm(x-x0)/np.linalg.norm(x)\n",
    "        er_vet.append(errore)\n",
    "        x0=x.copy()\n",
    "        it=it+1\n",
    "    return x,it,er_vet"
   ]
  },
  {
   "cell_type": "code",
   "execution_count": 4,
   "id": "691049b7-8a5e-476e-9164-20671075712e",
   "metadata": {},
   "outputs": [],
   "source": [
    "def steepestdescent(A,b,x0,itmax,tol):\n",
    "    x=x0.copy()\n",
    "    r=A@x-b\n",
    "    it=0\n",
    "    p=-r\n",
    "    normb=np.linalg.norm(b)\n",
    "\n",
    "    error=np.linalg.norm(r)/normb\n",
    "\n",
    "    vec_sol=[]\n",
    "    vec_sol.append(x.copy())\n",
    "    vec_r=[]\n",
    "    vec_r.append(error)\n",
    "\n",
    "    #print(error,tol,it,itmax)\n",
    "    while error>=tol and it<itmax:\n",
    "        #print('Helo?')\n",
    "        it=it+1\n",
    "        \n",
    "        Ap=A@p\n",
    "        alpha=(r.T@r)/(p.T@Ap)\n",
    "        \n",
    "        x=x+alpha*p\n",
    "        r=r+alpha*Ap\n",
    "\n",
    "        vec_sol.append(x.copy())\n",
    "        error=np.linalg.norm(r)/normb\n",
    "        vec_r.append(error)\n",
    "        p=-r # Max descent (Opposite of gradient)\n",
    "        \n",
    "    iterates=np.vstack([arr.T for arr in vec_sol]) # Only for graphical purpose\n",
    "\n",
    "    return x,vec_r, iterates, it"
   ]
  },
  {
   "cell_type": "code",
   "execution_count": 5,
   "id": "a50e6c3d-530e-4031-84ad-98b021e3645c",
   "metadata": {},
   "outputs": [],
   "source": [
    "def conjugate_gradient(A,b,x0,itmax,tol):\n",
    "    n,m=A.shape\n",
    "    if n!=m:\n",
    "        print(\"Matrice non quadrata\")\n",
    "        return [],[]\n",
    "    \n",
    "    \n",
    "   # inizializzare le variabili necessarie\n",
    "    x = x0\n",
    "    \n",
    "    r = A@x-b\n",
    "    p = -r \n",
    "    it = 0\n",
    "    nb=np.linalg.norm(b)\n",
    "    errore=np.linalg.norm(r)/nb\n",
    "    vec_sol=[]\n",
    "    vec_sol.append(x0.copy())\n",
    "    vet_r=[]\n",
    "    vet_r.append(errore)\n",
    "# utilizzare il metodo del gradiente coniugato per calcolare la soluzione\n",
    "    while errore>=tol and it<itmax:\n",
    "        it=it+1\n",
    "        Ap=A@p\n",
    "        rtr_old=r.T@r\n",
    "        alpha = rtr_old/(p.T@Ap) \n",
    "        x = x + alpha*p\n",
    "        vec_sol.append(x.copy())\n",
    "        r= r+alpha*Ap\n",
    "        gamma=(r.T@r)/rtr_old\n",
    "        errore=np.linalg.norm(r)/nb\n",
    "        vet_r.append(errore)\n",
    "        p = -r + gamma*p\n",
    "   \n",
    "    iterates_array = np.vstack([arr.T for arr in vec_sol])\n",
    "    return x,vet_r,iterates_array,it"
   ]
  },
  {
   "cell_type": "code",
   "execution_count": 6,
   "id": "18c3da3d-0c2e-4788-970b-41cbab42f03c",
   "metadata": {},
   "outputs": [
    {
     "name": "stdout",
     "output_type": "stream",
     "text": [
      "Raggio spettrale Gauss-Seidel  0.9399020442983489\n",
      "Fattore di convergenza Steepest descent:  0.9801980198019807\n",
      "Fattore di convergenza Conjugate Gradient:  0.8181818181818205\n"
     ]
    },
    {
     "data": {
      "image/png": "[encoded data removed]",
      "text/plain": [
       "<Figure size 640x480 with 1 Axes>"
      ]
     },
     "metadata": {},
     "output_type": "display_data"
    }
   ],
   "source": [
    "x0=np.zeros_like(b)\n",
    "x01=np.zeros_like(b1)\n",
    "toll=1e-10\n",
    "itmax=2000\n",
    "#print('[A] Gauss-Seidel:')\n",
    "xg,itg,errg=gauss_seidel(A,b,x0,toll,itmax)\n",
    "#print('[A] Soluzione: ',xg,' iterazioni: ',itg)\n",
    "#print('[A] Steepest-Descend:')\n",
    "xs,vet_r,its_arrs,its=steepestdescent(A,b,x0,itmax,toll)\n",
    "#print('[A] Soluzione: ',xs,' iterazioni: ',its)\n",
    "xc,vet_rc,its_arrc,itc=conjugate_gradient(A,b,x0,itmax,toll)\n",
    "plt.semilogy(range(len(errg)),errg,'r--',range(len(vet_r)),vet_r,'b--',range(len(vet_rc)),vet_rc,'c--')\n",
    "plt.legend(['Gauss-Seidel','SteepestDescent','Conjugate Gradient'])\n",
    "\n",
    "# Calcoliamo il fattore di convergenza dei metodi:\n",
    "print('Raggio spettrale Gauss-Seidel  0.9399020442983489')\n",
    "# Molto vicino a 1 -> Convergenza lenta\n",
    "print('Fattore di convergenza Steepest descent: ',(np.linalg.cond(A)-1)/(np.linalg.cond(A)+1))\n",
    "print('Fattore di convergenza Conjugate Gradient: ',(np.sqrt(np.linalg.cond(A))-1)/(np.sqrt(np.linalg.cond(A))+1))\n",
    "\n",
    "# Da questi fattori possiamo notare che Conjugate gradient è il metodo migliore"
   ]
  },
  {
   "cell_type": "markdown",
   "id": "3f689ff8-a214-461d-9cd9-e9edbf9e230d",
   "metadata": {},
   "source": [
    "# Esercizio 2\n",
    "\n",
    "-  Si consideri la funzione $$f(x)=2\\cdot x^4-(7/2) \\cdot x^3+(3/4) \\cdot x^2+x-1/4$$  \n",
    "\n",
    "-  Si rappresenti il grafico della funzione in [-1,2] e si determini in quanti punti la funzione si annulla.  **[punti: 1]**\n",
    "\n",
    "-  Si implementi  il metodo di Newton per il calcolo degli zeri di una funzione non lineare. **[punti: 3]**\n",
    "\n",
    "-  Si implementi il metodo di Bisezione per il calcolo degli zeri di una funzione non lineare. **[punti: 3]**\n",
    "\n",
    "-  Osservando il grafico della funzione, si identifichi,  per ogni punto in cui si annulla, un opportuno intervallo che lo contenga. Si applichi il metodo di Bisezione per determinare lo zero della funzione in tale sottointervallo.  Si dica se è possibile calcolare tutti gli zeri facendo uso del metodo di bisezione, richiamando il teorema su cui si basa il metodo di bisezione.  **[punti: 2]**\n",
    "\n",
    "-  Osservando il grafico della funzione, si identifichi,  per ogni punto in cui si annulla, un opportuno iterato iniziale in un intorno dello zero e si utilizzi  il metodo di Newton per determinare lo zero della funzione. Si calcoli l'ordine del metodo usando la funzione stima_ordine.\n",
    "   **[punti: 2]**\n",
    "\n",
    "-  Nel caso in cui si verifichi che il metodo di Newton abbia ordine 1, spiegare il perchè richiamando la teoria e modificare il metodo affinchè il suo ordine sia 2.  **[punti: 3]**\n",
    "\n",
    "  **Totale punti 14**\n",
    "\n",
    "\n",
    "\n"
   ]
  },
  {
   "cell_type": "code",
   "execution_count": 7,
   "id": "318339f1-61db-4f6f-9490-a330d38fbbd7",
   "metadata": {},
   "outputs": [
    {
     "data": {
      "image/png": "[encoded data removed]",
      "text/plain": [
       "<Figure size 640x480 with 1 Axes>"
      ]
     },
     "metadata": {},
     "output_type": "display_data"
    }
   ],
   "source": [
    "x=sym.symbols('x')\n",
    "fs = 2*x**4-(7/2)*x**2+(3/4)*x**2+x-(1/4)\n",
    "dfs=sym.diff(fs,x,1) #Il secondo argomento rappresenta la variabile rispetto a cui derivare e l'ultima l'ordine della derivata\n",
    "fp=lambdify(x,dfs,np)  #l'ultimo argomento np (nickaname di numpy) serve per specificare che la lambda function \n",
    "#può prendere come argomento un numpy array ed eseguire l'operazione su tutte le sue componenti.\n",
    "f=lambdify(x,fs,np)\n",
    "\n",
    "# f=lambda x: 2*x**4-(7/2)*x**2+(3/4)*x**2+x-(1/4)\n",
    "xx=np.linspace(-1,1.5,100)\n",
    "plt.plot(xx,f(xx),'b-',xx,np.zeros_like(xx))\n",
    "plt.grid(True)\n",
    "# La funzione (nell'intervallo dato [-1,2]) si annulla in un unico punto (graficamente circa x=1.0)\n",
    "a=0\n",
    "b=1.5\n",
    "x0=0.5\n",
    "toll=1e-10\n",
    "itmax=200"
   ]
  },
  {
   "cell_type": "code",
   "execution_count": 11,
   "id": "aad59819-ccb3-467a-a8a6-fc49d3eb5f43",
   "metadata": {},
   "outputs": [],
   "source": [
    "import math\n",
    "def sign(x):\n",
    "  \"\"\"\n",
    "  Funzione segno che restituisce 1 se x è positivo, 0 se x è zero e -1 se x è negativo.\n",
    "  \"\"\"\n",
    "  return math.copysign(1, x)"
   ]
  },
  {
   "cell_type": "code",
   "execution_count": 15,
   "id": "bd76ed6f-54be-4985-bb6f-c785210b7124",
   "metadata": {},
   "outputs": [],
   "source": [
    "def metodo_bisezione(fname, a, b, tolx):\n",
    "    \"\"\"\n",
    "    Implementa il metodo di bisezione per il calcolo degli zeri di un'equazione non lineare.\n",
    "    \n",
    "    Parametri:\n",
    "    f: La funzione da cui si vuole calcolare lo zero.\n",
    "    a: L'estremo sinistro dell'intervallo di ricerca.\n",
    "    b: L'estremo destro dell'intervallo di ricerca.\n",
    "    tol: La tolleranza di errore.\n",
    "    \n",
    "    Restituisce:\n",
    "    Lo zero approssimato della funzione, il numero di iterazioni e la lista di valori intermedi.\n",
    "    \"\"\"\n",
    "    fa=fname(a)\n",
    "    fb=fname(b)\n",
    "    if sign(fa)*sign(fb)>=0:\n",
    "        print(\"Non è possibile applicare il metodo di bisezione \\n\")\n",
    "        return None, None,None\n",
    "    \n",
    "    it = 0\n",
    "    v_xk = []\n",
    "    \n",
    "    \n",
    "    while abs(b - a) > tolx:\n",
    "        xk = a+(b-a)/2\n",
    "        v_xk.append(xk)\n",
    "        it += 1\n",
    "        fxk=fname(xk)\n",
    "        if fxk==0:\n",
    "            return xk, it, v_xk\n",
    "        \n",
    "        if sign(fa)*sign(fxk)<0:  #la radice si trova nell'intervallo [a, xk].\n",
    "            b = xk\n",
    "            fb=fxk\n",
    "        elif sign(fxk)*sign(fb)<0:   #la radice si trova nell'intervallo [xk, b].\n",
    "            a = xk\n",
    "            fa=fxk\n",
    "\n",
    "    \n",
    "    return xk, it, v_xk\n",
    "\n",
    "def newton(fname,fpname,x0,tolx,tolf,nmax):\n",
    "  \n",
    "    xk=[]\n",
    "   \n",
    "    it=0\n",
    "    errorex=1+tolx\n",
    "    erroref=1+tolf\n",
    "    while it<nmax and  erroref>=tolf and errorex>=tolx: #abs(d)>=tolx*abs(x1) :\n",
    "       \n",
    "       fx0=fname(x0)\n",
    "       if abs(fpname(x0))<=np.spacing(1): #Se la derivata prima e' pià piccola della precisione di macchina stop\n",
    "            print(\" derivata prima nulla in x0\")\n",
    "            return None, None,None\n",
    "       d=fx0/fpname(x0)\n",
    "       '''\n",
    "       #x1= ascissa del punto di intersezione tra  la retta che passa per il punto\n",
    "       (xi,f(xi)) ed è tangente alla funzione f(x) nel punto (xi.f(xi))  e l'asse x\n",
    "       '''\n",
    "       x1=x0-d  \n",
    "       fx1=fname(x1)\n",
    "       erroref=np.abs(fx1)\n",
    "       if x1!=0:\n",
    "            errorex=abs(d)/abs(x1)\n",
    "       else:\n",
    "            errorex=abs(d) \n",
    "\n",
    "       it=it+1\n",
    "       x0=x1\n",
    "       xk.append(x1)\n",
    "      \n",
    "    if it==nmax:\n",
    "        print('Newton: raggiunto massimo numero di iterazioni \\n')\n",
    "        \n",
    "    \n",
    "    return x1,it,xk"
   ]
  },
  {
   "cell_type": "code",
   "execution_count": 23,
   "id": "2e77e309-fce0-43d9-afb3-e1b2d4dabf00",
   "metadata": {},
   "outputs": [
    {
     "name": "stdout",
     "output_type": "stream",
     "text": [
      "Soluzione Bisezione: 1.0000000000291038, Soluzione Newton: 1.000000000007009\n"
     ]
    }
   ],
   "source": [
    "solbis,itb,vxkb=metodo_bisezione(f,a,b,toll)\n",
    "solNewton,itn,xkn=newton(f,fp,x0,toll,toll,itmax)\n",
    "print('Soluzione Bisezione: {}, Soluzione Newton: {}'.format(solbis,solNewton))"
   ]
  },
  {
   "cell_type": "code",
   "execution_count": 24,
   "id": "b768e2d0-8e27-4a9b-81cc-04a8fb468538",
   "metadata": {},
   "outputs": [],
   "source": [
    "def stima_ordine(xk,iterazioni):\n",
    "    #Vedi dispensa allegata per la spiegazione\n",
    "    \n",
    "    k=iterazioni-4\n",
    "    p=np.log(abs(xk[k+2]-xk[k+3])/abs(xk[k+1]-xk[k+2]))/np.log(abs(xk[k+1]-xk[k+2])/abs(xk[k]-xk[k+1]));\n",
    "    \n",
    "    ordine=p\n",
    "    return ordine"
   ]
  },
  {
   "cell_type": "code",
   "execution_count": 27,
   "id": "e7122768-d109-4003-9eb8-794d78fb2f9b",
   "metadata": {},
   "outputs": [
    {
     "name": "stdout",
     "output_type": "stream",
     "text": [
      "Stima ordine bisezione: 1.0, Stima Ordine newton 2.0083419823167747\n"
     ]
    }
   ],
   "source": [
    "print('Stima ordine bisezione: {}, Stima Ordine newton {}'.format(stima_ordine(vxkb,itb),stima_ordine(xkn,itn)))"
   ]
  },
  {
   "cell_type": "markdown",
   "id": "2e317e55-6983-4f36-9f54-91ab25ee6e3e",
   "metadata": {},
   "source": [
    "## Domande Intelligenza Artificiale\n",
    "**NB: Ogni risposta esatta +0.5 punti, ogni risposta errata -0.5 punti. La mancanza di risposta 0 punti**"
   ]
  },
  {
   "cell_type": "markdown",
   "id": "11eacd04-c27a-44de-9d44-47c0431c9275",
   "metadata": {},
   "source": [
    "**1 Risolvere un problema mediante Machine Learning significa:**\n",
    "\n",
    " -  Fornire alla macchina i dati affinchè impari da sola a risolvere il problema\n",
    "\n",
    " - Fornire alla macchina solo dati etichettati affinchè impari da sola a risolvere il problema\n",
    "\n",
    " - Fornire alla macchina solo dati non etichettati affinchè impari da sola a risolvere il problema\n",
    "\n",
    " - Fornire alla macchina le esatte istruzioni per risolvere il problema\n",
    "\n",
    "**SOLUZIONE**: Punto 1"
   ]
  },
  {
   "cell_type": "markdown",
   "id": "52b1e385-3ea5-4137-88f0-4661d5e23745",
   "metadata": {},
   "source": [
    "**2  A cosa serve il validation set?**\n",
    "\n",
    "-  A trovare i migliori iperparametri del modello\n",
    "\n",
    "-  Ad addestrare il modello\n",
    "\n",
    "-  A testare il modello\n",
    "\n",
    "-  A trovare le etichette dei dati di input\n",
    "\n",
    "**SOLUZIONE**: Punto 1"
   ]
  },
  {
   "cell_type": "markdown",
   "id": "aeccbc74-c0d5-46ca-9e99-646df20e8f84",
   "metadata": {},
   "source": [
    "**3  Cosa è un Multi-Layer Perceptron?**\n",
    "\n",
    "-  Una rete multi-livello composta da neuroni completamente connessi\n",
    "\n",
    "-  Una rete muti-livello composta da livelli convolutivi e neuroni completamente connessi\n",
    "\n",
    "-  Una rete a singolo livello composta da neuroni completamente connessi\n",
    "\n",
    "- Un neurone artificiale con un determinato input e determinati valori di uscita\n",
    "\n",
    "**SOLUZIONE**: Punto 1"
   ]
  },
  {
   "cell_type": "markdown",
   "id": "4ab0b3aa-6477-4cba-b2ce-cdb4d34ecdfb",
   "metadata": {},
   "source": [
    "**4 Il livello softmax**\n",
    "\n",
    "- Trasforma i digits della rete in probabilità\n",
    "\n",
    "- Trasforma le probabilità della rete in digits\n",
    "\n",
    "-  Normalizza i valori di input della rete\n",
    "\n",
    "-  È indispensabile nel task di regressione\n",
    "\n",
    "\n",
    "**SOLUZIONE**: Punto 1"
   ]
  },
  {
   "cell_type": "markdown",
   "id": "0e870471-00c9-44d6-8668-b173ca092cfb",
   "metadata": {},
   "source": [
    "**5 In cosa consiste il task di regressione?**\n",
    "\n",
    "· Nel predire un valore continuo in output\n",
    "\n",
    "· Nel predire una classe in output\n",
    "\n",
    "· Nel predire un gruppo di appartenenza del dato di input\n",
    "\n",
    "· Nel predire una categoria in output\n",
    "\n",
    "**SOLUZIONE**: Punto 1"
   ]
  },
  {
   "cell_type": "markdown",
   "id": "1466859c-cbac-432f-a9f5-f175cfda1516",
   "metadata": {},
   "source": [
    "## Domande Aperte"
   ]
  },
  {
   "cell_type": "markdown",
   "id": "adf5621b-a9f0-473f-b7f3-316f78e317d1",
   "metadata": {},
   "source": [
    "**6. ** Forward e backward Propagation per l'allenamento di una rete neurale** [punti 1.5]\n",
    "\n",
    "**7 Metodo di ottimizzazione del gradient descent con momento**. Motivazioni e formula di aggiornamento dei pesi e commenti. [punti 3]"
   ]
  },
  {
   "cell_type": "code",
   "execution_count": null,
   "id": "58a12c0c-fac5-4727-a892-5c09895895b0",
   "metadata": {},
   "outputs": [],
   "source": []
  }
 ],
 "metadata": {
  "kernelspec": {
   "display_name": "Python 3 (ipykernel)",
   "language": "python",
   "name": "python3"
  },
  "language_info": {
   "codemirror_mode": {
    "name": "ipython",
    "version": 3
   },
   "file_extension": ".py",
   "mimetype": "text/x-python",
   "name": "python",
   "nbconvert_exporter": "python",
   "pygments_lexer": "ipython3",
   "version": "3.12.3"
  }
 },
 "nbformat": 4,
 "nbformat_minor": 5
}
