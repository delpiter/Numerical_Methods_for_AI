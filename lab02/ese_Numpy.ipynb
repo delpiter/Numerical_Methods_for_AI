{
 "cells": [
  {
   "cell_type": "markdown",
   "id": "4501d35d-de63-4105-95fa-36f051fbaa0c",
   "metadata": {},
   "source": [
    "# Esercitazione 25 Febbraio 2024"
   ]
  },
  {
   "cell_type": "markdown",
   "id": "a54b6b9d-2ad9-4a98-aa44-2a83eb972a90",
   "metadata": {},
   "source": [
    "**Esercizio 1: Generazione di Sequenze e Operazioni Element-wise**\n",
    "\n",
    "    Genera un array NumPy arr1 di 20 numeri equidistanti tra 0 e 10 usando np.linspace().\n",
    "    Genera un array NumPy arr2 di 20 numeri casuali interi tra 1 e 5 usando np.random.randint().\n",
    "    Esegui un'operazione element-wise per creare un nuovo array arr3 dove ogni elemento è la somma di arr1 e arr2.\n",
    "    Calcola il quadrato di ogni elemento in arr3 \n",
    "    Visualizza i risultati di arr1, arr2, arr3 e l'array risultante dal punto 4.\n",
    "\n"
   ]
  },
  {
   "cell_type": "markdown",
   "id": "6f6a55d5-e6b0-4a63-8651-a47693b23163",
   "metadata": {},
   "source": [
    "**Esercizio 2 : Valutazione e Visualizzazione di una Funzione**\n",
    "\n",
    "    Definisci la funzione matematica f(x) = sin(x^2) / (x^2 + 1) nell'intervallo [-5, 5]  usando una lambda function. \n",
    "    Genera un array NumPy x contenente 110 punti equidistanti in un intervallo a tua scelta (ad esempio, tra -10 e 10).\n",
    "    Valuta la funzione definita al punto 1 in ciascun punto dell'array x, creando un array y contenente i valori della funzione.\n",
    "    Utilizza Matplotlib per creare un grafico della funzione, con x sull'asse orizzontale e y sull'asse verticale.\n",
    "    Aggiungi un titolo al grafico, etichette agli assi e una griglia per una migliore visualizzazione."
   ]
  },
  {
   "cell_type": "markdown",
   "id": "c37438ec-2309-4828-8dbd-177297e7a275",
   "metadata": {},
   "source": [
    "**Esercizio 3: Reshape e Funzioni Universali**\n",
    "\n",
    "    Genera un array NumPy arr di 36 numeri casuali in virgola mobile tra 0 e 1 usando np.random.rand().\n",
    "    Rimodella arr in una matrice 6x6 usando arr.reshape().\n",
    "    Calcola il seno di ogni elemento nella matrice usando np.sin().\n",
    "    Calcola la media di ogni riga della matrice risultante usando np.mean() con l'asse appropriato.\n",
    "    Visualizza la matrice rimodellata, la matrice del seno e le medie delle righe.\n",
    "\n"
   ]
  },
  {
   "cell_type": "markdown",
   "id": "a1254568-89eb-465b-a0d7-2d5199c4a693",
   "metadata": {},
   "source": [
    "**Esercizio 4: Campionamento Casuale e Operazioni Logiche**\n",
    "\n",
    "    Genera un array NumPy arr di 100 numeri casuali interi tra -10 e 10 usando np.random.randint().\n",
    "    Crea una maschera booleana che seleziona gli elementi di arr che sono maggiori di 5 o minori di -5.\n",
    "    Usa la maschera per creare un nuovo array arr_filtered contenente solo gli elementi selezionati.\n",
    "    Calcola il valore assoluto di ogni elemento in arr_filtered usando np.abs().\n",
    "    Visualizza arr, la maschera booleana, arr_filtered e l'array dei valori assoluti.\n",
    "\n"
   ]
  },
  {
   "cell_type": "markdown",
   "id": "bdf06860-3705-4ae7-95a6-87361c5a0d1e",
   "metadata": {},
   "source": [
    "**Esercizio 5: Generazione di Griglie e Operazioni Element-wise Complesse**\n",
    "\n",
    "    Crea due array NumPy x e y di 10 numeri equidistanti tra 1 e 5 usando np.linspace().\n",
    "    Crea una matrice xx ripetendo x lungo le righe e una matrice yy ripetendo y lungo le colonne.\n",
    "    Calcola z = sin(xx^2 + yy^2) / (xx^2 + yy^2) element-wise, dove xx e yy sono le matrici generate. Usa np.sin(), np.square(), e operazioni di divisione.\n",
    "    Visualizza le matrici xx, yy e z.e griglie x, y e la matrice z.\n",
    "\n"
   ]
  },
  {
   "cell_type": "markdown",
   "id": "a0b49cf3-54c5-4b43-994f-8723f4e0719b",
   "metadata": {},
   "source": [
    "**Esercizio 6: Campionamento da Distribuzioni e Statistiche**\n",
    "\n",
    "    Genera un array NumPy arr di 1000 numeri casuali campionati da una distribuzione normale con media 0 e deviazione standard 1 usando np.random.randn().\n",
    "    Rimodella arr in una matrice 100x10.\n",
    "    Calcola la media di ogni riga della matrice usando np.mean() con l'asse appropriato.\n",
    "    Visualizza l'array originale, la matrice rimodellata, le medie delle righe."
   ]
  },
  {
   "cell_type": "code",
   "execution_count": null,
   "id": "7f283721-d46b-46de-9c13-31fb7ba1ed94",
   "metadata": {},
   "outputs": [],
   "source": []
  }
 ],
 "metadata": {
  "kernelspec": {
   "display_name": "Python 3 (ipykernel)",
   "language": "python",
   "name": "python3"
  },
  "language_info": {
   "codemirror_mode": {
    "name": "ipython",
    "version": 3
   },
   "file_extension": ".py",
   "mimetype": "text/x-python",
   "name": "python",
   "nbconvert_exporter": "python",
   "pygments_lexer": "ipython3",
   "version": "3.11.5"
  }
 },
 "nbformat": 4,
 "nbformat_minor": 5
}
