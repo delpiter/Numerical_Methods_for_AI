{
 "cells": [
  {
   "cell_type": "markdown",
   "id": "bf169812-94dc-4b34-83ff-c84a3e29571a",
   "metadata": {},
   "source": [
    "## Esercitazione 6 - 25 Marzo 2024"
   ]
  },
  {
   "cell_type": "markdown",
   "id": "6776a84b-7a0a-4001-bb1c-2316249e1bb4",
   "metadata": {},
   "source": [
    "Scrivere le funzioni python `bisezione.py`, `falsi.py`,  che implementino rispettivamente il metodo di bisezione, di falsa posizione, delle corde, delle secanti e di Newton.\n",
    "\n",
    "Le funzioni `bisezione.py`, `falsi.py` devono assumere come input:\n",
    "\n",
    "-  gli estremi dell'intervallo [a,b], dominio di f.\n",
    "-  il nome `fname` della funzione di cui calcolare lo zero\n",
    "-  tolx: tolleranza per il testi di arresto per l'errore relativo tra due iterati successivi\n",
    "-  tolf: tolleranza per il test di arresto sul valore della funzione\n",
    "-  nmax= numero massimo di iterazioni\n",
    "    \n",
    "In output:\n",
    "-      lo zero della funzione\n",
    "-      il numero di iterazioni effettuate\n",
    "-      una lista contenente tutti gli iterati xk\n",
    "\n"
   ]
  },
  {
   "cell_type": "markdown",
   "id": "20bbe42c-264f-40aa-887c-1505be3c0d50",
   "metadata": {},
   "source": [
    "**Sperimentazione numerica**"
   ]
  },
  {
   "cell_type": "markdown",
   "id": "22339d84-a5cc-4950-a537-104611a315f8",
   "metadata": {},
   "source": [
    "## Esercizio 1 \n",
    "\n",
    " Confrontare i metodi sopra implementati nei casi seguenti:\n",
    "- f(x) = $x^3-6x^2-4x+24$ in [-3,8], tolx = 1.e − 12, tolf = 1.e − 12, (soluzione esatta alfa=-2,2,6);\n",
    "- f(x) = exp(−x) − (x + 1) in [−1, 2]  tolx = 1.e − 12, tolf = 1.e − 12, (soluzione esatta alfa=0);\n",
    "- f(x) = log2(x + 3) − 2 in [−1, 2]  tolx = 1.e − 12, tolf = 1.e − 12, (soluzione esatta alfa=1);\n",
    "- f(x) =sqrt(x)-(x^2)/4 in [1, 3]  tolx = 1.e − 12, tolf =1.e − 12, (soluzione esatta alfa=2**(4/3))\n",
    "\n",
    "Mostrare in un grafico in scala semilogaritmica sulle ordinate (comando semilogy) l’andamento di ek = |xk − α|, k = 1, ..., nit, sapendo che α = 0, 1, 2**(4/3) nei casi 2-4.\n"
   ]
  },
  {
   "cell_type": "code",
   "execution_count": 1,
   "id": "792654ab-95f7-4988-8e29-feaad1c17786",
   "metadata": {},
   "outputs": [],
   "source": [
    "import math\n",
    "import numpy as np\n",
    "import matplotlib.pyplot as plt\n",
    "def sign(x):\n",
    "    return math.copysign(1,x)\n"
   ]
  },
  {
   "cell_type": "code",
   "execution_count": 2,
   "id": "3983e79a-9eb6-4f91-8395-d98d51c330dc",
   "metadata": {},
   "outputs": [],
   "source": [
    "def bisection(f, a, b, tolx):\n",
    "    fa=f(a)\n",
    "    fb=f(b)\n",
    "    if sign(fa*fb) >= 0:\n",
    "        print(\"Failed to apply method\")\n",
    "        return None, None, None\n",
    "#    if fa*fb >= 0:\n",
    "#        print(\"Failed to apply method\")\n",
    "#        return None, None, None\n",
    "    \n",
    "    it = 0\n",
    "    v_xk=[]\n",
    "\n",
    "    while abs (b-a)> tolx:\n",
    "        xk = a+(b-a)/2 # più stabile rispetto a (a+b)/2\n",
    "        v_xk.append(xk)\n",
    "        it+=1\n",
    "        fxk=f(xk)\n",
    "        if fxk==0:\n",
    "            return xk, it, v_xk\n",
    "\n",
    "        if sign(fa*fxk) < 0: # la radice si trova nell'intervallo [a, xk]\n",
    "            b = xk\n",
    "            fb=fxk\n",
    "        elif sign(fxk*fb) < 0: # intervallo [xk, b]\n",
    "            a=xk\n",
    "            fa=fxk\n",
    "    return xk, it, v_xk"
   ]
  },
  {
   "cell_type": "code",
   "execution_count": 3,
   "id": "ec36a64e-c0bd-4497-a7b2-27f621e98b71",
   "metadata": {},
   "outputs": [],
   "source": [
    "def falses(f, a, b, tolx, tolf, maxit):\n",
    "    fa=f(a)\n",
    "    fb=f(b)\n",
    "#    if sign(fa*fb) >= 0:\n",
    "#        print(\"Failed to apply method\")\n",
    "#        return None, None, None\n",
    "    if fa*fb >= 0:\n",
    "        print(\"Failed to apply method\")\n",
    "        return None, None, None\n",
    "    \n",
    "    it = 0\n",
    "    v_xk=[]\n",
    "    fxk=100\n",
    "    error=100 # difference between 2 consecutive calculation\n",
    "    xprec=a\n",
    "    \n",
    "    while it<maxit and abs(fxk)> tolf and error > tolx:\n",
    "        xk = a-fa*(b-a)/(fb-fa)\n",
    "        v_xk.append(xk)\n",
    "        it+=1\n",
    "        fxk=f(xk)\n",
    "        if fxk==0:\n",
    "            return xk, it, v_xk\n",
    "\n",
    "        if fa*fxk < 0: # la radice si trova nell'intervallo [a, xk]\n",
    "            b = xk\n",
    "            fb=fxk\n",
    "        elif fxk*fb < 0: # intervallo [xk, b]\n",
    "            a=xk\n",
    "            fa=fxk\n",
    "        if xk!=0:\n",
    "            error=abs(xk-xprec)/abs(xk)\n",
    "        else:\n",
    "            error=abs(xk-xprec)\n",
    "        xprec=xk\n",
    "    return xk, it, v_xk"
   ]
  },
  {
   "cell_type": "code",
   "execution_count": 7,
   "id": "da4682f4-4080-4a00-8101-2d7b672eb7b5",
   "metadata": {},
   "outputs": [
    {
     "name": "stderr",
     "output_type": "stream",
     "text": [
      "/tmp/ipykernel_4605/3608057186.py:5: RuntimeWarning: divide by zero encountered in log2\n",
      "  h = lambda x: np.log2(x+3)-2      # in [−1, 2]  tolx = 1.e − 12, tolf = 1.e − 12, (soluzione esatta alfa=1);\n",
      "/tmp/ipykernel_4605/3608057186.py:6: RuntimeWarning: invalid value encountered in sqrt\n",
      "  i = lambda x: np.sqrt(x)-(x**2)/4 # in [1, 3]   tolx = 1.e − 12, tolf = 1.e − 12, (soluzione esatta alfa=2**(4/3))\n"
     ]
    },
    {
     "data": {
      "image/png": "[encoded data removed]",
      "text/plain": [
       "<Figure size 640x480 with 1 Axes>"
      ]
     },
     "metadata": {},
     "output_type": "display_data"
    }
   ],
   "source": [
    "a = -3\n",
    "b = 8\n",
    "f = lambda x: x**3-6*x**2-4*x+24\n",
    "g = lambda x: np.exp(-x)-(x+1)    # in [−1, 2]  tolx = 1.e − 12, tolf = 1.e − 12, (soluzione esatta alfa=0);\n",
    "h = lambda x: np.log2(x+3)-2      # in [−1, 2]  tolx = 1.e − 12, tolf = 1.e − 12, (soluzione esatta alfa=1);\n",
    "i = lambda x: np.sqrt(x)-(x**2)/4 # in [1, 3]   tolx = 1.e − 12, tolf = 1.e − 12, (soluzione esatta alfa=2**(4/3))\n",
    "x = np.linspace(a,b, 100)\n",
    "x1 = np.linspace(-1,2, 100)\n",
    "x2 = np.linspace(-1,2, 100)\n",
    "x3 = np.linspace(1,3, 100)\n",
    "plt.plot(x, f(x),x, np.zeros_like(x))\n",
    "plt.plot(x1, g(x))\n",
    "plt.plot(x2, h(x))\n",
    "plt.plot(x3, i(x))\n",
    "plt.show()"
   ]
  },
  {
   "cell_type": "code",
   "execution_count": 6,
   "id": "bead7c48-650f-4b10-8c14-ee482fbf6382",
   "metadata": {},
   "outputs": [
    {
     "data": {
      "text/plain": [
       "<matplotlib.legend.Legend at 0x7fac10d962d0>"
      ]
     },
     "execution_count": 6,
     "metadata": {},
     "output_type": "execute_result"
    },
    {
     "data": {
      "image/png": "[encoded data removed]",
      "text/plain": [
       "<Figure size 640x480 with 1 Axes>"
      ]
     },
     "metadata": {},
     "output_type": "display_data"
    }
   ],
   "source": [
    "a1=-3\n",
    "b1 = 0\n",
    "tolx=1.0e-12\n",
    "xk, it, v_xk = bisection(f, a1, b1, tolx)\n",
    "\n",
    "alpha = -2.0\n",
    "ek= np.abs(np.array(v_xk)-alpha)\n",
    "plt.semilogy(np.arange(it), ek,'ro')\n",
    "a2 = 1.5\n",
    "b2 = 2.5\n",
    "xk, it, v_xk = bisection(f, a2, b2, tolx)\n",
    "\n",
    "a3 = 4.5\n",
    "b3 = 8.7\n",
    "xk, it, v_xk = bisection(f, a3, b3, tolx)\n",
    "\n",
    "tolf=1.0e-12\n",
    "maxit=500\n",
    "a1=-3\n",
    "b1 = 0\n",
    "tolx=1.0e-12\n",
    "xk, itf, v_xkf = falses(f, a1, b1, tolx, tolf, maxit)\n",
    "\n",
    "alpha = -2.0\n",
    "ek= np.abs(np.array(v_xkf)-alpha)\n",
    "plt.semilogy(np.arange(itf), ek,'bs')\n",
    "a2 = 1.5\n",
    "b2 = 2.5\n",
    "xk, itf, v_xkf = falses(f, a2, b2, tolx, tolf, maxit)\n",
    "\n",
    "a3 = 4.5\n",
    "b3 = 8.7\n",
    "xk, itf, v_xkf = falses(f, a3, b3, tolx, tolf, maxit)\n",
    "plt.legend(['Bisection','Falses'])"
   ]
  },
  {
   "cell_type": "markdown",
   "id": "d9787fdd-725e-4803-b148-8a137e4335c8",
   "metadata": {},
   "source": [
    "## Esercizio 2\n",
    "\n",
    "- Utilizzare il metodo di bisezione per calcolare la radice quadrata di 2. Analizzate i risultati."
   ]
  },
  {
   "cell_type": "code",
   "execution_count": null,
   "id": "0875e93b-6300-464a-b9fb-614dccf1c924",
   "metadata": {},
   "outputs": [],
   "source": [
    "print(math.sqrt(2))\n",
    "fsqr = lambda x: x**2.0 - 2.0\n",
    "\n",
    "xk, it, v_xk = bisection(fsqr, 0.0, 5 ,tolx)\n",
    "print(\"zero: \", xk, \"iterazioni: \", it, )\n",
    "print(abs(math.sqrt(2)-xk))"
   ]
  },
  {
   "cell_type": "markdown",
   "id": "b83adaa1-7bed-4e12-9c11-4b0cd149a541",
   "metadata": {},
   "source": [
    "## Esercizio 3\n",
    "Scrivere una funzione numpy che calcola la norma infinito e la norma 1 di un vettore ed una matrice  e testarla su vettori e matrici  a propria scelta. Confrontarne i risultati con quelli ottenuti utilizzando la funzione norm di numpy.linalg\n",
    "\n",
    "(Ricorda la formula della norma infinito e della norma 1 di una matrice\n",
    "$||A||_\\infty= \\max_{j=1,n} \\sum_{i} |a_{ij}| $\n",
    "$\\quad ||A||_1= \\max_{i=1,n} \\sum_{j} |a_{ij}| $)"
   ]
  },
  {
   "cell_type": "code",
   "execution_count": null,
   "id": "15dd59f6-7b94-4247-8167-8bce666a5c29",
   "metadata": {},
   "outputs": [],
   "source": [
    "def normInf(A):\n",
    "    return np.max(np.sum(np.abs(A),axis=1))"
   ]
  },
  {
   "cell_type": "code",
   "execution_count": null,
   "id": "47cafd11-1594-4d60-93b8-5696f22a5135",
   "metadata": {},
   "outputs": [],
   "source": [
    "def normOne(A):\n",
    "    return np.max(np.sum(np.abs(A),axis=0))"
   ]
  },
  {
   "cell_type": "code",
   "execution_count": null,
   "id": "c3b5db10-c889-43aa-95fd-22141b6fea46",
   "metadata": {},
   "outputs": [],
   "source": [
    "B=np.array([[2.0],[3],[4],[5]])\n",
    "print(\"norm1: \", normOne(B),\"real: \", np.linalg.norm(B,1))\n",
    "print(\"normInf: \", normInf(B),\"real: \", np.linalg.norm(B,np.inf))"
   ]
  },
  {
   "cell_type": "markdown",
   "id": "1529f44f-dd62-4109-b9da-edd840811f55",
   "metadata": {},
   "source": [
    "## Esercizio 4\n",
    "Implementare una funzione che calcola la norma 2 di una  matrice facendo uso della funzione eigvals del pacchetto numpy.linalg, (np.linalg.eigvals(A)). Testarla sulla matrice A=np.array([[4,-1,6],[2,3,-3],[1,-2,9/2]])   e confrontarne i risultati con quelli ottenuti utilizzando la funzione norm di numpy.linalg"
   ]
  },
  {
   "cell_type": "code",
   "execution_count": null,
   "id": "51cd63ee-fe65-415f-811c-90646a08b5a4",
   "metadata": {},
   "outputs": [],
   "source": [
    "A=np.array([[4,-1,6],[2,3,-3],[1,-2,9/2]])\n",
    "\n",
    "def normTwo(A):\n",
    "    return np.sqrt(np.max(np.abs(np.linalg.eigvals(A.T@A))))\n",
    "\n",
    "print(\"norm2: \", normTwo(A),\"real: \", np.linalg.norm(A,2))"
   ]
  }
 ],
 "metadata": {
  "kernelspec": {
   "display_name": "Python 3 (ipykernel)",
   "language": "python",
   "name": "python3"
  },
  "language_info": {
   "codemirror_mode": {
    "name": "ipython",
    "version": 3
   },
   "file_extension": ".py",
   "mimetype": "text/x-python",
   "name": "python",
   "nbconvert_exporter": "python",
   "pygments_lexer": "ipython3",
   "version": "3.12.3"
  }
 },
 "nbformat": 4,
 "nbformat_minor": 5
}
