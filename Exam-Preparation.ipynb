{
 "cells": [
  {
   "cell_type": "markdown",
   "id": "dfde07b5-f3c8-401d-9d53-311afa18d46c",
   "metadata": {},
   "source": [
    "## Utilities for Exam"
   ]
  },
  {
   "cell_type": "code",
   "execution_count": 1,
   "id": "75730321-a15a-43e8-8f6b-6f3ff081f265",
   "metadata": {},
   "outputs": [],
   "source": [
    "import numpy as np\n",
    "import sympy as sim\n",
    "import scipy as sp\n",
    "import matplotlib.pyplot as plt"
   ]
  },
  {
   "cell_type": "markdown",
   "id": "e20d7a75-aea5-477c-9ee1-84a85b4cf526",
   "metadata": {},
   "source": [
    "### Matrix Conditions\n",
    "- The following blocks will display some function to check matrixes constraints."
   ]
  },
  {
   "cell_type": "code",
   "execution_count": 47,
   "id": "ef5c8d68-813f-496a-8585-f3207de5ce30",
   "metadata": {},
   "outputs": [],
   "source": [
    "# Check if a matrix is positively defined\n",
    "def is_positively_defined(A):\n",
    "    return np.all(np.linalg.eigvals(A) > 0)\n",
    "\n",
    "# Check if a matri is symmetric\n",
    "def is_symmetric(A, rtol=1e-05, atol=1e-08):\n",
    "    return np.allclose(A, A.T, rtol=rtol, atol=atol)\n",
    "\n",
    "# Check if the matrix has max rank\n",
    "def has_max_rank(A):\n",
    "    return A.shape[0]==np.linalg.matrix_rank(A)\n",
    "\n",
    "# Check if its a square matrix\n",
    "def is_square(A):\n",
    "    return A.shape[0]==A.shape[1]\n",
    "\n",
    "# Check if the matrix is well or ill conditioned\n",
    "\"\"\"\n",
    "Returns:\n",
    "- 1 if the matrix is well conditioned\n",
    "- 0 if is averagely poorly ill\n",
    "- -1 if is ill conditioned\n",
    "\"\"\"\n",
    "def matrix_condition(A):\n",
    "    cond=np.linalg.cond(A)\n",
    "    if cond < 10**2:\n",
    "        return 1\n",
    "    elif cond>=10**2 and cond<=10**3:\n",
    "        return 0\n",
    "    else:\n",
    "        return -1\n",
    "\n",
    "# Check if the singularity of a matrix\n",
    "def is_not_singular(A):\n",
    "    return np.linalg.det(A)!=0\n",
    "    \n",
    "# Check if the matrix is dense\n",
    "def is_dense(A):\n",
    "    return np.count_nonzero(A)>(1/3)*A.shape[0]*A.shape[1]\n",
    "\n",
    "# Check if the matrix is strictly diagonally dominant\n",
    "def is_diagonally_dominant(A):\n",
    "    abs_A = np.abs(A)\n",
    "    return np.all(2*np.diag(abs_A) > np.sum(abs_A, axis=1)) #|Aii| ≥ ∑j≠i |Aij|  =>  2|Aii| ≥ ∑j |Aij|.\n"
   ]
  },
  {
   "cell_type": "markdown",
   "id": "cf2b7998-b93a-471f-b48d-fc5e074e3a67",
   "metadata": {},
   "source": [
    "### Cholesky Factorization"
   ]
  },
  {
   "cell_type": "code",
   "execution_count": 48,
   "id": "2f440377-2a0d-4428-9595-1591f9dc1428",
   "metadata": {},
   "outputs": [],
   "source": [
    "def solve_cholesky(A,b):\n",
    "    if is_positively_defined(A) and is_symmetric(A):\n",
    "        L=cholesky(A,lower=True)\n",
    "        y=np.linalg.solve(L,b)\n",
    "        x=np.linal.solve(L.T,b)\n",
    "        return x\n",
    "    else:\n",
    "        print('Matrix does not meet requirements')"
   ]
  },
  {
   "cell_type": "code",
   "execution_count": null,
   "id": "b77e64c2-5ada-4a3b-8b28-5a61d53c6a82",
   "metadata": {},
   "outputs": [],
   "source": []
  }
 ],
 "metadata": {
  "kernelspec": {
   "display_name": "Python 3 (ipykernel)",
   "language": "python",
   "name": "python3"
  },
  "language_info": {
   "codemirror_mode": {
    "name": "ipython",
    "version": 3
   },
   "file_extension": ".py",
   "mimetype": "text/x-python",
   "name": "python",
   "nbconvert_exporter": "python",
   "pygments_lexer": "ipython3",
   "version": "3.12.3"
  }
 },
 "nbformat": 4,
 "nbformat_minor": 5
}
